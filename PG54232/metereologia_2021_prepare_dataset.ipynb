{
 "cells": [
  {
   "cell_type": "markdown",
   "id": "ca382dda",
   "metadata": {},
   "source": [
    "# Metereologia (2021) - Collected Data Analysis\n",
    "This is a jupyternotebook intended to read, understand and validate the data from the file \"meteo_202109-202112.csv\".\n",
    "\n",
    "> **Goals**:\n",
    ">\n",
    "> - Create a data frame;\n",
    "> - Create simpler labels;\n",
    "> - Validate values.\n",
    "\n",
    "\n",
    "##### We'll use \"pandas\" to read the **CSV** file and create a data frame from it."
   ]
  },
  {
   "cell_type": "code",
   "execution_count": 1,
   "id": "40805209",
   "metadata": {},
   "outputs": [],
   "source": [
    "import pandas as pd\n",
    "\n",
    "metereologia_2021 = pd.read_csv (\"meteo_202109-202112.csv\") #Use the portuguese encoding."
   ]
  },
  {
   "cell_type": "markdown",
   "id": "916ac1c2",
   "metadata": {},
   "source": [
    "##### Now we want to inspect the features labels:"
   ]
  },
  {
   "cell_type": "code",
   "execution_count": 2,
   "id": "ed603d82",
   "metadata": {
    "scrolled": true
   },
   "outputs": [
    {
     "data": {
      "text/plain": [
       "Index(['dt', 'dt_iso', 'city_name', 'temp', 'feels_like', 'temp_min',\n",
       "       'temp_max', 'pressure', 'sea_level', 'grnd_level', 'humidity',\n",
       "       'wind_speed', 'rain_1h', 'clouds_all', 'weather_description'],\n",
       "      dtype='object')"
      ]
     },
     "execution_count": 2,
     "metadata": {},
     "output_type": "execute_result"
    }
   ],
   "source": [
    "metereologia_2021.columns"
   ]
  },
  {
   "cell_type": "markdown",
   "id": "fb20891e",
   "metadata": {},
   "source": [
    "##### The labels are for now ok to work with.\n",
    "##### Now it's needed to check for the overall content of each feature."
   ]
  },
  {
   "cell_type": "code",
   "execution_count": 3,
   "id": "60ff82e3",
   "metadata": {},
   "outputs": [
    {
     "name": "stdout",
     "output_type": "stream",
     "text": [
      "<class 'pandas.core.frame.DataFrame'>\n",
      "RangeIndex: 2928 entries, 0 to 2927\n",
      "Data columns (total 15 columns):\n",
      " #   Column               Non-Null Count  Dtype  \n",
      "---  ------               --------------  -----  \n",
      " 0   dt                   2928 non-null   int64  \n",
      " 1   dt_iso               2928 non-null   object \n",
      " 2   city_name            2928 non-null   object \n",
      " 3   temp                 2928 non-null   float64\n",
      " 4   feels_like           2928 non-null   float64\n",
      " 5   temp_min             2928 non-null   float64\n",
      " 6   temp_max             2928 non-null   float64\n",
      " 7   pressure             2928 non-null   int64  \n",
      " 8   sea_level            0 non-null      float64\n",
      " 9   grnd_level           0 non-null      float64\n",
      " 10  humidity             2928 non-null   int64  \n",
      " 11  wind_speed           2928 non-null   float64\n",
      " 12  rain_1h              537 non-null    float64\n",
      " 13  clouds_all           2928 non-null   int64  \n",
      " 14  weather_description  2928 non-null   object \n",
      "dtypes: float64(8), int64(4), object(3)\n",
      "memory usage: 343.3+ KB\n"
     ]
    }
   ],
   "source": [
    "metereologia_2021.info()"
   ]
  },
  {
   "cell_type": "markdown",
   "id": "39de2c18",
   "metadata": {},
   "source": [
    "#### This approach showed us something that make us relutant about the content of the values on the features *No.8*: \"sea_level\", *No.9*: \"grnd_level\", and *No.12*: \"rain_1h\".  "
   ]
  },
  {
   "cell_type": "code",
   "execution_count": 4,
   "id": "ac327308",
   "metadata": {},
   "outputs": [
    {
     "data": {
      "text/html": [
       "<div>\n",
       "<style scoped>\n",
       "    .dataframe tbody tr th:only-of-type {\n",
       "        vertical-align: middle;\n",
       "    }\n",
       "\n",
       "    .dataframe tbody tr th {\n",
       "        vertical-align: top;\n",
       "    }\n",
       "\n",
       "    .dataframe thead th {\n",
       "        text-align: right;\n",
       "    }\n",
       "</style>\n",
       "<table border=\"1\" class=\"dataframe\">\n",
       "  <thead>\n",
       "    <tr style=\"text-align: right;\">\n",
       "      <th></th>\n",
       "      <th>dt</th>\n",
       "      <th>dt_iso</th>\n",
       "      <th>city_name</th>\n",
       "      <th>temp</th>\n",
       "      <th>feels_like</th>\n",
       "      <th>temp_min</th>\n",
       "      <th>temp_max</th>\n",
       "      <th>pressure</th>\n",
       "      <th>sea_level</th>\n",
       "      <th>grnd_level</th>\n",
       "      <th>humidity</th>\n",
       "      <th>wind_speed</th>\n",
       "      <th>rain_1h</th>\n",
       "      <th>clouds_all</th>\n",
       "      <th>weather_description</th>\n",
       "    </tr>\n",
       "  </thead>\n",
       "  <tbody>\n",
       "    <tr>\n",
       "      <th>0</th>\n",
       "      <td>1630454400</td>\n",
       "      <td>2021-09-01 00:00:00 +0000 UTC</td>\n",
       "      <td>local</td>\n",
       "      <td>18.74</td>\n",
       "      <td>18.84</td>\n",
       "      <td>15.72</td>\n",
       "      <td>20.34</td>\n",
       "      <td>1015</td>\n",
       "      <td>NaN</td>\n",
       "      <td>NaN</td>\n",
       "      <td>83</td>\n",
       "      <td>1.18</td>\n",
       "      <td>NaN</td>\n",
       "      <td>78</td>\n",
       "      <td>broken clouds</td>\n",
       "    </tr>\n",
       "    <tr>\n",
       "      <th>1</th>\n",
       "      <td>1630458000</td>\n",
       "      <td>2021-09-01 01:00:00 +0000 UTC</td>\n",
       "      <td>local</td>\n",
       "      <td>18.73</td>\n",
       "      <td>18.83</td>\n",
       "      <td>15.72</td>\n",
       "      <td>20.34</td>\n",
       "      <td>1014</td>\n",
       "      <td>NaN</td>\n",
       "      <td>NaN</td>\n",
       "      <td>83</td>\n",
       "      <td>1.46</td>\n",
       "      <td>NaN</td>\n",
       "      <td>92</td>\n",
       "      <td>overcast clouds</td>\n",
       "    </tr>\n",
       "    <tr>\n",
       "      <th>2</th>\n",
       "      <td>1630461600</td>\n",
       "      <td>2021-09-01 02:00:00 +0000 UTC</td>\n",
       "      <td>local</td>\n",
       "      <td>17.84</td>\n",
       "      <td>17.98</td>\n",
       "      <td>16.72</td>\n",
       "      <td>20.34</td>\n",
       "      <td>1014</td>\n",
       "      <td>NaN</td>\n",
       "      <td>NaN</td>\n",
       "      <td>88</td>\n",
       "      <td>1.05</td>\n",
       "      <td>NaN</td>\n",
       "      <td>91</td>\n",
       "      <td>overcast clouds</td>\n",
       "    </tr>\n",
       "    <tr>\n",
       "      <th>3</th>\n",
       "      <td>1630465200</td>\n",
       "      <td>2021-09-01 03:00:00 +0000 UTC</td>\n",
       "      <td>local</td>\n",
       "      <td>18.27</td>\n",
       "      <td>18.40</td>\n",
       "      <td>16.68</td>\n",
       "      <td>20.34</td>\n",
       "      <td>1014</td>\n",
       "      <td>NaN</td>\n",
       "      <td>NaN</td>\n",
       "      <td>86</td>\n",
       "      <td>0.46</td>\n",
       "      <td>0.14</td>\n",
       "      <td>94</td>\n",
       "      <td>light rain</td>\n",
       "    </tr>\n",
       "    <tr>\n",
       "      <th>4</th>\n",
       "      <td>1630468800</td>\n",
       "      <td>2021-09-01 04:00:00 +0000 UTC</td>\n",
       "      <td>local</td>\n",
       "      <td>17.81</td>\n",
       "      <td>17.97</td>\n",
       "      <td>16.12</td>\n",
       "      <td>20.34</td>\n",
       "      <td>1013</td>\n",
       "      <td>NaN</td>\n",
       "      <td>NaN</td>\n",
       "      <td>89</td>\n",
       "      <td>0.93</td>\n",
       "      <td>1.26</td>\n",
       "      <td>95</td>\n",
       "      <td>moderate rain</td>\n",
       "    </tr>\n",
       "  </tbody>\n",
       "</table>\n",
       "</div>"
      ],
      "text/plain": [
       "           dt                         dt_iso city_name   temp  feels_like  \\\n",
       "0  1630454400  2021-09-01 00:00:00 +0000 UTC     local  18.74       18.84   \n",
       "1  1630458000  2021-09-01 01:00:00 +0000 UTC     local  18.73       18.83   \n",
       "2  1630461600  2021-09-01 02:00:00 +0000 UTC     local  17.84       17.98   \n",
       "3  1630465200  2021-09-01 03:00:00 +0000 UTC     local  18.27       18.40   \n",
       "4  1630468800  2021-09-01 04:00:00 +0000 UTC     local  17.81       17.97   \n",
       "\n",
       "   temp_min  temp_max  pressure  sea_level  grnd_level  humidity  wind_speed  \\\n",
       "0     15.72     20.34      1015        NaN         NaN        83        1.18   \n",
       "1     15.72     20.34      1014        NaN         NaN        83        1.46   \n",
       "2     16.72     20.34      1014        NaN         NaN        88        1.05   \n",
       "3     16.68     20.34      1014        NaN         NaN        86        0.46   \n",
       "4     16.12     20.34      1013        NaN         NaN        89        0.93   \n",
       "\n",
       "   rain_1h  clouds_all weather_description  \n",
       "0      NaN          78       broken clouds  \n",
       "1      NaN          92     overcast clouds  \n",
       "2      NaN          91     overcast clouds  \n",
       "3     0.14          94          light rain  \n",
       "4     1.26          95       moderate rain  "
      ]
     },
     "execution_count": 4,
     "metadata": {},
     "output_type": "execute_result"
    }
   ],
   "source": [
    "metereologia_2021.head()"
   ]
  },
  {
   "cell_type": "markdown",
   "id": "e3f18121",
   "metadata": {},
   "source": [
    "The 3 features are linked to **float's** data type.\\\n",
    "No doubt it's a missing values case."
   ]
  },
  {
   "cell_type": "code",
   "execution_count": 5,
   "id": "99866cfa",
   "metadata": {},
   "outputs": [
    {
     "data": {
      "text/plain": [
       "<Axes: >"
      ]
     },
     "execution_count": 5,
     "metadata": {},
     "output_type": "execute_result"
    },
    {
     "data": {
      "image/png": "[encoded data removed]",
      "text/plain": [
       "<Figure size 640x480 with 1 Axes>"
      ]
     },
     "metadata": {},
     "output_type": "display_data"
    }
   ],
   "source": [
    "import seaborn as sns\n",
    "\n",
    "sns.heatmap (metereologia_2021.isnull(), yticklabels=False, cbar=False, cmap='viridis')"
   ]
  },
  {
   "cell_type": "markdown",
   "id": "ff551fcf",
   "metadata": {},
   "source": [
    "#### No doubt it's a drop feature case."
   ]
  },
  {
   "cell_type": "code",
   "execution_count": 6,
   "id": "6eb95b29",
   "metadata": {},
   "outputs": [],
   "source": [
    "metereologia_2021.drop ('sea_level', axis=1, inplace=True)\n",
    "metereologia_2021.drop ('grnd_level', axis=1, inplace=True)\n",
    "metereologia_2021.drop ('rain_1h', axis=1, inplace=True)"
   ]
  },
  {
   "cell_type": "markdown",
   "id": "34bf4b3c",
   "metadata": {},
   "source": [
    "#### We check the data frame once more:"
   ]
  },
  {
   "cell_type": "code",
   "execution_count": 7,
   "id": "75e499dc",
   "metadata": {},
   "outputs": [
    {
     "name": "stdout",
     "output_type": "stream",
     "text": [
      "<class 'pandas.core.frame.DataFrame'>\n",
      "RangeIndex: 2928 entries, 0 to 2927\n",
      "Data columns (total 12 columns):\n",
      " #   Column               Non-Null Count  Dtype  \n",
      "---  ------               --------------  -----  \n",
      " 0   dt                   2928 non-null   int64  \n",
      " 1   dt_iso               2928 non-null   object \n",
      " 2   city_name            2928 non-null   object \n",
      " 3   temp                 2928 non-null   float64\n",
      " 4   feels_like           2928 non-null   float64\n",
      " 5   temp_min             2928 non-null   float64\n",
      " 6   temp_max             2928 non-null   float64\n",
      " 7   pressure             2928 non-null   int64  \n",
      " 8   humidity             2928 non-null   int64  \n",
      " 9   wind_speed           2928 non-null   float64\n",
      " 10  clouds_all           2928 non-null   int64  \n",
      " 11  weather_description  2928 non-null   object \n",
      "dtypes: float64(5), int64(4), object(3)\n",
      "memory usage: 274.6+ KB\n"
     ]
    }
   ],
   "source": [
    "metereologia_2021.info()"
   ]
  },
  {
   "cell_type": "markdown",
   "id": "c518bc35",
   "metadata": {},
   "source": [
    "We'll now proceed to inspect feature **No. 11**: \"weather_description\".\\\n",
    "As a qualitative measure, it is a categorical feature that we want to know more details about.\\\n",
    "We'll check all the categories in it."
   ]
  },
  {
   "cell_type": "code",
   "execution_count": 8,
   "id": "e6d0eac2",
   "metadata": {},
   "outputs": [
    {
     "data": {
      "text/plain": [
       "weather_description\n",
       "sky is clear            795\n",
       "overcast clouds         667\n",
       "light rain              412\n",
       "broken clouds           402\n",
       "scattered clouds        324\n",
       "few clouds              203\n",
       "moderate rain           110\n",
       "heavy intensity rain     15\n",
       "Name: count, dtype: int64"
      ]
     },
     "execution_count": 8,
     "metadata": {},
     "output_type": "execute_result"
    }
   ],
   "source": [
    "metereologia_2021['weather_description'].value_counts()"
   ]
  },
  {
   "cell_type": "markdown",
   "id": "54a814df",
   "metadata": {},
   "source": [
    "#### We conclude that we know nothing about the relation between those categories and the problem in ends.\n",
    "#### We'll keep it as it is for now."
   ]
  },
  {
   "cell_type": "code",
   "execution_count": 9,
   "id": "50614a8e",
   "metadata": {},
   "outputs": [
    {
     "name": "stdout",
     "output_type": "stream",
     "text": [
      "<class 'pandas.core.frame.DataFrame'>\n",
      "RangeIndex: 2928 entries, 0 to 2927\n",
      "Data columns (total 12 columns):\n",
      " #   Column               Non-Null Count  Dtype  \n",
      "---  ------               --------------  -----  \n",
      " 0   dt                   2928 non-null   int64  \n",
      " 1   dt_iso               2928 non-null   object \n",
      " 2   city_name            2928 non-null   object \n",
      " 3   temp                 2928 non-null   float64\n",
      " 4   feels_like           2928 non-null   float64\n",
      " 5   temp_min             2928 non-null   float64\n",
      " 6   temp_max             2928 non-null   float64\n",
      " 7   pressure             2928 non-null   int64  \n",
      " 8   humidity             2928 non-null   int64  \n",
      " 9   wind_speed           2928 non-null   float64\n",
      " 10  clouds_all           2928 non-null   int64  \n",
      " 11  weather_description  2928 non-null   object \n",
      "dtypes: float64(5), int64(4), object(3)\n",
      "memory usage: 274.6+ KB\n"
     ]
    }
   ],
   "source": [
    "metereologia_2021.info()"
   ]
  },
  {
   "cell_type": "markdown",
   "id": "f758e629",
   "metadata": {},
   "source": [
    "We'll now proceed to inspect feature **No. 2**: \"city_name\"."
   ]
  },
  {
   "cell_type": "code",
   "execution_count": 10,
   "id": "bcdeccfb",
   "metadata": {},
   "outputs": [
    {
     "data": {
      "text/plain": [
       "city_name\n",
       "local    2928\n",
       "Name: count, dtype: int64"
      ]
     },
     "execution_count": 10,
     "metadata": {},
     "output_type": "execute_result"
    }
   ],
   "source": [
    "metereologia_2021['city_name'].value_counts()"
   ]
  },
  {
   "cell_type": "markdown",
   "id": "8f445ed6",
   "metadata": {},
   "source": [
    "We'll drop it."
   ]
  },
  {
   "cell_type": "code",
   "execution_count": 11,
   "id": "1fdd30e1",
   "metadata": {},
   "outputs": [
    {
     "name": "stdout",
     "output_type": "stream",
     "text": [
      "<class 'pandas.core.frame.DataFrame'>\n",
      "RangeIndex: 2928 entries, 0 to 2927\n",
      "Data columns (total 11 columns):\n",
      " #   Column               Non-Null Count  Dtype  \n",
      "---  ------               --------------  -----  \n",
      " 0   dt                   2928 non-null   int64  \n",
      " 1   dt_iso               2928 non-null   object \n",
      " 2   temp                 2928 non-null   float64\n",
      " 3   feels_like           2928 non-null   float64\n",
      " 4   temp_min             2928 non-null   float64\n",
      " 5   temp_max             2928 non-null   float64\n",
      " 6   pressure             2928 non-null   int64  \n",
      " 7   humidity             2928 non-null   int64  \n",
      " 8   wind_speed           2928 non-null   float64\n",
      " 9   clouds_all           2928 non-null   int64  \n",
      " 10  weather_description  2928 non-null   object \n",
      "dtypes: float64(5), int64(4), object(2)\n",
      "memory usage: 251.8+ KB\n"
     ]
    }
   ],
   "source": [
    "metereologia_2021.drop('city_name', axis=1, inplace=True)\n",
    "metereologia_2021.info()"
   ]
  },
  {
   "cell_type": "markdown",
   "id": "1f075077",
   "metadata": {},
   "source": [
    "#### Date as iso it will prevail from now.\n",
    "#### Further needed work will be put in practice when we decide what to engeneer with that feature."
   ]
  },
  {
   "cell_type": "markdown",
   "id": "85a7630f",
   "metadata": {},
   "source": [
    "### Conclusion\n",
    "\n",
    "#### Since we have work to do with this dataset further on, we'll export the clean & ready-to-go dataframe to a csv."
   ]
  },
  {
   "cell_type": "code",
   "execution_count": 13,
   "id": "a8da1296",
   "metadata": {},
   "outputs": [],
   "source": [
    "metereologia_2021.to_csv(\"metereologia_2021.csv\")"
   ]
  }
 ],
 "metadata": {
  "kernelspec": {
   "display_name": "Python 3 (ipykernel)",
   "language": "python",
   "name": "python3"
  },
  "language_info": {
   "codemirror_mode": {
    "name": "ipython",
    "version": 3
   },
   "file_extension": ".py",
   "mimetype": "text/x-python",
   "name": "python",
   "nbconvert_exporter": "python",
   "pygments_lexer": "ipython3",
   "version": "3.11.5"
  }
 },
 "nbformat": 4,
 "nbformat_minor": 5
}
