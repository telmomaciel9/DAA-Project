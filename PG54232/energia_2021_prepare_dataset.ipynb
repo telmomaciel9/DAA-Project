{
 "cells": [
  {
   "cell_type": "markdown",
   "id": "b4bb4d41",
   "metadata": {},
   "source": [
    "# Energia Injetada (2021) - Collected Data Analysis\n",
    "This is a jupyternotebook intended to read, understand and validate the data from the file \"energia_202109-202112.csv\".\n",
    "\n",
    "> **Goals**:\n",
    ">\n",
    "> - Create a data frame;\n",
    "> - Create simpler labels;\n",
    "> - Validate values.\n"
   ]
  },
  {
   "cell_type": "markdown",
   "id": "8d327d1c",
   "metadata": {},
   "source": [
    "##### We'll use \"pandas\" to read the **CSV** file and create a data frame from it."
   ]
  },
  {
   "cell_type": "code",
   "execution_count": 1,
   "id": "8db4b758",
   "metadata": {},
   "outputs": [],
   "source": [
    "import pandas as pd\n",
    "\n",
    "energia_2021 = pd.read_csv (\"energia_202109-202112.csv\", encoding='IBM860') #Use the portuguese encoding."
   ]
  },
  {
   "cell_type": "markdown",
   "id": "7813d6a4",
   "metadata": {},
   "source": [
    "##### Now we want to inspect the features labels:"
   ]
  },
  {
   "cell_type": "code",
   "execution_count": 2,
   "id": "f126e1df",
   "metadata": {},
   "outputs": [
    {
     "data": {
      "text/plain": [
       "Index(['Data', 'Hora', 'Normal (kWh)', 'Horßrio Econ≤mico (kWh)',\n",
       "       'Autoconsumo (kWh)', 'Injeτπo na rede (kWh)'],\n",
       "      dtype='object')"
      ]
     },
     "execution_count": 2,
     "metadata": {},
     "output_type": "execute_result"
    }
   ],
   "source": [
    "energia_2021.columns"
   ]
  },
  {
   "cell_type": "markdown",
   "id": "7819487f",
   "metadata": {},
   "source": [
    "##### With this approach we conclude that although the file was readed with the right encode, \"pandas\" does not support it internally.\n",
    "##### For that reason we will convert the labels to an 'UTF-8' encode."
   ]
  },
  {
   "cell_type": "code",
   "execution_count": 3,
   "id": "44f2169b",
   "metadata": {},
   "outputs": [],
   "source": [
    "energia_2021.rename (columns={\"Horßrio Econ≤mico (kWh)\": \"Economic (kWh)\"}, inplace=True)\n",
    "energia_2021.rename (columns={\"Injeτπo na rede (kWh)\": \"Injection (kWh)\"}, inplace=True)"
   ]
  },
  {
   "cell_type": "markdown",
   "id": "a9585d78",
   "metadata": {},
   "source": [
    "##### Once more we shall check the results as above:"
   ]
  },
  {
   "cell_type": "code",
   "execution_count": 4,
   "id": "61be9f37",
   "metadata": {},
   "outputs": [
    {
     "data": {
      "text/plain": [
       "Index(['Data', 'Hora', 'Normal (kWh)', 'Economic (kWh)', 'Autoconsumo (kWh)',\n",
       "       'Injection (kWh)'],\n",
       "      dtype='object')"
      ]
     },
     "execution_count": 4,
     "metadata": {},
     "output_type": "execute_result"
    }
   ],
   "source": [
    "energia_2021.columns"
   ]
  },
  {
   "cell_type": "markdown",
   "id": "b74b30f9",
   "metadata": {},
   "source": [
    "##### The labels are for now ok to work with.\n",
    "##### Now it's needed to check for the overall content of each feature."
   ]
  },
  {
   "cell_type": "code",
   "execution_count": 5,
   "id": "40f835ca",
   "metadata": {},
   "outputs": [
    {
     "name": "stdout",
     "output_type": "stream",
     "text": [
      "<class 'pandas.core.frame.DataFrame'>\n",
      "RangeIndex: 2256 entries, 0 to 2255\n",
      "Data columns (total 6 columns):\n",
      " #   Column             Non-Null Count  Dtype  \n",
      "---  ------             --------------  -----  \n",
      " 0   Data               2256 non-null   object \n",
      " 1   Hora               2256 non-null   int64  \n",
      " 2   Normal (kWh)       2256 non-null   float64\n",
      " 3   Economic (kWh)     2256 non-null   float64\n",
      " 4   Autoconsumo (kWh)  2256 non-null   float64\n",
      " 5   Injection (kWh)    566 non-null    object \n",
      "dtypes: float64(3), int64(1), object(2)\n",
      "memory usage: 105.9+ KB\n"
     ]
    }
   ],
   "source": [
    "energia_2021.info()"
   ]
  },
  {
   "cell_type": "markdown",
   "id": "f5d9d33f",
   "metadata": {},
   "source": [
    "##### This approach showed us something that make us relutant about the content of the values on the feature **No.5**: \"Injectin (kWh)\"."
   ]
  },
  {
   "cell_type": "code",
   "execution_count": 6,
   "id": "8bd0604d",
   "metadata": {},
   "outputs": [
    {
     "data": {
      "text/html": [
       "<div>\n",
       "<style scoped>\n",
       "    .dataframe tbody tr th:only-of-type {\n",
       "        vertical-align: middle;\n",
       "    }\n",
       "\n",
       "    .dataframe tbody tr th {\n",
       "        vertical-align: top;\n",
       "    }\n",
       "\n",
       "    .dataframe thead th {\n",
       "        text-align: right;\n",
       "    }\n",
       "</style>\n",
       "<table border=\"1\" class=\"dataframe\">\n",
       "  <thead>\n",
       "    <tr style=\"text-align: right;\">\n",
       "      <th></th>\n",
       "      <th>Data</th>\n",
       "      <th>Hora</th>\n",
       "      <th>Normal (kWh)</th>\n",
       "      <th>Economic (kWh)</th>\n",
       "      <th>Autoconsumo (kWh)</th>\n",
       "      <th>Injection (kWh)</th>\n",
       "    </tr>\n",
       "  </thead>\n",
       "  <tbody>\n",
       "    <tr>\n",
       "      <th>0</th>\n",
       "      <td>2021-09-29</td>\n",
       "      <td>0</td>\n",
       "      <td>0.0</td>\n",
       "      <td>0.0</td>\n",
       "      <td>0.0</td>\n",
       "      <td>NaN</td>\n",
       "    </tr>\n",
       "    <tr>\n",
       "      <th>1</th>\n",
       "      <td>2021-09-29</td>\n",
       "      <td>1</td>\n",
       "      <td>0.0</td>\n",
       "      <td>0.0</td>\n",
       "      <td>0.0</td>\n",
       "      <td>NaN</td>\n",
       "    </tr>\n",
       "    <tr>\n",
       "      <th>2</th>\n",
       "      <td>2021-09-29</td>\n",
       "      <td>2</td>\n",
       "      <td>0.0</td>\n",
       "      <td>0.0</td>\n",
       "      <td>0.0</td>\n",
       "      <td>NaN</td>\n",
       "    </tr>\n",
       "    <tr>\n",
       "      <th>3</th>\n",
       "      <td>2021-09-29</td>\n",
       "      <td>3</td>\n",
       "      <td>0.0</td>\n",
       "      <td>0.0</td>\n",
       "      <td>0.0</td>\n",
       "      <td>NaN</td>\n",
       "    </tr>\n",
       "    <tr>\n",
       "      <th>4</th>\n",
       "      <td>2021-09-29</td>\n",
       "      <td>4</td>\n",
       "      <td>0.0</td>\n",
       "      <td>0.0</td>\n",
       "      <td>0.0</td>\n",
       "      <td>NaN</td>\n",
       "    </tr>\n",
       "  </tbody>\n",
       "</table>\n",
       "</div>"
      ],
      "text/plain": [
       "         Data  Hora  Normal (kWh)  Economic (kWh)  Autoconsumo (kWh)  \\\n",
       "0  2021-09-29     0           0.0             0.0                0.0   \n",
       "1  2021-09-29     1           0.0             0.0                0.0   \n",
       "2  2021-09-29     2           0.0             0.0                0.0   \n",
       "3  2021-09-29     3           0.0             0.0                0.0   \n",
       "4  2021-09-29     4           0.0             0.0                0.0   \n",
       "\n",
       "  Injection (kWh)  \n",
       "0             NaN  \n",
       "1             NaN  \n",
       "2             NaN  \n",
       "3             NaN  \n",
       "4             NaN  "
      ]
     },
     "execution_count": 6,
     "metadata": {},
     "output_type": "execute_result"
    }
   ],
   "source": [
    "energia_2021.head()"
   ]
  },
  {
   "cell_type": "markdown",
   "id": "7d4ad519",
   "metadata": {},
   "source": [
    "##### Luckly we were able to encounter the problem.\n",
    "##### Nontheless, we make a further inspection through the values of the feature in current investigation."
   ]
  },
  {
   "cell_type": "code",
   "execution_count": 7,
   "id": "094ce58b",
   "metadata": {},
   "outputs": [
    {
     "name": "stdout",
     "output_type": "stream",
     "text": [
      "{'Medium', nan, 'High', 'Low', 'Very High'}\n"
     ]
    }
   ],
   "source": [
    "values = set()\n",
    "for value in energia_2021[\"Injection (kWh)\"]:\n",
    "    values.add(value)\n",
    "print (values)"
   ]
  },
  {
   "cell_type": "markdown",
   "id": "639a8843",
   "metadata": {},
   "source": [
    "The problem it's that the value of this categorical feature has a 'None' as a class value.\\\n",
    "When readed from ***python*** make's it a null variable object, in this case, it is recognized as a **NaN** (Not a Number).\n",
    "\n",
    "Enceforth we shall procide with a subtle tranformation of this categorical feature.\\\n",
    "Once this categorical feature has an **order** between values, we'll proceed to transform it into a numerical ordinal one.\n",
    "- ***None:*** 0\n",
    "- ***Low:*** 1\n",
    "- ***Medium:*** 2\n",
    "- ***High:*** 3\n",
    "- ***Very High:*** 4"
   ]
  },
  {
   "cell_type": "code",
   "execution_count": 8,
   "id": "1d533a6a",
   "metadata": {},
   "outputs": [],
   "source": [
    "def no5_to_ordinal (columns):\n",
    "    Injection = columns[0]\n",
    "    \n",
    "    if pd.isnull(Injection):\n",
    "        return 0\n",
    "   \n",
    "    elif Injection == \"Low\":\n",
    "        return 1\n",
    "    \n",
    "    elif Injection == \"Medium\":\n",
    "        return 2\n",
    "    \n",
    "    elif Injection == \"High\":\n",
    "        return 3\n",
    "    \n",
    "    elif Injection == \"Very High\":\n",
    "        return 4"
   ]
  },
  {
   "cell_type": "markdown",
   "id": "9a1c654c",
   "metadata": {},
   "source": [
    "To check if the transformation was correctly applied we'll index the correspondent category thrugh a ***dictionary*** before and after the transformation.\n",
    "\n",
    "#### Henceforth, before:\n",
    "> ...\n",
    ">\n",
    "> 100: NaN\n",
    ">\n",
    "> 101: \"Low\"\n",
    ">\n",
    "> 102: \"Medium\"\n",
    ">\n",
    "> 103: \"High\"\n",
    ">\n",
    "> 104: \"Very High\"\n",
    ">\n",
    "> ..."
   ]
  },
  {
   "cell_type": "code",
   "execution_count": 9,
   "id": "ec1dbd80",
   "metadata": {},
   "outputs": [],
   "source": [
    "id_no5_categorical = {}\n",
    "index = 0\n",
    "for value in energia_2021[\"Injection (kWh)\"]:\n",
    "    id_no5_categorical[index] = value\n",
    "    index+=1"
   ]
  },
  {
   "cell_type": "markdown",
   "id": "8edee3a3",
   "metadata": {},
   "source": [
    "#### Apply the transformation:"
   ]
  },
  {
   "cell_type": "code",
   "execution_count": 10,
   "id": "adc055ab",
   "metadata": {},
   "outputs": [],
   "source": [
    "energia_2021[\"Injection (kWh)\"] = energia_2021[['Injection (kWh)']].apply(no5_to_ordinal, axis=1)"
   ]
  },
  {
   "cell_type": "markdown",
   "id": "87a4f378",
   "metadata": {},
   "source": [
    "#### Henceforth, after:\n",
    "> ...\n",
    ">\n",
    "> 100: 0\n",
    ">\n",
    "> 101: 1\n",
    ">\n",
    "> 102: 2\n",
    ">\n",
    "> 103: 3\n",
    ">\n",
    "> 104: 4\n",
    ">\n",
    "> ..."
   ]
  },
  {
   "cell_type": "code",
   "execution_count": 11,
   "id": "d9237137",
   "metadata": {},
   "outputs": [],
   "source": [
    "id_no5_ordinal = {}\n",
    "index = 0\n",
    "for value in energia_2021[\"Injection (kWh)\"]:\n",
    "    id_no5_ordinal[index] = value\n",
    "    index+=1"
   ]
  },
  {
   "cell_type": "markdown",
   "id": "3d117b46",
   "metadata": {},
   "source": [
    "#### Check the correctness of the transformation:"
   ]
  },
  {
   "cell_type": "code",
   "execution_count": 12,
   "id": "eca21f35",
   "metadata": {},
   "outputs": [
    {
     "name": "stdout",
     "output_type": "stream",
     "text": [
      "0\n"
     ]
    }
   ],
   "source": [
    "import math\n",
    "\n",
    "error = 0 #no error\n",
    "if len(id_no5_categorical) == len(id_no5_ordinal):\n",
    "    for index in range(len(id_no5_ordinal)):\n",
    "        if ( str(id_no5_categorical[index]) == 'nan' and id_no5_ordinal[index] == 0):\n",
    "            pass\n",
    "        elif ( str(id_no5_categorical[index]) == \"Low\" and id_no5_ordinal[index] == 1):\n",
    "            pass\n",
    "        elif ( str(id_no5_categorical[index]) == \"Medium\" and id_no5_ordinal[index] == 2):\n",
    "            pass\n",
    "        elif ( str(id_no5_categorical[index]) == \"High\" and id_no5_ordinal[index] == 3):\n",
    "            pass\n",
    "        elif ( str(id_no5_categorical[index]) == \"Very High\" and id_no5_ordinal[index] == 4):\n",
    "            pass\n",
    "        else:\n",
    "            error = 1 #wrong transformation\n",
    "            print (\"Error: Transformation gonne wrong!\")\n",
    "            break\n",
    "            \n",
    "if len(id_no5_categorical) != len(id_no5_ordinal):\n",
    "    error = 2 #data loss\n",
    "    print (\"Error: Data Size Structures does not match!\")\n",
    "\n",
    "#Verbose\n",
    "print (error)"
   ]
  },
  {
   "cell_type": "markdown",
   "id": "31a6685e",
   "metadata": {},
   "source": [
    "#### We check the data frame once more:"
   ]
  },
  {
   "cell_type": "code",
   "execution_count": 13,
   "id": "524f5488",
   "metadata": {},
   "outputs": [
    {
     "name": "stdout",
     "output_type": "stream",
     "text": [
      "<class 'pandas.core.frame.DataFrame'>\n",
      "RangeIndex: 2256 entries, 0 to 2255\n",
      "Data columns (total 6 columns):\n",
      " #   Column             Non-Null Count  Dtype  \n",
      "---  ------             --------------  -----  \n",
      " 0   Data               2256 non-null   object \n",
      " 1   Hora               2256 non-null   int64  \n",
      " 2   Normal (kWh)       2256 non-null   float64\n",
      " 3   Economic (kWh)     2256 non-null   float64\n",
      " 4   Autoconsumo (kWh)  2256 non-null   float64\n",
      " 5   Injection (kWh)    2256 non-null   int64  \n",
      "dtypes: float64(3), int64(2), object(1)\n",
      "memory usage: 105.9+ KB\n"
     ]
    },
    {
     "data": {
      "text/html": [
       "<div>\n",
       "<style scoped>\n",
       "    .dataframe tbody tr th:only-of-type {\n",
       "        vertical-align: middle;\n",
       "    }\n",
       "\n",
       "    .dataframe tbody tr th {\n",
       "        vertical-align: top;\n",
       "    }\n",
       "\n",
       "    .dataframe thead th {\n",
       "        text-align: right;\n",
       "    }\n",
       "</style>\n",
       "<table border=\"1\" class=\"dataframe\">\n",
       "  <thead>\n",
       "    <tr style=\"text-align: right;\">\n",
       "      <th></th>\n",
       "      <th>Data</th>\n",
       "      <th>Hora</th>\n",
       "      <th>Normal (kWh)</th>\n",
       "      <th>Economic (kWh)</th>\n",
       "      <th>Autoconsumo (kWh)</th>\n",
       "      <th>Injection (kWh)</th>\n",
       "    </tr>\n",
       "  </thead>\n",
       "  <tbody>\n",
       "    <tr>\n",
       "      <th>0</th>\n",
       "      <td>2021-09-29</td>\n",
       "      <td>0</td>\n",
       "      <td>0.0</td>\n",
       "      <td>0.0</td>\n",
       "      <td>0.0</td>\n",
       "      <td>0</td>\n",
       "    </tr>\n",
       "    <tr>\n",
       "      <th>1</th>\n",
       "      <td>2021-09-29</td>\n",
       "      <td>1</td>\n",
       "      <td>0.0</td>\n",
       "      <td>0.0</td>\n",
       "      <td>0.0</td>\n",
       "      <td>0</td>\n",
       "    </tr>\n",
       "    <tr>\n",
       "      <th>2</th>\n",
       "      <td>2021-09-29</td>\n",
       "      <td>2</td>\n",
       "      <td>0.0</td>\n",
       "      <td>0.0</td>\n",
       "      <td>0.0</td>\n",
       "      <td>0</td>\n",
       "    </tr>\n",
       "    <tr>\n",
       "      <th>3</th>\n",
       "      <td>2021-09-29</td>\n",
       "      <td>3</td>\n",
       "      <td>0.0</td>\n",
       "      <td>0.0</td>\n",
       "      <td>0.0</td>\n",
       "      <td>0</td>\n",
       "    </tr>\n",
       "    <tr>\n",
       "      <th>4</th>\n",
       "      <td>2021-09-29</td>\n",
       "      <td>4</td>\n",
       "      <td>0.0</td>\n",
       "      <td>0.0</td>\n",
       "      <td>0.0</td>\n",
       "      <td>0</td>\n",
       "    </tr>\n",
       "  </tbody>\n",
       "</table>\n",
       "</div>"
      ],
      "text/plain": [
       "         Data  Hora  Normal (kWh)  Economic (kWh)  Autoconsumo (kWh)  \\\n",
       "0  2021-09-29     0           0.0             0.0                0.0   \n",
       "1  2021-09-29     1           0.0             0.0                0.0   \n",
       "2  2021-09-29     2           0.0             0.0                0.0   \n",
       "3  2021-09-29     3           0.0             0.0                0.0   \n",
       "4  2021-09-29     4           0.0             0.0                0.0   \n",
       "\n",
       "   Injection (kWh)  \n",
       "0                0  \n",
       "1                0  \n",
       "2                0  \n",
       "3                0  \n",
       "4                0  "
      ]
     },
     "execution_count": 13,
     "metadata": {},
     "output_type": "execute_result"
    }
   ],
   "source": [
    "energia_2021.info()\n",
    "energia_2021.head()"
   ]
  },
  {
   "cell_type": "markdown",
   "id": "0606eee7",
   "metadata": {},
   "source": [
    "### Conclusion\n",
    "\n",
    "#### Since we have work to do with this dataset further on, we'll export the clean & ready-to-go dataframe to a csv."
   ]
  },
  {
   "cell_type": "code",
   "execution_count": 14,
   "id": "f893bd10",
   "metadata": {},
   "outputs": [],
   "source": [
    "energia_2021.to_csv(\"energia_2021.csv\")"
   ]
  }
 ],
 "metadata": {
  "kernelspec": {
   "display_name": "Python 3 (ipykernel)",
   "language": "python",
   "name": "python3"
  },
  "language_info": {
   "codemirror_mode": {
    "name": "ipython",
    "version": 3
   },
   "file_extension": ".py",
   "mimetype": "text/x-python",
   "name": "python",
   "nbconvert_exporter": "python",
   "pygments_lexer": "ipython3",
   "version": "3.11.5"
  }
 },
 "nbformat": 4,
 "nbformat_minor": 5
}
