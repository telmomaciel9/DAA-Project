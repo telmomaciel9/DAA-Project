{
 "cells": [
  {
   "cell_type": "code",
   "execution_count": 1,
   "id": "0cdb30b0",
   "metadata": {},
   "outputs": [],
   "source": [
    "import pandas as pd"
   ]
  },
  {
   "cell_type": "code",
   "execution_count": 2,
   "id": "a7687798",
   "metadata": {},
   "outputs": [],
   "source": [
    "_2021 = pd.read_csv('_2021.csv', encoding='utf-8')\n",
    "_2021['Injeção na rede (kWh)'].fillna(\"None\", inplace=True)\n",
    "\n",
    "_2022 = pd.read_csv('_2022.csv', encoding='utf-8')\n",
    "_2022['Injeção na rede (kWh)'].fillna(\"None\", inplace=True)\n",
    "\n",
    "all = pd.concat([_2021, _2022], ignore_index=True)\n",
    "all.drop('Unnamed: 0', axis=1, inplace=True)"
   ]
  },
  {
   "cell_type": "code",
   "execution_count": 3,
   "id": "68829658",
   "metadata": {},
   "outputs": [
    {
     "name": "stdout",
     "output_type": "stream",
     "text": [
      "<class 'pandas.core.frame.DataFrame'>\n",
      "RangeIndex: 11016 entries, 0 to 11015\n",
      "Data columns (total 14 columns):\n",
      " #   Column                   Non-Null Count  Dtype  \n",
      "---  ------                   --------------  -----  \n",
      " 0   Normal (kWh)             11016 non-null  float64\n",
      " 1   Horário Económico (kWh)  11016 non-null  float64\n",
      " 2   Autoconsumo (kWh)        11016 non-null  float64\n",
      " 3   Injeção na rede (kWh)    11016 non-null  object \n",
      " 4   Data & Hora              11016 non-null  object \n",
      " 5   temp                     11016 non-null  float64\n",
      " 6   feels_like               11016 non-null  float64\n",
      " 7   temp_min                 11016 non-null  float64\n",
      " 8   temp_max                 11016 non-null  float64\n",
      " 9   pressure                 11016 non-null  int64  \n",
      " 10  humidity                 11016 non-null  int64  \n",
      " 11  wind_speed               11016 non-null  float64\n",
      " 12  clouds_all               11016 non-null  int64  \n",
      " 13  weather_description      11016 non-null  object \n",
      "dtypes: float64(8), int64(3), object(3)\n",
      "memory usage: 1.2+ MB\n"
     ]
    }
   ],
   "source": [
    "all.info()"
   ]
  },
  {
   "cell_type": "code",
   "execution_count": 4,
   "id": "a4372d39",
   "metadata": {},
   "outputs": [
    {
     "data": {
      "text/html": [
       "<div>\n",
       "<style scoped>\n",
       "    .dataframe tbody tr th:only-of-type {\n",
       "        vertical-align: middle;\n",
       "    }\n",
       "\n",
       "    .dataframe tbody tr th {\n",
       "        vertical-align: top;\n",
       "    }\n",
       "\n",
       "    .dataframe thead th {\n",
       "        text-align: right;\n",
       "    }\n",
       "</style>\n",
       "<table border=\"1\" class=\"dataframe\">\n",
       "  <thead>\n",
       "    <tr style=\"text-align: right;\">\n",
       "      <th></th>\n",
       "      <th>Normal (kWh)</th>\n",
       "      <th>Horário Económico (kWh)</th>\n",
       "      <th>Autoconsumo (kWh)</th>\n",
       "      <th>Injeção na rede (kWh)</th>\n",
       "      <th>Data &amp; Hora</th>\n",
       "      <th>temp</th>\n",
       "      <th>feels_like</th>\n",
       "      <th>temp_min</th>\n",
       "      <th>temp_max</th>\n",
       "      <th>pressure</th>\n",
       "      <th>humidity</th>\n",
       "      <th>wind_speed</th>\n",
       "      <th>clouds_all</th>\n",
       "      <th>weather_description</th>\n",
       "    </tr>\n",
       "  </thead>\n",
       "  <tbody>\n",
       "    <tr>\n",
       "      <th>0</th>\n",
       "      <td>0.0</td>\n",
       "      <td>0.0</td>\n",
       "      <td>0.0</td>\n",
       "      <td>None</td>\n",
       "      <td>2021-09-29 00:00:00</td>\n",
       "      <td>13.97</td>\n",
       "      <td>13.54</td>\n",
       "      <td>11.45</td>\n",
       "      <td>14.04</td>\n",
       "      <td>1027</td>\n",
       "      <td>81</td>\n",
       "      <td>1.96</td>\n",
       "      <td>87</td>\n",
       "      <td>overcast clouds</td>\n",
       "    </tr>\n",
       "    <tr>\n",
       "      <th>1</th>\n",
       "      <td>0.0</td>\n",
       "      <td>0.0</td>\n",
       "      <td>0.0</td>\n",
       "      <td>None</td>\n",
       "      <td>2021-09-29 01:00:00</td>\n",
       "      <td>13.48</td>\n",
       "      <td>13.02</td>\n",
       "      <td>13.43</td>\n",
       "      <td>13.90</td>\n",
       "      <td>1028</td>\n",
       "      <td>82</td>\n",
       "      <td>1.83</td>\n",
       "      <td>91</td>\n",
       "      <td>overcast clouds</td>\n",
       "    </tr>\n",
       "    <tr>\n",
       "      <th>2</th>\n",
       "      <td>0.0</td>\n",
       "      <td>0.0</td>\n",
       "      <td>0.0</td>\n",
       "      <td>None</td>\n",
       "      <td>2021-09-29 02:00:00</td>\n",
       "      <td>12.93</td>\n",
       "      <td>12.47</td>\n",
       "      <td>12.72</td>\n",
       "      <td>13.43</td>\n",
       "      <td>1027</td>\n",
       "      <td>84</td>\n",
       "      <td>1.96</td>\n",
       "      <td>93</td>\n",
       "      <td>overcast clouds</td>\n",
       "    </tr>\n",
       "    <tr>\n",
       "      <th>3</th>\n",
       "      <td>0.0</td>\n",
       "      <td>0.0</td>\n",
       "      <td>0.0</td>\n",
       "      <td>None</td>\n",
       "      <td>2021-09-29 03:00:00</td>\n",
       "      <td>12.61</td>\n",
       "      <td>12.15</td>\n",
       "      <td>10.34</td>\n",
       "      <td>12.93</td>\n",
       "      <td>1027</td>\n",
       "      <td>85</td>\n",
       "      <td>1.85</td>\n",
       "      <td>95</td>\n",
       "      <td>overcast clouds</td>\n",
       "    </tr>\n",
       "    <tr>\n",
       "      <th>4</th>\n",
       "      <td>0.0</td>\n",
       "      <td>0.0</td>\n",
       "      <td>0.0</td>\n",
       "      <td>None</td>\n",
       "      <td>2021-09-29 04:00:00</td>\n",
       "      <td>12.61</td>\n",
       "      <td>12.17</td>\n",
       "      <td>9.79</td>\n",
       "      <td>12.93</td>\n",
       "      <td>1027</td>\n",
       "      <td>86</td>\n",
       "      <td>1.83</td>\n",
       "      <td>93</td>\n",
       "      <td>overcast clouds</td>\n",
       "    </tr>\n",
       "  </tbody>\n",
       "</table>\n",
       "</div>"
      ],
      "text/plain": [
       "   Normal (kWh)  Horário Económico (kWh)  Autoconsumo (kWh)  \\\n",
       "0           0.0                      0.0                0.0   \n",
       "1           0.0                      0.0                0.0   \n",
       "2           0.0                      0.0                0.0   \n",
       "3           0.0                      0.0                0.0   \n",
       "4           0.0                      0.0                0.0   \n",
       "\n",
       "  Injeção na rede (kWh)          Data & Hora   temp  feels_like  temp_min  \\\n",
       "0                  None  2021-09-29 00:00:00  13.97       13.54     11.45   \n",
       "1                  None  2021-09-29 01:00:00  13.48       13.02     13.43   \n",
       "2                  None  2021-09-29 02:00:00  12.93       12.47     12.72   \n",
       "3                  None  2021-09-29 03:00:00  12.61       12.15     10.34   \n",
       "4                  None  2021-09-29 04:00:00  12.61       12.17      9.79   \n",
       "\n",
       "   temp_max  pressure  humidity  wind_speed  clouds_all weather_description  \n",
       "0     14.04      1027        81        1.96          87     overcast clouds  \n",
       "1     13.90      1028        82        1.83          91     overcast clouds  \n",
       "2     13.43      1027        84        1.96          93     overcast clouds  \n",
       "3     12.93      1027        85        1.85          95     overcast clouds  \n",
       "4     12.93      1027        86        1.83          93     overcast clouds  "
      ]
     },
     "execution_count": 4,
     "metadata": {},
     "output_type": "execute_result"
    }
   ],
   "source": [
    "all.head()"
   ]
  },
  {
   "cell_type": "code",
   "execution_count": 5,
   "id": "a68734a0",
   "metadata": {},
   "outputs": [],
   "source": [
    "import numpy as np\n",
    "\n",
    "from sklearn.model_selection import train_test_split\n",
    "from sklearn.model_selection import GridSearchCV\n",
    "from sklearn.svm import SVC\n",
    "\n",
    "from sklearn.metrics import classification_report, ConfusionMatrixDisplay, accuracy_score\n",
    "\n",
    "from sklearn.model_selection import cross_val_score\n",
    "\n",
    "import matplotlib.pyplot as plt\n",
    "import seaborn as sns"
   ]
  },
  {
   "cell_type": "code",
   "execution_count": 6,
   "id": "c0885be4",
   "metadata": {},
   "outputs": [],
   "source": [
    "all.drop('Data & Hora', axis=1, inplace=True)"
   ]
  },
  {
   "cell_type": "code",
   "execution_count": 7,
   "id": "aadbbad8",
   "metadata": {
    "scrolled": true
   },
   "outputs": [],
   "source": [
    "#Hot\n",
    "weather_description = pd.get_dummies (all['weather_description'], drop_first=True)\n",
    "all.drop('weather_description', axis=1, inplace=True)\n",
    "all = pd.concat ([all, weather_description], axis=1)\n",
    "\n",
    "#label"
   ]
  },
  {
   "cell_type": "code",
   "execution_count": 8,
   "id": "ab9a1434",
   "metadata": {},
   "outputs": [
    {
     "name": "stdout",
     "output_type": "stream",
     "text": [
      "<class 'pandas.core.frame.DataFrame'>\n",
      "RangeIndex: 11016 entries, 0 to 11015\n",
      "Data columns (total 19 columns):\n",
      " #   Column                   Non-Null Count  Dtype  \n",
      "---  ------                   --------------  -----  \n",
      " 0   Normal (kWh)             11016 non-null  float64\n",
      " 1   Horário Económico (kWh)  11016 non-null  float64\n",
      " 2   Autoconsumo (kWh)        11016 non-null  float64\n",
      " 3   Injeção na rede (kWh)    11016 non-null  object \n",
      " 4   temp                     11016 non-null  float64\n",
      " 5   feels_like               11016 non-null  float64\n",
      " 6   temp_min                 11016 non-null  float64\n",
      " 7   temp_max                 11016 non-null  float64\n",
      " 8   pressure                 11016 non-null  int64  \n",
      " 9   humidity                 11016 non-null  int64  \n",
      " 10  wind_speed               11016 non-null  float64\n",
      " 11  clouds_all               11016 non-null  int64  \n",
      " 12  few clouds               11016 non-null  bool   \n",
      " 13  heavy intensity rain     11016 non-null  bool   \n",
      " 14  light rain               11016 non-null  bool   \n",
      " 15  moderate rain            11016 non-null  bool   \n",
      " 16  overcast clouds          11016 non-null  bool   \n",
      " 17  scattered clouds         11016 non-null  bool   \n",
      " 18  sky is clear             11016 non-null  bool   \n",
      "dtypes: bool(7), float64(8), int64(3), object(1)\n",
      "memory usage: 1.1+ MB\n"
     ]
    }
   ],
   "source": [
    "all.info()"
   ]
  },
  {
   "cell_type": "code",
   "execution_count": 9,
   "id": "2ea6f902",
   "metadata": {},
   "outputs": [],
   "source": [
    "X = all.drop(['Injeção na rede (kWh)'], axis=1)\n",
    "y = all['Injeção na rede (kWh)'].to_frame()\n",
    "\n",
    "X_train, X_test, y_train, y_test = train_test_split (X, y, test_size=0.30, random_state=2021)"
   ]
  },
  {
   "cell_type": "code",
   "execution_count": 10,
   "id": "5db44aa5",
   "metadata": {},
   "outputs": [
    {
     "name": "stdout",
     "output_type": "stream",
     "text": [
      "Fitting 5 folds for each of 20 candidates, totalling 100 fits\n",
      "[CV 1/5] END ...C=10.0, gamma=0.001, kernel=rbf;, score=0.744 total time=   2.2s\n",
      "[CV 2/5] END ...C=10.0, gamma=0.001, kernel=rbf;, score=0.743 total time=   2.4s\n",
      "[CV 3/5] END ...C=10.0, gamma=0.001, kernel=rbf;, score=0.735 total time=   2.3s\n",
      "[CV 4/5] END ...C=10.0, gamma=0.001, kernel=rbf;, score=0.741 total time=   2.2s\n",
      "[CV 5/5] END ...C=10.0, gamma=0.001, kernel=rbf;, score=0.747 total time=   2.0s\n",
      "[CV 1/5] END ..C=10.0, gamma=0.0001, kernel=rbf;, score=0.730 total time=   1.8s\n",
      "[CV 2/5] END ..C=10.0, gamma=0.0001, kernel=rbf;, score=0.730 total time=   1.8s\n",
      "[CV 3/5] END ..C=10.0, gamma=0.0001, kernel=rbf;, score=0.725 total time=   1.8s\n",
      "[CV 4/5] END ..C=10.0, gamma=0.0001, kernel=rbf;, score=0.733 total time=   1.9s\n",
      "[CV 5/5] END ..C=10.0, gamma=0.0001, kernel=rbf;, score=0.736 total time=   2.3s\n",
      "[CV 1/5] END ..C=10.0, gamma=0.0005, kernel=rbf;, score=0.745 total time=   1.7s\n",
      "[CV 2/5] END ..C=10.0, gamma=0.0005, kernel=rbf;, score=0.741 total time=   2.1s\n",
      "[CV 3/5] END ..C=10.0, gamma=0.0005, kernel=rbf;, score=0.731 total time=   1.8s\n",
      "[CV 4/5] END ..C=10.0, gamma=0.0005, kernel=rbf;, score=0.739 total time=   1.9s\n",
      "[CV 5/5] END ..C=10.0, gamma=0.0005, kernel=rbf;, score=0.748 total time=   2.2s\n",
      "[CV 1/5] END ...C=10.0, gamma=1e-05, kernel=rbf;, score=0.715 total time=   1.7s\n",
      "[CV 2/5] END ...C=10.0, gamma=1e-05, kernel=rbf;, score=0.719 total time=   1.5s\n",
      "[CV 3/5] END ...C=10.0, gamma=1e-05, kernel=rbf;, score=0.720 total time=   1.5s\n",
      "[CV 4/5] END ...C=10.0, gamma=1e-05, kernel=rbf;, score=0.726 total time=   1.6s\n",
      "[CV 5/5] END ...C=10.0, gamma=1e-05, kernel=rbf;, score=0.725 total time=   1.6s\n",
      "[CV 1/5] END ..C=100.0, gamma=0.001, kernel=rbf;, score=0.797 total time=   3.0s\n",
      "[CV 2/5] END ..C=100.0, gamma=0.001, kernel=rbf;, score=0.796 total time=   2.6s\n",
      "[CV 3/5] END ..C=100.0, gamma=0.001, kernel=rbf;, score=0.800 total time=   2.8s\n",
      "[CV 4/5] END ..C=100.0, gamma=0.001, kernel=rbf;, score=0.798 total time=   2.7s\n",
      "[CV 5/5] END ..C=100.0, gamma=0.001, kernel=rbf;, score=0.798 total time=   2.5s\n",
      "[CV 1/5] END .C=100.0, gamma=0.0001, kernel=rbf;, score=0.778 total time=   2.0s\n",
      "[CV 2/5] END .C=100.0, gamma=0.0001, kernel=rbf;, score=0.760 total time=   1.9s\n",
      "[CV 3/5] END .C=100.0, gamma=0.0001, kernel=rbf;, score=0.763 total time=   1.8s\n",
      "[CV 4/5] END .C=100.0, gamma=0.0001, kernel=rbf;, score=0.762 total time=   1.8s\n",
      "[CV 5/5] END .C=100.0, gamma=0.0001, kernel=rbf;, score=0.780 total time=   1.9s\n",
      "[CV 1/5] END .C=100.0, gamma=0.0005, kernel=rbf;, score=0.804 total time=   2.6s\n",
      "[CV 2/5] END .C=100.0, gamma=0.0005, kernel=rbf;, score=0.795 total time=   2.2s\n",
      "[CV 3/5] END .C=100.0, gamma=0.0005, kernel=rbf;, score=0.794 total time=   2.3s\n",
      "[CV 4/5] END .C=100.0, gamma=0.0005, kernel=rbf;, score=0.792 total time=   2.3s\n",
      "[CV 5/5] END .C=100.0, gamma=0.0005, kernel=rbf;, score=0.796 total time=   2.3s\n",
      "[CV 1/5] END ..C=100.0, gamma=1e-05, kernel=rbf;, score=0.726 total time=   1.8s\n",
      "[CV 2/5] END ..C=100.0, gamma=1e-05, kernel=rbf;, score=0.724 total time=   1.8s\n",
      "[CV 3/5] END ..C=100.0, gamma=1e-05, kernel=rbf;, score=0.725 total time=   1.7s\n",
      "[CV 4/5] END ..C=100.0, gamma=1e-05, kernel=rbf;, score=0.733 total time=   1.7s\n",
      "[CV 5/5] END ..C=100.0, gamma=1e-05, kernel=rbf;, score=0.732 total time=   1.8s\n",
      "[CV 1/5] END .C=1000.0, gamma=0.001, kernel=rbf;, score=0.798 total time=   5.8s\n",
      "[CV 2/5] END .C=1000.0, gamma=0.001, kernel=rbf;, score=0.812 total time=   6.2s\n",
      "[CV 3/5] END .C=1000.0, gamma=0.001, kernel=rbf;, score=0.804 total time=   6.0s\n",
      "[CV 4/5] END .C=1000.0, gamma=0.001, kernel=rbf;, score=0.788 total time=   6.0s\n",
      "[CV 5/5] END .C=1000.0, gamma=0.001, kernel=rbf;, score=0.803 total time=   6.0s\n",
      "[CV 1/5] END C=1000.0, gamma=0.0001, kernel=rbf;, score=0.831 total time=   2.9s\n",
      "[CV 2/5] END C=1000.0, gamma=0.0001, kernel=rbf;, score=0.821 total time=   2.8s\n",
      "[CV 3/5] END C=1000.0, gamma=0.0001, kernel=rbf;, score=0.820 total time=   2.6s\n",
      "[CV 4/5] END C=1000.0, gamma=0.0001, kernel=rbf;, score=0.808 total time=   2.4s\n",
      "[CV 5/5] END C=1000.0, gamma=0.0001, kernel=rbf;, score=0.824 total time=   2.7s\n",
      "[CV 1/5] END C=1000.0, gamma=0.0005, kernel=rbf;, score=0.822 total time=   4.6s\n",
      "[CV 2/5] END C=1000.0, gamma=0.0005, kernel=rbf;, score=0.812 total time=   4.6s\n",
      "[CV 3/5] END C=1000.0, gamma=0.0005, kernel=rbf;, score=0.824 total time=   4.5s\n",
      "[CV 4/5] END C=1000.0, gamma=0.0005, kernel=rbf;, score=0.805 total time=   4.4s\n",
      "[CV 5/5] END C=1000.0, gamma=0.0005, kernel=rbf;, score=0.819 total time=   4.5s\n",
      "[CV 1/5] END .C=1000.0, gamma=1e-05, kernel=rbf;, score=0.776 total time=   1.9s\n",
      "[CV 2/5] END .C=1000.0, gamma=1e-05, kernel=rbf;, score=0.770 total time=   1.9s\n",
      "[CV 3/5] END .C=1000.0, gamma=1e-05, kernel=rbf;, score=0.762 total time=   2.0s\n",
      "[CV 4/5] END .C=1000.0, gamma=1e-05, kernel=rbf;, score=0.771 total time=   1.9s\n",
      "[CV 5/5] END .C=1000.0, gamma=1e-05, kernel=rbf;, score=0.784 total time=   2.1s\n",
      "[CV 1/5] END ...C=5000, gamma=0.001, kernel=rbf;, score=0.783 total time=  11.9s\n",
      "[CV 2/5] END ...C=5000, gamma=0.001, kernel=rbf;, score=0.806 total time=  12.7s\n",
      "[CV 3/5] END ...C=5000, gamma=0.001, kernel=rbf;, score=0.803 total time=  12.5s\n",
      "[CV 4/5] END ...C=5000, gamma=0.001, kernel=rbf;, score=0.777 total time=  11.8s\n",
      "[CV 5/5] END ...C=5000, gamma=0.001, kernel=rbf;, score=0.797 total time=  13.0s\n",
      "[CV 1/5] END ..C=5000, gamma=0.0001, kernel=rbf;, score=0.836 total time=   5.0s\n",
      "[CV 2/5] END ..C=5000, gamma=0.0001, kernel=rbf;, score=0.829 total time=   4.9s\n",
      "[CV 3/5] END ..C=5000, gamma=0.0001, kernel=rbf;, score=0.827 total time=   4.6s\n",
      "[CV 4/5] END ..C=5000, gamma=0.0001, kernel=rbf;, score=0.812 total time=   4.8s\n",
      "[CV 5/5] END ..C=5000, gamma=0.0001, kernel=rbf;, score=0.824 total time=   4.8s\n",
      "[CV 1/5] END ..C=5000, gamma=0.0005, kernel=rbf;, score=0.809 total time=  10.6s\n",
      "[CV 2/5] END ..C=5000, gamma=0.0005, kernel=rbf;, score=0.813 total time=  11.6s\n",
      "[CV 3/5] END ..C=5000, gamma=0.0005, kernel=rbf;, score=0.816 total time=  11.3s\n",
      "[CV 4/5] END ..C=5000, gamma=0.0005, kernel=rbf;, score=0.791 total time=  10.6s\n",
      "[CV 5/5] END ..C=5000, gamma=0.0005, kernel=rbf;, score=0.815 total time=  11.3s\n",
      "[CV 1/5] END ...C=5000, gamma=1e-05, kernel=rbf;, score=0.833 total time=   2.4s\n",
      "[CV 2/5] END ...C=5000, gamma=1e-05, kernel=rbf;, score=0.820 total time=   2.3s\n",
      "[CV 3/5] END ...C=5000, gamma=1e-05, kernel=rbf;, score=0.815 total time=   2.4s\n",
      "[CV 4/5] END ...C=5000, gamma=1e-05, kernel=rbf;, score=0.810 total time=   2.2s\n",
      "[CV 5/5] END ...C=5000, gamma=1e-05, kernel=rbf;, score=0.826 total time=   2.3s\n",
      "[CV 1/5] END ..C=10000, gamma=0.001, kernel=rbf;, score=0.772 total time=  16.6s\n",
      "[CV 2/5] END ..C=10000, gamma=0.001, kernel=rbf;, score=0.794 total time=  17.3s\n",
      "[CV 3/5] END ..C=10000, gamma=0.001, kernel=rbf;, score=0.792 total time=  16.0s\n",
      "[CV 4/5] END ..C=10000, gamma=0.001, kernel=rbf;, score=0.775 total time=  16.6s\n",
      "[CV 5/5] END ..C=10000, gamma=0.001, kernel=rbf;, score=0.790 total time=  15.6s\n",
      "[CV 1/5] END .C=10000, gamma=0.0001, kernel=rbf;, score=0.834 total time=   7.0s\n",
      "[CV 2/5] END .C=10000, gamma=0.0001, kernel=rbf;, score=0.826 total time=   7.2s\n",
      "[CV 3/5] END .C=10000, gamma=0.0001, kernel=rbf;, score=0.831 total time=   6.8s\n",
      "[CV 4/5] END .C=10000, gamma=0.0001, kernel=rbf;, score=0.808 total time=   6.7s\n",
      "[CV 5/5] END .C=10000, gamma=0.0001, kernel=rbf;, score=0.825 total time=   7.0s\n",
      "[CV 1/5] END .C=10000, gamma=0.0005, kernel=rbf;, score=0.801 total time=  18.3s\n",
      "[CV 2/5] END .C=10000, gamma=0.0005, kernel=rbf;, score=0.809 total time=  18.8s\n",
      "[CV 3/5] END .C=10000, gamma=0.0005, kernel=rbf;, score=0.810 total time=  16.8s\n",
      "[CV 4/5] END .C=10000, gamma=0.0005, kernel=rbf;, score=0.794 total time=  16.1s\n",
      "[CV 5/5] END .C=10000, gamma=0.0005, kernel=rbf;, score=0.808 total time=  18.4s\n",
      "[CV 1/5] END ..C=10000, gamma=1e-05, kernel=rbf;, score=0.835 total time=   2.8s\n",
      "[CV 2/5] END ..C=10000, gamma=1e-05, kernel=rbf;, score=0.824 total time=   2.7s\n",
      "[CV 3/5] END ..C=10000, gamma=1e-05, kernel=rbf;, score=0.823 total time=   3.1s\n",
      "[CV 4/5] END ..C=10000, gamma=1e-05, kernel=rbf;, score=0.809 total time=   2.5s\n",
      "[CV 5/5] END ..C=10000, gamma=1e-05, kernel=rbf;, score=0.828 total time=   2.7s\n"
     ]
    },
    {
     "data": {
      "text/html": [
       "<style>#sk-container-id-1 {color: black;}#sk-container-id-1 pre{padding: 0;}#sk-container-id-1 div.sk-toggleable {background-color: white;}#sk-container-id-1 label.sk-toggleable__label {cursor: pointer;display: block;width: 100%;margin-bottom: 0;padding: 0.3em;box-sizing: border-box;text-align: center;}#sk-container-id-1 label.sk-toggleable__label-arrow:before {content: \"▸\";float: left;margin-right: 0.25em;color: #696969;}#sk-container-id-1 label.sk-toggleable__label-arrow:hover:before {color: black;}#sk-container-id-1 div.sk-estimator:hover label.sk-toggleable__label-arrow:before {color: black;}#sk-container-id-1 div.sk-toggleable__content {max-height: 0;max-width: 0;overflow: hidden;text-align: left;background-color: #f0f8ff;}#sk-container-id-1 div.sk-toggleable__content pre {margin: 0.2em;color: black;border-radius: 0.25em;background-color: #f0f8ff;}#sk-container-id-1 input.sk-toggleable__control:checked~div.sk-toggleable__content {max-height: 200px;max-width: 100%;overflow: auto;}#sk-container-id-1 input.sk-toggleable__control:checked~label.sk-toggleable__label-arrow:before {content: \"▾\";}#sk-container-id-1 div.sk-estimator input.sk-toggleable__control:checked~label.sk-toggleable__label {background-color: #d4ebff;}#sk-container-id-1 div.sk-label input.sk-toggleable__control:checked~label.sk-toggleable__label {background-color: #d4ebff;}#sk-container-id-1 input.sk-hidden--visually {border: 0;clip: rect(1px 1px 1px 1px);clip: rect(1px, 1px, 1px, 1px);height: 1px;margin: -1px;overflow: hidden;padding: 0;position: absolute;width: 1px;}#sk-container-id-1 div.sk-estimator {font-family: monospace;background-color: #f0f8ff;border: 1px dotted black;border-radius: 0.25em;box-sizing: border-box;margin-bottom: 0.5em;}#sk-container-id-1 div.sk-estimator:hover {background-color: #d4ebff;}#sk-container-id-1 div.sk-parallel-item::after {content: \"\";width: 100%;border-bottom: 1px solid gray;flex-grow: 1;}#sk-container-id-1 div.sk-label:hover label.sk-toggleable__label {background-color: #d4ebff;}#sk-container-id-1 div.sk-serial::before {content: \"\";position: absolute;border-left: 1px solid gray;box-sizing: border-box;top: 0;bottom: 0;left: 50%;z-index: 0;}#sk-container-id-1 div.sk-serial {display: flex;flex-direction: column;align-items: center;background-color: white;padding-right: 0.2em;padding-left: 0.2em;position: relative;}#sk-container-id-1 div.sk-item {position: relative;z-index: 1;}#sk-container-id-1 div.sk-parallel {display: flex;align-items: stretch;justify-content: center;background-color: white;position: relative;}#sk-container-id-1 div.sk-item::before, #sk-container-id-1 div.sk-parallel-item::before {content: \"\";position: absolute;border-left: 1px solid gray;box-sizing: border-box;top: 0;bottom: 0;left: 50%;z-index: -1;}#sk-container-id-1 div.sk-parallel-item {display: flex;flex-direction: column;z-index: 1;position: relative;background-color: white;}#sk-container-id-1 div.sk-parallel-item:first-child::after {align-self: flex-end;width: 50%;}#sk-container-id-1 div.sk-parallel-item:last-child::after {align-self: flex-start;width: 50%;}#sk-container-id-1 div.sk-parallel-item:only-child::after {width: 0;}#sk-container-id-1 div.sk-dashed-wrapped {border: 1px dashed gray;margin: 0 0.4em 0.5em 0.4em;box-sizing: border-box;padding-bottom: 0.4em;background-color: white;}#sk-container-id-1 div.sk-label label {font-family: monospace;font-weight: bold;display: inline-block;line-height: 1.2em;}#sk-container-id-1 div.sk-label-container {text-align: center;}#sk-container-id-1 div.sk-container {/* jupyter's `normalize.less` sets `[hidden] { display: none; }` but bootstrap.min.css set `[hidden] { display: none !important; }` so we also need the `!important` here to be able to override the default hidden behavior on the sphinx rendered scikit-learn.org. See: https://github.com/scikit-learn/scikit-learn/issues/21755 */display: inline-block !important;position: relative;}#sk-container-id-1 div.sk-text-repr-fallback {display: none;}</style><div id=\"sk-container-id-1\" class=\"sk-top-container\"><div class=\"sk-text-repr-fallback\"><pre>GridSearchCV(estimator=SVC(random_state=2021),\n",
       "             param_grid={&#x27;C&#x27;: [10.0, 100.0, 1000.0, 5000, 10000],\n",
       "                         &#x27;gamma&#x27;: [0.001, 0.0001, 0.0005, 1e-05],\n",
       "                         &#x27;kernel&#x27;: [&#x27;rbf&#x27;]},\n",
       "             verbose=3)</pre><b>In a Jupyter environment, please rerun this cell to show the HTML representation or trust the notebook. <br />On GitHub, the HTML representation is unable to render, please try loading this page with nbviewer.org.</b></div><div class=\"sk-container\" hidden><div class=\"sk-item sk-dashed-wrapped\"><div class=\"sk-label-container\"><div class=\"sk-label sk-toggleable\"><input class=\"sk-toggleable__control sk-hidden--visually\" id=\"sk-estimator-id-1\" type=\"checkbox\" ><label for=\"sk-estimator-id-1\" class=\"sk-toggleable__label sk-toggleable__label-arrow\">GridSearchCV</label><div class=\"sk-toggleable__content\"><pre>GridSearchCV(estimator=SVC(random_state=2021),\n",
       "             param_grid={&#x27;C&#x27;: [10.0, 100.0, 1000.0, 5000, 10000],\n",
       "                         &#x27;gamma&#x27;: [0.001, 0.0001, 0.0005, 1e-05],\n",
       "                         &#x27;kernel&#x27;: [&#x27;rbf&#x27;]},\n",
       "             verbose=3)</pre></div></div></div><div class=\"sk-parallel\"><div class=\"sk-parallel-item\"><div class=\"sk-item\"><div class=\"sk-label-container\"><div class=\"sk-label sk-toggleable\"><input class=\"sk-toggleable__control sk-hidden--visually\" id=\"sk-estimator-id-2\" type=\"checkbox\" ><label for=\"sk-estimator-id-2\" class=\"sk-toggleable__label sk-toggleable__label-arrow\">estimator: SVC</label><div class=\"sk-toggleable__content\"><pre>SVC(random_state=2021)</pre></div></div></div><div class=\"sk-serial\"><div class=\"sk-item\"><div class=\"sk-estimator sk-toggleable\"><input class=\"sk-toggleable__control sk-hidden--visually\" id=\"sk-estimator-id-3\" type=\"checkbox\" ><label for=\"sk-estimator-id-3\" class=\"sk-toggleable__label sk-toggleable__label-arrow\">SVC</label><div class=\"sk-toggleable__content\"><pre>SVC(random_state=2021)</pre></div></div></div></div></div></div></div></div></div></div>"
      ],
      "text/plain": [
       "GridSearchCV(estimator=SVC(random_state=2021),\n",
       "             param_grid={'C': [10.0, 100.0, 1000.0, 5000, 10000],\n",
       "                         'gamma': [0.001, 0.0001, 0.0005, 1e-05],\n",
       "                         'kernel': ['rbf']},\n",
       "             verbose=3)"
      ]
     },
     "execution_count": 10,
     "metadata": {},
     "output_type": "execute_result"
    }
   ],
   "source": [
    "param_grid = { #'C': [.1, 1., 10., 100., 1000.]\n",
    "              #, 'gamma': [1., .1, .01, .001, .0001]\n",
    "              'C': [10., 100., 1000., 5000, 10000]\n",
    "              , 'gamma': [.001, .0001, .0005, .00001]\n",
    "              , 'kernel': ['rbf']\n",
    "             }\n",
    "\n",
    "grid = GridSearchCV (SVC(random_state=2021), param_grid, refit=True, verbose=3)\n",
    "grid.fit (X_train, y_train.values.ravel())"
   ]
  },
  {
   "cell_type": "code",
   "execution_count": 11,
   "id": "22f911bd",
   "metadata": {},
   "outputs": [
    {
     "data": {
      "text/plain": [
       "{'C': 5000, 'gamma': 0.0001, 'kernel': 'rbf'}"
      ]
     },
     "execution_count": 11,
     "metadata": {},
     "output_type": "execute_result"
    }
   ],
   "source": [
    "grid.best_params_"
   ]
  },
  {
   "cell_type": "code",
   "execution_count": 12,
   "id": "d33d1e47",
   "metadata": {},
   "outputs": [
    {
     "name": "stdout",
     "output_type": "stream",
     "text": [
      "              precision    recall  f1-score   support\n",
      "\n",
      "        High       0.49      0.59      0.54       348\n",
      "         Low       0.29      0.04      0.07       132\n",
      "      Medium       0.47      0.54      0.50       329\n",
      "        None       0.97      0.98      0.97      2323\n",
      "   Very High       0.57      0.47      0.51       173\n",
      "\n",
      "    accuracy                           0.83      3305\n",
      "   macro avg       0.56      0.52      0.52      3305\n",
      "weighted avg       0.82      0.83      0.82      3305\n",
      "\n"
     ]
    }
   ],
   "source": [
    "Predictions = grid.predict (X_test)\n",
    "\n",
    "print ( classification_report (y_test, Predictions) )"
   ]
  },
  {
   "cell_type": "code",
   "execution_count": 13,
   "id": "66df4444",
   "metadata": {},
   "outputs": [
    {
     "name": "stdout",
     "output_type": "stream",
     "text": [
      "0.80 0.02\n"
     ]
    }
   ],
   "source": [
    "clf = SVC (random_state=2021, C=1000.0, gamma=0.0001, kernel='rbf')\n",
    "scores = cross_val_score(clf, X, y.values.ravel(), cv=10)\n",
    "\n",
    "print (\"%.2f %.2f\" % (scores.mean(), scores.std()))"
   ]
  },
  {
   "cell_type": "code",
   "execution_count": 14,
   "id": "a89e3cea",
   "metadata": {},
   "outputs": [
    {
     "name": "stdout",
     "output_type": "stream",
     "text": [
      "0.80 0.02\n"
     ]
    }
   ],
   "source": [
    "clf = SVC (random_state=2021, C=5000.0, gamma=0.0001, kernel='rbf')\n",
    "scores = cross_val_score(clf, X, y.values.ravel(), cv=10)\n",
    "\n",
    "print (\"%.2f %.2f\" % (scores.mean(), scores.std()))"
   ]
  }
 ],
 "metadata": {
  "kernelspec": {
   "display_name": "Python 3 (ipykernel)",
   "language": "python",
   "name": "python3"
  },
  "language_info": {
   "codemirror_mode": {
    "name": "ipython",
    "version": 3
   },
   "file_extension": ".py",
   "mimetype": "text/x-python",
   "name": "python",
   "nbconvert_exporter": "python",
   "pygments_lexer": "ipython3",
   "version": "3.12.1"
  }
 },
 "nbformat": 4,
 "nbformat_minor": 5
}
