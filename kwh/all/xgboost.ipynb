{
 "cells": [
  {
   "cell_type": "code",
   "execution_count": 1,
   "id": "0cdb30b0",
   "metadata": {},
   "outputs": [],
   "source": [
    "import pandas as pd"
   ]
  },
  {
   "cell_type": "code",
   "execution_count": 2,
   "id": "a7687798",
   "metadata": {},
   "outputs": [],
   "source": [
    "_2021 = pd.read_csv('_2021.csv', encoding='utf-8')\n",
    "_2021['Injeção na rede (kWh)'].fillna(\"None\", inplace=True)\n",
    "\n",
    "_2022 = pd.read_csv('_2022.csv', encoding='utf-8')\n",
    "_2022['Injeção na rede (kWh)'].fillna(\"None\", inplace=True)\n",
    "\n",
    "all = pd.concat([_2021, _2022], ignore_index=True)\n",
    "all.drop('Unnamed: 0', axis=1, inplace=True)"
   ]
  },
  {
   "cell_type": "code",
   "execution_count": 3,
   "id": "68829658",
   "metadata": {},
   "outputs": [
    {
     "name": "stdout",
     "output_type": "stream",
     "text": [
      "<class 'pandas.core.frame.DataFrame'>\n",
      "RangeIndex: 11016 entries, 0 to 11015\n",
      "Data columns (total 14 columns):\n",
      " #   Column                   Non-Null Count  Dtype  \n",
      "---  ------                   --------------  -----  \n",
      " 0   Normal (kWh)             11016 non-null  float64\n",
      " 1   Horário Económico (kWh)  11016 non-null  float64\n",
      " 2   Autoconsumo (kWh)        11016 non-null  float64\n",
      " 3   Injeção na rede (kWh)    11016 non-null  object \n",
      " 4   Data & Hora              11016 non-null  object \n",
      " 5   temp                     11016 non-null  float64\n",
      " 6   feels_like               11016 non-null  float64\n",
      " 7   temp_min                 11016 non-null  float64\n",
      " 8   temp_max                 11016 non-null  float64\n",
      " 9   pressure                 11016 non-null  int64  \n",
      " 10  humidity                 11016 non-null  int64  \n",
      " 11  wind_speed               11016 non-null  float64\n",
      " 12  clouds_all               11016 non-null  int64  \n",
      " 13  weather_description      11016 non-null  object \n",
      "dtypes: float64(8), int64(3), object(3)\n",
      "memory usage: 1.2+ MB\n"
     ]
    }
   ],
   "source": [
    "all.info()"
   ]
  },
  {
   "cell_type": "code",
   "execution_count": 4,
   "id": "a4372d39",
   "metadata": {},
   "outputs": [
    {
     "data": {
      "text/html": [
       "<div>\n",
       "<style scoped>\n",
       "    .dataframe tbody tr th:only-of-type {\n",
       "        vertical-align: middle;\n",
       "    }\n",
       "\n",
       "    .dataframe tbody tr th {\n",
       "        vertical-align: top;\n",
       "    }\n",
       "\n",
       "    .dataframe thead th {\n",
       "        text-align: right;\n",
       "    }\n",
       "</style>\n",
       "<table border=\"1\" class=\"dataframe\">\n",
       "  <thead>\n",
       "    <tr style=\"text-align: right;\">\n",
       "      <th></th>\n",
       "      <th>Normal (kWh)</th>\n",
       "      <th>Horário Económico (kWh)</th>\n",
       "      <th>Autoconsumo (kWh)</th>\n",
       "      <th>Injeção na rede (kWh)</th>\n",
       "      <th>Data &amp; Hora</th>\n",
       "      <th>temp</th>\n",
       "      <th>feels_like</th>\n",
       "      <th>temp_min</th>\n",
       "      <th>temp_max</th>\n",
       "      <th>pressure</th>\n",
       "      <th>humidity</th>\n",
       "      <th>wind_speed</th>\n",
       "      <th>clouds_all</th>\n",
       "      <th>weather_description</th>\n",
       "    </tr>\n",
       "  </thead>\n",
       "  <tbody>\n",
       "    <tr>\n",
       "      <th>0</th>\n",
       "      <td>0.0</td>\n",
       "      <td>0.0</td>\n",
       "      <td>0.0</td>\n",
       "      <td>None</td>\n",
       "      <td>2021-09-29 00:00:00</td>\n",
       "      <td>13.97</td>\n",
       "      <td>13.54</td>\n",
       "      <td>11.45</td>\n",
       "      <td>14.04</td>\n",
       "      <td>1027</td>\n",
       "      <td>81</td>\n",
       "      <td>1.96</td>\n",
       "      <td>87</td>\n",
       "      <td>overcast clouds</td>\n",
       "    </tr>\n",
       "    <tr>\n",
       "      <th>1</th>\n",
       "      <td>0.0</td>\n",
       "      <td>0.0</td>\n",
       "      <td>0.0</td>\n",
       "      <td>None</td>\n",
       "      <td>2021-09-29 01:00:00</td>\n",
       "      <td>13.48</td>\n",
       "      <td>13.02</td>\n",
       "      <td>13.43</td>\n",
       "      <td>13.90</td>\n",
       "      <td>1028</td>\n",
       "      <td>82</td>\n",
       "      <td>1.83</td>\n",
       "      <td>91</td>\n",
       "      <td>overcast clouds</td>\n",
       "    </tr>\n",
       "    <tr>\n",
       "      <th>2</th>\n",
       "      <td>0.0</td>\n",
       "      <td>0.0</td>\n",
       "      <td>0.0</td>\n",
       "      <td>None</td>\n",
       "      <td>2021-09-29 02:00:00</td>\n",
       "      <td>12.93</td>\n",
       "      <td>12.47</td>\n",
       "      <td>12.72</td>\n",
       "      <td>13.43</td>\n",
       "      <td>1027</td>\n",
       "      <td>84</td>\n",
       "      <td>1.96</td>\n",
       "      <td>93</td>\n",
       "      <td>overcast clouds</td>\n",
       "    </tr>\n",
       "    <tr>\n",
       "      <th>3</th>\n",
       "      <td>0.0</td>\n",
       "      <td>0.0</td>\n",
       "      <td>0.0</td>\n",
       "      <td>None</td>\n",
       "      <td>2021-09-29 03:00:00</td>\n",
       "      <td>12.61</td>\n",
       "      <td>12.15</td>\n",
       "      <td>10.34</td>\n",
       "      <td>12.93</td>\n",
       "      <td>1027</td>\n",
       "      <td>85</td>\n",
       "      <td>1.85</td>\n",
       "      <td>95</td>\n",
       "      <td>overcast clouds</td>\n",
       "    </tr>\n",
       "    <tr>\n",
       "      <th>4</th>\n",
       "      <td>0.0</td>\n",
       "      <td>0.0</td>\n",
       "      <td>0.0</td>\n",
       "      <td>None</td>\n",
       "      <td>2021-09-29 04:00:00</td>\n",
       "      <td>12.61</td>\n",
       "      <td>12.17</td>\n",
       "      <td>9.79</td>\n",
       "      <td>12.93</td>\n",
       "      <td>1027</td>\n",
       "      <td>86</td>\n",
       "      <td>1.83</td>\n",
       "      <td>93</td>\n",
       "      <td>overcast clouds</td>\n",
       "    </tr>\n",
       "  </tbody>\n",
       "</table>\n",
       "</div>"
      ],
      "text/plain": [
       "   Normal (kWh)  Horário Económico (kWh)  Autoconsumo (kWh)  \\\n",
       "0           0.0                      0.0                0.0   \n",
       "1           0.0                      0.0                0.0   \n",
       "2           0.0                      0.0                0.0   \n",
       "3           0.0                      0.0                0.0   \n",
       "4           0.0                      0.0                0.0   \n",
       "\n",
       "  Injeção na rede (kWh)          Data & Hora   temp  feels_like  temp_min  \\\n",
       "0                  None  2021-09-29 00:00:00  13.97       13.54     11.45   \n",
       "1                  None  2021-09-29 01:00:00  13.48       13.02     13.43   \n",
       "2                  None  2021-09-29 02:00:00  12.93       12.47     12.72   \n",
       "3                  None  2021-09-29 03:00:00  12.61       12.15     10.34   \n",
       "4                  None  2021-09-29 04:00:00  12.61       12.17      9.79   \n",
       "\n",
       "   temp_max  pressure  humidity  wind_speed  clouds_all weather_description  \n",
       "0     14.04      1027        81        1.96          87     overcast clouds  \n",
       "1     13.90      1028        82        1.83          91     overcast clouds  \n",
       "2     13.43      1027        84        1.96          93     overcast clouds  \n",
       "3     12.93      1027        85        1.85          95     overcast clouds  \n",
       "4     12.93      1027        86        1.83          93     overcast clouds  "
      ]
     },
     "execution_count": 4,
     "metadata": {},
     "output_type": "execute_result"
    }
   ],
   "source": [
    "all.head()"
   ]
  },
  {
   "cell_type": "code",
   "execution_count": 5,
   "id": "a68734a0",
   "metadata": {},
   "outputs": [],
   "source": [
    "import numpy as np\n",
    "\n",
    "import ants\n",
    "\n",
    "import xgboost as xgb\n",
    "\n",
    "from sklearn.model_selection import train_test_split\n",
    "from sklearn.model_selection import GridSearchCV\n",
    "\n",
    "\n",
    "from sklearn.metrics import classification_report, ConfusionMatrixDisplay, accuracy_score\n",
    "\n",
    "from sklearn.model_selection import cross_val_score\n",
    "\n",
    "import matplotlib.pyplot as plt\n",
    "import seaborn as sns"
   ]
  },
  {
   "cell_type": "code",
   "execution_count": 6,
   "id": "c0885be4",
   "metadata": {},
   "outputs": [],
   "source": [
    "all.drop('Data & Hora', axis=1, inplace=True)"
   ]
  },
  {
   "cell_type": "code",
   "execution_count": 7,
   "id": "aadbbad8",
   "metadata": {
    "scrolled": true
   },
   "outputs": [],
   "source": [
    "#Hot\n",
    "weather_description = pd.get_dummies (all['weather_description'], drop_first=True)\n",
    "all.drop('weather_description', axis=1, inplace=True)\n",
    "all = pd.concat ([all, weather_description], axis=1)\n",
    "\n",
    "#label"
   ]
  },
  {
   "cell_type": "code",
   "execution_count": 8,
   "id": "f0ff26d8",
   "metadata": {},
   "outputs": [
    {
     "name": "stdout",
     "output_type": "stream",
     "text": [
      "Injeção na rede (kWh)\n",
      "0    7777\n",
      "3    1103\n",
      "2    1098\n",
      "4     606\n",
      "1     432\n",
      "Name: count, dtype: int64\n"
     ]
    }
   ],
   "source": [
    "# Injeção na rede (kWh) troca do tipo dos valores\n",
    "all['Injeção na rede (kWh)'].replace({'None': 0, 'Low': 1, 'Medium': 2, 'High': 3, 'Very High': 4}, inplace=True)\n",
    "print(all['Injeção na rede (kWh)'].value_counts())"
   ]
  },
  {
   "cell_type": "code",
   "execution_count": 9,
   "id": "ab9a1434",
   "metadata": {},
   "outputs": [
    {
     "name": "stdout",
     "output_type": "stream",
     "text": [
      "<class 'pandas.core.frame.DataFrame'>\n",
      "RangeIndex: 11016 entries, 0 to 11015\n",
      "Data columns (total 19 columns):\n",
      " #   Column                   Non-Null Count  Dtype  \n",
      "---  ------                   --------------  -----  \n",
      " 0   Normal (kWh)             11016 non-null  float64\n",
      " 1   Horário Económico (kWh)  11016 non-null  float64\n",
      " 2   Autoconsumo (kWh)        11016 non-null  float64\n",
      " 3   Injeção na rede (kWh)    11016 non-null  int64  \n",
      " 4   temp                     11016 non-null  float64\n",
      " 5   feels_like               11016 non-null  float64\n",
      " 6   temp_min                 11016 non-null  float64\n",
      " 7   temp_max                 11016 non-null  float64\n",
      " 8   pressure                 11016 non-null  int64  \n",
      " 9   humidity                 11016 non-null  int64  \n",
      " 10  wind_speed               11016 non-null  float64\n",
      " 11  clouds_all               11016 non-null  int64  \n",
      " 12  few clouds               11016 non-null  bool   \n",
      " 13  heavy intensity rain     11016 non-null  bool   \n",
      " 14  light rain               11016 non-null  bool   \n",
      " 15  moderate rain            11016 non-null  bool   \n",
      " 16  overcast clouds          11016 non-null  bool   \n",
      " 17  scattered clouds         11016 non-null  bool   \n",
      " 18  sky is clear             11016 non-null  bool   \n",
      "dtypes: bool(7), float64(8), int64(4)\n",
      "memory usage: 1.1 MB\n"
     ]
    }
   ],
   "source": [
    "all.info()"
   ]
  },
  {
   "cell_type": "code",
   "execution_count": 10,
   "id": "2ea6f902",
   "metadata": {},
   "outputs": [
    {
     "data": {
      "text/html": [
       "<div>\n",
       "<style scoped>\n",
       "    .dataframe tbody tr th:only-of-type {\n",
       "        vertical-align: middle;\n",
       "    }\n",
       "\n",
       "    .dataframe tbody tr th {\n",
       "        vertical-align: top;\n",
       "    }\n",
       "\n",
       "    .dataframe thead th {\n",
       "        text-align: right;\n",
       "    }\n",
       "</style>\n",
       "<table border=\"1\" class=\"dataframe\">\n",
       "  <thead>\n",
       "    <tr style=\"text-align: right;\">\n",
       "      <th></th>\n",
       "      <th>Injeção na rede (kWh)</th>\n",
       "    </tr>\n",
       "  </thead>\n",
       "  <tbody>\n",
       "    <tr>\n",
       "      <th>0</th>\n",
       "      <td>0</td>\n",
       "    </tr>\n",
       "    <tr>\n",
       "      <th>1</th>\n",
       "      <td>0</td>\n",
       "    </tr>\n",
       "    <tr>\n",
       "      <th>2</th>\n",
       "      <td>0</td>\n",
       "    </tr>\n",
       "    <tr>\n",
       "      <th>3</th>\n",
       "      <td>0</td>\n",
       "    </tr>\n",
       "    <tr>\n",
       "      <th>4</th>\n",
       "      <td>0</td>\n",
       "    </tr>\n",
       "    <tr>\n",
       "      <th>...</th>\n",
       "      <td>...</td>\n",
       "    </tr>\n",
       "    <tr>\n",
       "      <th>11011</th>\n",
       "      <td>0</td>\n",
       "    </tr>\n",
       "    <tr>\n",
       "      <th>11012</th>\n",
       "      <td>0</td>\n",
       "    </tr>\n",
       "    <tr>\n",
       "      <th>11013</th>\n",
       "      <td>0</td>\n",
       "    </tr>\n",
       "    <tr>\n",
       "      <th>11014</th>\n",
       "      <td>0</td>\n",
       "    </tr>\n",
       "    <tr>\n",
       "      <th>11015</th>\n",
       "      <td>0</td>\n",
       "    </tr>\n",
       "  </tbody>\n",
       "</table>\n",
       "<p>11016 rows × 1 columns</p>\n",
       "</div>"
      ],
      "text/plain": [
       "       Injeção na rede (kWh)\n",
       "0                          0\n",
       "1                          0\n",
       "2                          0\n",
       "3                          0\n",
       "4                          0\n",
       "...                      ...\n",
       "11011                      0\n",
       "11012                      0\n",
       "11013                      0\n",
       "11014                      0\n",
       "11015                      0\n",
       "\n",
       "[11016 rows x 1 columns]"
      ]
     },
     "execution_count": 10,
     "metadata": {},
     "output_type": "execute_result"
    }
   ],
   "source": [
    "X = all.drop(['Injeção na rede (kWh)'], axis=1)\n",
    "y = all['Injeção na rede (kWh)'].to_frame()\n",
    "\n",
    "'''\n",
    "def _impute (cols):\n",
    "    _map = {\"None\": 0\n",
    "          , \"Low\": 1\n",
    "          , \"Medium\": 2\n",
    "          , \"High\": 3\n",
    "          , \"Very High\": 4\n",
    "    }\n",
    "    \n",
    "    return _map[cols[0]]\n",
    "y['Injeção na rede (kWh)'] = y[['Injeção na rede (kWh)']].apply(_impute, axis= 1)\n",
    "'''\n",
    "y"
   ]
  },
  {
   "cell_type": "code",
   "execution_count": 11,
   "id": "a30fca52",
   "metadata": {},
   "outputs": [],
   "source": [
    "\n",
    "\n",
    "X_train, X_test, y_train, y_test = train_test_split (X, y, test_size=0.30, random_state=2021)"
   ]
  },
  {
   "cell_type": "code",
   "execution_count": 12,
   "id": "5db44aa5",
   "metadata": {},
   "outputs": [],
   "source": [
    "parameters = { 'min_child_weight': [5, 6, 7]\n",
    "             , 'colsample_bytree': [0, 0.2]\n",
    "             , 'max_depth': [3, 4, 5]\n",
    "             }\n",
    "\n",
    "_xgb = xgb.XGBClassifier(objective='reg:squarederror')\n",
    "clf = GridSearchCV (estimator= _xgb, param_grid= parameters, cv= 5, refit= True, verbose= 3, error_score='raise')"
   ]
  },
  {
   "cell_type": "code",
   "execution_count": 13,
   "id": "d5bc970a",
   "metadata": {},
   "outputs": [
    {
     "name": "stdout",
     "output_type": "stream",
     "text": [
      "Fitting 5 folds for each of 18 candidates, totalling 90 fits\n",
      "[CV 1/5] END colsample_bytree=0, max_depth=3, min_child_weight=5;, score=0.828 total time=   6.2s\n",
      "[CV 2/5] END colsample_bytree=0, max_depth=3, min_child_weight=5;, score=0.837 total time=   2.1s\n",
      "[CV 3/5] END colsample_bytree=0, max_depth=3, min_child_weight=5;, score=0.841 total time=   2.4s\n",
      "[CV 4/5] END colsample_bytree=0, max_depth=3, min_child_weight=5;, score=0.816 total time=   0.9s\n",
      "[CV 5/5] END colsample_bytree=0, max_depth=3, min_child_weight=5;, score=0.829 total time=   0.4s\n",
      "[CV 1/5] END colsample_bytree=0, max_depth=3, min_child_weight=6;, score=0.828 total time=   0.3s\n",
      "[CV 2/5] END colsample_bytree=0, max_depth=3, min_child_weight=6;, score=0.835 total time=   0.4s\n",
      "[CV 3/5] END colsample_bytree=0, max_depth=3, min_child_weight=6;, score=0.839 total time=   0.6s\n",
      "[CV 4/5] END colsample_bytree=0, max_depth=3, min_child_weight=6;, score=0.811 total time=   0.3s\n",
      "[CV 5/5] END colsample_bytree=0, max_depth=3, min_child_weight=6;, score=0.829 total time=   0.3s\n",
      "[CV 1/5] END colsample_bytree=0, max_depth=3, min_child_weight=7;, score=0.831 total time=   0.4s\n",
      "[CV 2/5] END colsample_bytree=0, max_depth=3, min_child_weight=7;, score=0.836 total time=   0.4s\n",
      "[CV 3/5] END colsample_bytree=0, max_depth=3, min_child_weight=7;, score=0.839 total time=   0.6s\n",
      "[CV 4/5] END colsample_bytree=0, max_depth=3, min_child_weight=7;, score=0.818 total time=   0.5s\n",
      "[CV 5/5] END colsample_bytree=0, max_depth=3, min_child_weight=7;, score=0.829 total time=   0.4s\n",
      "[CV 1/5] END colsample_bytree=0, max_depth=4, min_child_weight=5;, score=0.820 total time=   0.4s\n",
      "[CV 2/5] END colsample_bytree=0, max_depth=4, min_child_weight=5;, score=0.831 total time=   0.7s\n",
      "[CV 3/5] END colsample_bytree=0, max_depth=4, min_child_weight=5;, score=0.840 total time=   0.4s\n",
      "[CV 4/5] END colsample_bytree=0, max_depth=4, min_child_weight=5;, score=0.811 total time=   0.5s\n",
      "[CV 5/5] END colsample_bytree=0, max_depth=4, min_child_weight=5;, score=0.822 total time=   0.5s\n",
      "[CV 1/5] END colsample_bytree=0, max_depth=4, min_child_weight=6;, score=0.824 total time=   0.7s\n",
      "[CV 2/5] END colsample_bytree=0, max_depth=4, min_child_weight=6;, score=0.830 total time=   0.3s\n",
      "[CV 3/5] END colsample_bytree=0, max_depth=4, min_child_weight=6;, score=0.843 total time=   0.3s\n",
      "[CV 4/5] END colsample_bytree=0, max_depth=4, min_child_weight=6;, score=0.815 total time=   0.4s\n",
      "[CV 5/5] END colsample_bytree=0, max_depth=4, min_child_weight=6;, score=0.823 total time=   0.3s\n",
      "[CV 1/5] END colsample_bytree=0, max_depth=4, min_child_weight=7;, score=0.822 total time=   0.4s\n",
      "[CV 2/5] END colsample_bytree=0, max_depth=4, min_child_weight=7;, score=0.832 total time=   0.3s\n",
      "[CV 3/5] END colsample_bytree=0, max_depth=4, min_child_weight=7;, score=0.843 total time=   0.3s\n",
      "[CV 4/5] END colsample_bytree=0, max_depth=4, min_child_weight=7;, score=0.813 total time=   0.6s\n",
      "[CV 5/5] END colsample_bytree=0, max_depth=4, min_child_weight=7;, score=0.825 total time=   0.8s\n",
      "[CV 1/5] END colsample_bytree=0, max_depth=5, min_child_weight=5;, score=0.815 total time=   0.4s\n",
      "[CV 2/5] END colsample_bytree=0, max_depth=5, min_child_weight=5;, score=0.829 total time=   0.5s\n",
      "[CV 3/5] END colsample_bytree=0, max_depth=5, min_child_weight=5;, score=0.836 total time=   0.4s\n",
      "[CV 4/5] END colsample_bytree=0, max_depth=5, min_child_weight=5;, score=0.811 total time=   0.5s\n",
      "[CV 5/5] END colsample_bytree=0, max_depth=5, min_child_weight=5;, score=0.823 total time=   0.4s\n",
      "[CV 1/5] END colsample_bytree=0, max_depth=5, min_child_weight=6;, score=0.819 total time=   0.4s\n",
      "[CV 2/5] END colsample_bytree=0, max_depth=5, min_child_weight=6;, score=0.827 total time=   0.4s\n",
      "[CV 3/5] END colsample_bytree=0, max_depth=5, min_child_weight=6;, score=0.838 total time=   0.5s\n",
      "[CV 4/5] END colsample_bytree=0, max_depth=5, min_child_weight=6;, score=0.811 total time=   0.4s\n",
      "[CV 5/5] END colsample_bytree=0, max_depth=5, min_child_weight=6;, score=0.816 total time=   0.4s\n",
      "[CV 1/5] END colsample_bytree=0, max_depth=5, min_child_weight=7;, score=0.818 total time=   0.4s\n",
      "[CV 2/5] END colsample_bytree=0, max_depth=5, min_child_weight=7;, score=0.829 total time=   0.4s\n",
      "[CV 3/5] END colsample_bytree=0, max_depth=5, min_child_weight=7;, score=0.835 total time=   0.4s\n",
      "[CV 4/5] END colsample_bytree=0, max_depth=5, min_child_weight=7;, score=0.815 total time=   0.4s\n",
      "[CV 5/5] END colsample_bytree=0, max_depth=5, min_child_weight=7;, score=0.820 total time=   0.4s\n",
      "[CV 1/5] END colsample_bytree=0.2, max_depth=3, min_child_weight=5;, score=0.845 total time=   0.4s\n",
      "[CV 2/5] END colsample_bytree=0.2, max_depth=3, min_child_weight=5;, score=0.853 total time=   0.4s\n",
      "[CV 3/5] END colsample_bytree=0.2, max_depth=3, min_child_weight=5;, score=0.851 total time=   0.4s\n",
      "[CV 4/5] END colsample_bytree=0.2, max_depth=3, min_child_weight=5;, score=0.825 total time=   0.4s\n",
      "[CV 5/5] END colsample_bytree=0.2, max_depth=3, min_child_weight=5;, score=0.844 total time=   0.3s\n",
      "[CV 1/5] END colsample_bytree=0.2, max_depth=3, min_child_weight=6;, score=0.848 total time=   0.4s\n",
      "[CV 2/5] END colsample_bytree=0.2, max_depth=3, min_child_weight=6;, score=0.851 total time=   0.4s\n",
      "[CV 3/5] END colsample_bytree=0.2, max_depth=3, min_child_weight=6;, score=0.855 total time=   0.4s\n",
      "[CV 4/5] END colsample_bytree=0.2, max_depth=3, min_child_weight=6;, score=0.826 total time=   0.3s\n",
      "[CV 5/5] END colsample_bytree=0.2, max_depth=3, min_child_weight=6;, score=0.844 total time=   0.3s\n",
      "[CV 1/5] END colsample_bytree=0.2, max_depth=3, min_child_weight=7;, score=0.844 total time=   0.4s\n",
      "[CV 2/5] END colsample_bytree=0.2, max_depth=3, min_child_weight=7;, score=0.852 total time=   0.4s\n",
      "[CV 3/5] END colsample_bytree=0.2, max_depth=3, min_child_weight=7;, score=0.854 total time=   0.3s\n",
      "[CV 4/5] END colsample_bytree=0.2, max_depth=3, min_child_weight=7;, score=0.826 total time=   0.3s\n",
      "[CV 5/5] END colsample_bytree=0.2, max_depth=3, min_child_weight=7;, score=0.848 total time=   0.2s\n",
      "[CV 1/5] END colsample_bytree=0.2, max_depth=4, min_child_weight=5;, score=0.840 total time=   0.2s\n",
      "[CV 2/5] END colsample_bytree=0.2, max_depth=4, min_child_weight=5;, score=0.853 total time=   0.3s\n",
      "[CV 3/5] END colsample_bytree=0.2, max_depth=4, min_child_weight=5;, score=0.860 total time=   0.3s\n",
      "[CV 4/5] END colsample_bytree=0.2, max_depth=4, min_child_weight=5;, score=0.826 total time=   0.3s\n",
      "[CV 5/5] END colsample_bytree=0.2, max_depth=4, min_child_weight=5;, score=0.844 total time=   0.5s\n",
      "[CV 1/5] END colsample_bytree=0.2, max_depth=4, min_child_weight=6;, score=0.841 total time=   0.2s\n",
      "[CV 2/5] END colsample_bytree=0.2, max_depth=4, min_child_weight=6;, score=0.846 total time=   0.3s\n",
      "[CV 3/5] END colsample_bytree=0.2, max_depth=4, min_child_weight=6;, score=0.858 total time=   0.3s\n",
      "[CV 4/5] END colsample_bytree=0.2, max_depth=4, min_child_weight=6;, score=0.827 total time=   0.3s\n",
      "[CV 5/5] END colsample_bytree=0.2, max_depth=4, min_child_weight=6;, score=0.846 total time=   0.3s\n",
      "[CV 1/5] END colsample_bytree=0.2, max_depth=4, min_child_weight=7;, score=0.839 total time=   0.3s\n",
      "[CV 2/5] END colsample_bytree=0.2, max_depth=4, min_child_weight=7;, score=0.848 total time=   0.3s\n",
      "[CV 3/5] END colsample_bytree=0.2, max_depth=4, min_child_weight=7;, score=0.854 total time=   0.3s\n",
      "[CV 4/5] END colsample_bytree=0.2, max_depth=4, min_child_weight=7;, score=0.829 total time=   0.3s\n",
      "[CV 5/5] END colsample_bytree=0.2, max_depth=4, min_child_weight=7;, score=0.845 total time=   0.4s\n",
      "[CV 1/5] END colsample_bytree=0.2, max_depth=5, min_child_weight=5;, score=0.844 total time=   0.4s\n",
      "[CV 2/5] END colsample_bytree=0.2, max_depth=5, min_child_weight=5;, score=0.849 total time=   0.3s\n",
      "[CV 3/5] END colsample_bytree=0.2, max_depth=5, min_child_weight=5;, score=0.855 total time=   0.3s\n",
      "[CV 4/5] END colsample_bytree=0.2, max_depth=5, min_child_weight=5;, score=0.824 total time=   0.3s\n",
      "[CV 5/5] END colsample_bytree=0.2, max_depth=5, min_child_weight=5;, score=0.841 total time=   0.3s\n",
      "[CV 1/5] END colsample_bytree=0.2, max_depth=5, min_child_weight=6;, score=0.844 total time=   0.3s\n",
      "[CV 2/5] END colsample_bytree=0.2, max_depth=5, min_child_weight=6;, score=0.847 total time=   0.3s\n",
      "[CV 3/5] END colsample_bytree=0.2, max_depth=5, min_child_weight=6;, score=0.855 total time=   0.3s\n",
      "[CV 4/5] END colsample_bytree=0.2, max_depth=5, min_child_weight=6;, score=0.826 total time=   0.3s\n",
      "[CV 5/5] END colsample_bytree=0.2, max_depth=5, min_child_weight=6;, score=0.850 total time=   0.3s\n",
      "[CV 1/5] END colsample_bytree=0.2, max_depth=5, min_child_weight=7;, score=0.844 total time=   0.3s\n",
      "[CV 2/5] END colsample_bytree=0.2, max_depth=5, min_child_weight=7;, score=0.848 total time=   0.3s\n",
      "[CV 3/5] END colsample_bytree=0.2, max_depth=5, min_child_weight=7;, score=0.857 total time=   0.3s\n",
      "[CV 4/5] END colsample_bytree=0.2, max_depth=5, min_child_weight=7;, score=0.827 total time=   0.2s\n",
      "[CV 5/5] END colsample_bytree=0.2, max_depth=5, min_child_weight=7;, score=0.840 total time=   0.2s\n"
     ]
    },
    {
     "data": {
      "text/html": [
       "<style>#sk-container-id-1 {color: black;}#sk-container-id-1 pre{padding: 0;}#sk-container-id-1 div.sk-toggleable {background-color: white;}#sk-container-id-1 label.sk-toggleable__label {cursor: pointer;display: block;width: 100%;margin-bottom: 0;padding: 0.3em;box-sizing: border-box;text-align: center;}#sk-container-id-1 label.sk-toggleable__label-arrow:before {content: \"▸\";float: left;margin-right: 0.25em;color: #696969;}#sk-container-id-1 label.sk-toggleable__label-arrow:hover:before {color: black;}#sk-container-id-1 div.sk-estimator:hover label.sk-toggleable__label-arrow:before {color: black;}#sk-container-id-1 div.sk-toggleable__content {max-height: 0;max-width: 0;overflow: hidden;text-align: left;background-color: #f0f8ff;}#sk-container-id-1 div.sk-toggleable__content pre {margin: 0.2em;color: black;border-radius: 0.25em;background-color: #f0f8ff;}#sk-container-id-1 input.sk-toggleable__control:checked~div.sk-toggleable__content {max-height: 200px;max-width: 100%;overflow: auto;}#sk-container-id-1 input.sk-toggleable__control:checked~label.sk-toggleable__label-arrow:before {content: \"▾\";}#sk-container-id-1 div.sk-estimator input.sk-toggleable__control:checked~label.sk-toggleable__label {background-color: #d4ebff;}#sk-container-id-1 div.sk-label input.sk-toggleable__control:checked~label.sk-toggleable__label {background-color: #d4ebff;}#sk-container-id-1 input.sk-hidden--visually {border: 0;clip: rect(1px 1px 1px 1px);clip: rect(1px, 1px, 1px, 1px);height: 1px;margin: -1px;overflow: hidden;padding: 0;position: absolute;width: 1px;}#sk-container-id-1 div.sk-estimator {font-family: monospace;background-color: #f0f8ff;border: 1px dotted black;border-radius: 0.25em;box-sizing: border-box;margin-bottom: 0.5em;}#sk-container-id-1 div.sk-estimator:hover {background-color: #d4ebff;}#sk-container-id-1 div.sk-parallel-item::after {content: \"\";width: 100%;border-bottom: 1px solid gray;flex-grow: 1;}#sk-container-id-1 div.sk-label:hover label.sk-toggleable__label {background-color: #d4ebff;}#sk-container-id-1 div.sk-serial::before {content: \"\";position: absolute;border-left: 1px solid gray;box-sizing: border-box;top: 0;bottom: 0;left: 50%;z-index: 0;}#sk-container-id-1 div.sk-serial {display: flex;flex-direction: column;align-items: center;background-color: white;padding-right: 0.2em;padding-left: 0.2em;position: relative;}#sk-container-id-1 div.sk-item {position: relative;z-index: 1;}#sk-container-id-1 div.sk-parallel {display: flex;align-items: stretch;justify-content: center;background-color: white;position: relative;}#sk-container-id-1 div.sk-item::before, #sk-container-id-1 div.sk-parallel-item::before {content: \"\";position: absolute;border-left: 1px solid gray;box-sizing: border-box;top: 0;bottom: 0;left: 50%;z-index: -1;}#sk-container-id-1 div.sk-parallel-item {display: flex;flex-direction: column;z-index: 1;position: relative;background-color: white;}#sk-container-id-1 div.sk-parallel-item:first-child::after {align-self: flex-end;width: 50%;}#sk-container-id-1 div.sk-parallel-item:last-child::after {align-self: flex-start;width: 50%;}#sk-container-id-1 div.sk-parallel-item:only-child::after {width: 0;}#sk-container-id-1 div.sk-dashed-wrapped {border: 1px dashed gray;margin: 0 0.4em 0.5em 0.4em;box-sizing: border-box;padding-bottom: 0.4em;background-color: white;}#sk-container-id-1 div.sk-label label {font-family: monospace;font-weight: bold;display: inline-block;line-height: 1.2em;}#sk-container-id-1 div.sk-label-container {text-align: center;}#sk-container-id-1 div.sk-container {/* jupyter's `normalize.less` sets `[hidden] { display: none; }` but bootstrap.min.css set `[hidden] { display: none !important; }` so we also need the `!important` here to be able to override the default hidden behavior on the sphinx rendered scikit-learn.org. See: https://github.com/scikit-learn/scikit-learn/issues/21755 */display: inline-block !important;position: relative;}#sk-container-id-1 div.sk-text-repr-fallback {display: none;}</style><div id=\"sk-container-id-1\" class=\"sk-top-container\"><div class=\"sk-text-repr-fallback\"><pre>XGBClassifier(base_score=None, booster=None, callbacks=None,\n",
       "              colsample_bylevel=None, colsample_bynode=None,\n",
       "              colsample_bytree=None, device=None, early_stopping_rounds=None,\n",
       "              enable_categorical=False, eval_metric=None, feature_types=None,\n",
       "              gamma=None, grow_policy=None, importance_type=None,\n",
       "              interaction_constraints=None, learning_rate=None, max_bin=None,\n",
       "              max_cat_threshold=None, max_cat_to_onehot=None,\n",
       "              max_delta_step=None, max_depth=None, max_leaves=None,\n",
       "              min_child_weight=None, missing=nan, monotone_constraints=None,\n",
       "              multi_strategy=None, n_estimators=None, n_jobs=None,\n",
       "              num_parallel_tree=None, objective=&#x27;multi:softprob&#x27;, ...)</pre><b>In a Jupyter environment, please rerun this cell to show the HTML representation or trust the notebook. <br />On GitHub, the HTML representation is unable to render, please try loading this page with nbviewer.org.</b></div><div class=\"sk-container\" hidden><div class=\"sk-item\"><div class=\"sk-estimator sk-toggleable\"><input class=\"sk-toggleable__control sk-hidden--visually\" id=\"sk-estimator-id-1\" type=\"checkbox\" checked><label for=\"sk-estimator-id-1\" class=\"sk-toggleable__label sk-toggleable__label-arrow\">XGBClassifier</label><div class=\"sk-toggleable__content\"><pre>XGBClassifier(base_score=None, booster=None, callbacks=None,\n",
       "              colsample_bylevel=None, colsample_bynode=None,\n",
       "              colsample_bytree=None, device=None, early_stopping_rounds=None,\n",
       "              enable_categorical=False, eval_metric=None, feature_types=None,\n",
       "              gamma=None, grow_policy=None, importance_type=None,\n",
       "              interaction_constraints=None, learning_rate=None, max_bin=None,\n",
       "              max_cat_threshold=None, max_cat_to_onehot=None,\n",
       "              max_delta_step=None, max_depth=None, max_leaves=None,\n",
       "              min_child_weight=None, missing=nan, monotone_constraints=None,\n",
       "              multi_strategy=None, n_estimators=None, n_jobs=None,\n",
       "              num_parallel_tree=None, objective=&#x27;multi:softprob&#x27;, ...)</pre></div></div></div></div></div>"
      ],
      "text/plain": [
       "XGBClassifier(base_score=None, booster=None, callbacks=None,\n",
       "              colsample_bylevel=None, colsample_bynode=None,\n",
       "              colsample_bytree=None, device=None, early_stopping_rounds=None,\n",
       "              enable_categorical=False, eval_metric=None, feature_types=None,\n",
       "              gamma=None, grow_policy=None, importance_type=None,\n",
       "              interaction_constraints=None, learning_rate=None, max_bin=None,\n",
       "              max_cat_threshold=None, max_cat_to_onehot=None,\n",
       "              max_delta_step=None, max_depth=None, max_leaves=None,\n",
       "              min_child_weight=None, missing=nan, monotone_constraints=None,\n",
       "              multi_strategy=None, n_estimators=None, n_jobs=None,\n",
       "              num_parallel_tree=None, objective='multi:softprob', ...)"
      ]
     },
     "execution_count": 13,
     "metadata": {},
     "output_type": "execute_result"
    }
   ],
   "source": [
    "best_clf = clf.fit(X_train, y_train)\n",
    "_xgb.fit (X_train, y_train)"
   ]
  },
  {
   "cell_type": "code",
   "execution_count": 14,
   "id": "66df4444",
   "metadata": {},
   "outputs": [
    {
     "name": "stdout",
     "output_type": "stream",
     "text": [
      "Accuracy: 84.72%\n"
     ]
    }
   ],
   "source": [
    "xgb_score = _xgb.score(X_test, y_test)\n",
    "\n",
    "print(\"Accuracy: %.2f%%\" % (xgb_score * 100))"
   ]
  },
  {
   "cell_type": "code",
   "execution_count": 15,
   "id": "ef112876",
   "metadata": {},
   "outputs": [],
   "source": [
    "xgb_predictions = _xgb.predict(X_test)"
   ]
  },
  {
   "cell_type": "code",
   "execution_count": 16,
   "id": "b852627b",
   "metadata": {},
   "outputs": [
    {
     "name": "stdout",
     "output_type": "stream",
     "text": [
      "              precision    recall  f1-score   support\n",
      "\n",
      "           0       0.97      0.98      0.98      2323\n",
      "           1       0.41      0.27      0.33       132\n",
      "           2       0.53      0.55      0.54       329\n",
      "           3       0.58      0.60      0.59       348\n",
      "           4       0.57      0.58      0.58       173\n",
      "\n",
      "    accuracy                           0.85      3305\n",
      "   macro avg       0.61      0.60      0.60      3305\n",
      "weighted avg       0.84      0.85      0.84      3305\n",
      "\n"
     ]
    }
   ],
   "source": [
    "print(classification_report(y_test, xgb_predictions))"
   ]
  },
  {
   "cell_type": "code",
   "execution_count": 17,
   "id": "93dbd2a6",
   "metadata": {},
   "outputs": [
    {
     "name": "stdout",
     "output_type": "stream",
     "text": [
      "Accuracy: 85.05%\n"
     ]
    }
   ],
   "source": [
    "best_score = best_clf.score(X_test, y_test)\n",
    "\n",
    "print(\"Accuracy: %.2f%%\" % (best_score * 100))"
   ]
  },
  {
   "cell_type": "code",
   "execution_count": 18,
   "id": "cc5fe740",
   "metadata": {},
   "outputs": [],
   "source": [
    "best_predictions = best_clf.predict(X_test)"
   ]
  },
  {
   "cell_type": "code",
   "execution_count": 19,
   "id": "8bf9759b",
   "metadata": {},
   "outputs": [
    {
     "name": "stdout",
     "output_type": "stream",
     "text": [
      "              precision    recall  f1-score   support\n",
      "\n",
      "           0       0.97      0.98      0.97      2323\n",
      "           1       0.52      0.19      0.28       132\n",
      "           2       0.53      0.62      0.57       329\n",
      "           3       0.58      0.62      0.60       348\n",
      "           4       0.60      0.56      0.58       173\n",
      "\n",
      "    accuracy                           0.85      3305\n",
      "   macro avg       0.64      0.59      0.60      3305\n",
      "weighted avg       0.85      0.85      0.85      3305\n",
      "\n"
     ]
    }
   ],
   "source": [
    "print(classification_report(y_test, best_predictions))"
   ]
  }
 ],
 "metadata": {
  "kernelspec": {
   "display_name": "Python 3 (ipykernel)",
   "language": "python",
   "name": "python3"
  },
  "language_info": {
   "codemirror_mode": {
    "name": "ipython",
    "version": 3
   },
   "file_extension": ".py",
   "mimetype": "text/x-python",
   "name": "python",
   "nbconvert_exporter": "python",
   "pygments_lexer": "ipython3",
   "version": "3.12.1"
  }
 },
 "nbformat": 4,
 "nbformat_minor": 5
}
