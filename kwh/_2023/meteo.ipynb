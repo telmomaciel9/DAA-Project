{
 "cells": [
  {
   "cell_type": "code",
   "execution_count": 15,
   "id": "ea993b73",
   "metadata": {},
   "outputs": [],
   "source": [
    "import pandas as pd\n",
    "import seaborn as sns"
   ]
  },
  {
   "cell_type": "code",
   "execution_count": 16,
   "id": "5da554b5",
   "metadata": {},
   "outputs": [],
   "source": [
    "meteo_2023 = pd.read_csv('meteo_202301-202304.csv', encoding='IBM860')"
   ]
  },
  {
   "cell_type": "code",
   "execution_count": 17,
   "id": "618b8ff6",
   "metadata": {},
   "outputs": [
    {
     "name": "stdout",
     "output_type": "stream",
     "text": [
      "<class 'pandas.core.frame.DataFrame'>\n",
      "RangeIndex: 1752 entries, 0 to 1751\n",
      "Data columns (total 15 columns):\n",
      " #   Column               Non-Null Count  Dtype  \n",
      "---  ------               --------------  -----  \n",
      " 0   dt                   1752 non-null   int64  \n",
      " 1   dt_iso               1752 non-null   object \n",
      " 2   city_name            1752 non-null   object \n",
      " 3   temp                 1752 non-null   float64\n",
      " 4   feels_like           1752 non-null   float64\n",
      " 5   temp_min             1752 non-null   float64\n",
      " 6   temp_max             1752 non-null   float64\n",
      " 7   pressure             1752 non-null   int64  \n",
      " 8   sea_level            0 non-null      float64\n",
      " 9   grnd_level           0 non-null      float64\n",
      " 10  humidity             1752 non-null   int64  \n",
      " 11  wind_speed           1752 non-null   float64\n",
      " 12  rain_1h              206 non-null    float64\n",
      " 13  clouds_all           1752 non-null   int64  \n",
      " 14  weather_description  1752 non-null   object \n",
      "dtypes: float64(8), int64(4), object(3)\n",
      "memory usage: 205.4+ KB\n"
     ]
    }
   ],
   "source": [
    "meteo_2023.info()"
   ]
  },
  {
   "cell_type": "code",
   "execution_count": 18,
   "id": "cb93f1e3",
   "metadata": {
    "scrolled": false
   },
   "outputs": [
    {
     "data": {
      "text/plain": [
       "<Axes: >"
      ]
     },
     "execution_count": 18,
     "metadata": {},
     "output_type": "execute_result"
    },
    {
     "data": {
      "image/png": "[encoded data removed]",
      "text/plain": [
       "<Figure size 640x480 with 1 Axes>"
      ]
     },
     "metadata": {},
     "output_type": "display_data"
    }
   ],
   "source": [
    "sns.heatmap(meteo_2023.isnull(), yticklabels=False, cbar=False, cmap='viridis')"
   ]
  },
  {
   "cell_type": "code",
   "execution_count": 19,
   "id": "bd5a87e3",
   "metadata": {},
   "outputs": [],
   "source": [
    "meteo_2023.drop('sea_level', axis=1, inplace=True)\n",
    "meteo_2023.drop('grnd_level', axis=1, inplace=True)\n",
    "\n",
    "#or missing values => 0...\n",
    "meteo_2023.drop('rain_1h', axis=1, inplace=True)\n",
    "#meteo_203['rain_1h'].fillna(0, inplace=True)"
   ]
  },
  {
   "cell_type": "code",
   "execution_count": 20,
   "id": "630b1d87",
   "metadata": {
    "scrolled": true
   },
   "outputs": [
    {
     "name": "stdout",
     "output_type": "stream",
     "text": [
      "<class 'pandas.core.frame.DataFrame'>\n",
      "RangeIndex: 1752 entries, 0 to 1751\n",
      "Data columns (total 12 columns):\n",
      " #   Column               Non-Null Count  Dtype  \n",
      "---  ------               --------------  -----  \n",
      " 0   dt                   1752 non-null   int64  \n",
      " 1   dt_iso               1752 non-null   object \n",
      " 2   city_name            1752 non-null   object \n",
      " 3   temp                 1752 non-null   float64\n",
      " 4   feels_like           1752 non-null   float64\n",
      " 5   temp_min             1752 non-null   float64\n",
      " 6   temp_max             1752 non-null   float64\n",
      " 7   pressure             1752 non-null   int64  \n",
      " 8   humidity             1752 non-null   int64  \n",
      " 9   wind_speed           1752 non-null   float64\n",
      " 10  clouds_all           1752 non-null   int64  \n",
      " 11  weather_description  1752 non-null   object \n",
      "dtypes: float64(5), int64(4), object(3)\n",
      "memory usage: 164.4+ KB\n"
     ]
    }
   ],
   "source": [
    "meteo_2023.info()"
   ]
  },
  {
   "cell_type": "code",
   "execution_count": 21,
   "id": "a95c7987",
   "metadata": {},
   "outputs": [
    {
     "data": {
      "text/plain": [
       "0"
      ]
     },
     "execution_count": 21,
     "metadata": {},
     "output_type": "execute_result"
    }
   ],
   "source": [
    "meteo_2023.duplicated().sum()"
   ]
  },
  {
   "cell_type": "code",
   "execution_count": 22,
   "id": "32c1a791",
   "metadata": {},
   "outputs": [],
   "source": [
    "lista = []\n",
    "for i in range (meteo_2023['dt_iso'].size):\n",
    "    s = meteo_2023['dt_iso'][i]\n",
    "    lista.append (s[0:19])\n",
    "    \n",
    "meteo_2023['dt_iso'] = lista\n",
    "meteo_2023['dt_iso'] = pd.to_datetime (meteo_2023['dt_iso'], format = '%Y-%m-%d %H:%M:%S')\n",
    "\n",
    "meteo_2023.rename(columns={'dt_iso': 'Data & Hora'}, inplace=True)"
   ]
  },
  {
   "cell_type": "code",
   "execution_count": 23,
   "id": "7d53815c",
   "metadata": {
    "scrolled": true
   },
   "outputs": [
    {
     "data": {
      "text/html": [
       "<div>\n",
       "<style scoped>\n",
       "    .dataframe tbody tr th:only-of-type {\n",
       "        vertical-align: middle;\n",
       "    }\n",
       "\n",
       "    .dataframe tbody tr th {\n",
       "        vertical-align: top;\n",
       "    }\n",
       "\n",
       "    .dataframe thead th {\n",
       "        text-align: right;\n",
       "    }\n",
       "</style>\n",
       "<table border=\"1\" class=\"dataframe\">\n",
       "  <thead>\n",
       "    <tr style=\"text-align: right;\">\n",
       "      <th></th>\n",
       "      <th>dt</th>\n",
       "      <th>Data &amp; Hora</th>\n",
       "      <th>city_name</th>\n",
       "      <th>temp</th>\n",
       "      <th>feels_like</th>\n",
       "      <th>temp_min</th>\n",
       "      <th>temp_max</th>\n",
       "      <th>pressure</th>\n",
       "      <th>humidity</th>\n",
       "      <th>wind_speed</th>\n",
       "      <th>clouds_all</th>\n",
       "      <th>weather_description</th>\n",
       "    </tr>\n",
       "  </thead>\n",
       "  <tbody>\n",
       "    <tr>\n",
       "      <th>0</th>\n",
       "      <td>1672531200</td>\n",
       "      <td>2023-01-01 00:00:00</td>\n",
       "      <td>local</td>\n",
       "      <td>12.93</td>\n",
       "      <td>12.76</td>\n",
       "      <td>12.72</td>\n",
       "      <td>13.43</td>\n",
       "      <td>1019</td>\n",
       "      <td>95</td>\n",
       "      <td>2.02</td>\n",
       "      <td>100</td>\n",
       "      <td>moderate rain</td>\n",
       "    </tr>\n",
       "    <tr>\n",
       "      <th>1</th>\n",
       "      <td>1672534800</td>\n",
       "      <td>2023-01-01 01:00:00</td>\n",
       "      <td>local</td>\n",
       "      <td>13.49</td>\n",
       "      <td>13.38</td>\n",
       "      <td>13.43</td>\n",
       "      <td>13.90</td>\n",
       "      <td>1018</td>\n",
       "      <td>95</td>\n",
       "      <td>2.18</td>\n",
       "      <td>100</td>\n",
       "      <td>moderate rain</td>\n",
       "    </tr>\n",
       "    <tr>\n",
       "      <th>2</th>\n",
       "      <td>1672538400</td>\n",
       "      <td>2023-01-01 02:00:00</td>\n",
       "      <td>local</td>\n",
       "      <td>13.55</td>\n",
       "      <td>13.44</td>\n",
       "      <td>13.48</td>\n",
       "      <td>14.82</td>\n",
       "      <td>1017</td>\n",
       "      <td>95</td>\n",
       "      <td>2.88</td>\n",
       "      <td>100</td>\n",
       "      <td>moderate rain</td>\n",
       "    </tr>\n",
       "    <tr>\n",
       "      <th>3</th>\n",
       "      <td>1672542000</td>\n",
       "      <td>2023-01-01 03:00:00</td>\n",
       "      <td>local</td>\n",
       "      <td>13.61</td>\n",
       "      <td>13.51</td>\n",
       "      <td>12.01</td>\n",
       "      <td>14.82</td>\n",
       "      <td>1016</td>\n",
       "      <td>95</td>\n",
       "      <td>3.63</td>\n",
       "      <td>100</td>\n",
       "      <td>moderate rain</td>\n",
       "    </tr>\n",
       "    <tr>\n",
       "      <th>4</th>\n",
       "      <td>1672545600</td>\n",
       "      <td>2023-01-01 04:00:00</td>\n",
       "      <td>local</td>\n",
       "      <td>13.59</td>\n",
       "      <td>13.49</td>\n",
       "      <td>12.01</td>\n",
       "      <td>14.82</td>\n",
       "      <td>1015</td>\n",
       "      <td>95</td>\n",
       "      <td>4.58</td>\n",
       "      <td>100</td>\n",
       "      <td>moderate rain</td>\n",
       "    </tr>\n",
       "  </tbody>\n",
       "</table>\n",
       "</div>"
      ],
      "text/plain": [
       "           dt         Data & Hora city_name   temp  feels_like  temp_min  \\\n",
       "0  1672531200 2023-01-01 00:00:00     local  12.93       12.76     12.72   \n",
       "1  1672534800 2023-01-01 01:00:00     local  13.49       13.38     13.43   \n",
       "2  1672538400 2023-01-01 02:00:00     local  13.55       13.44     13.48   \n",
       "3  1672542000 2023-01-01 03:00:00     local  13.61       13.51     12.01   \n",
       "4  1672545600 2023-01-01 04:00:00     local  13.59       13.49     12.01   \n",
       "\n",
       "   temp_max  pressure  humidity  wind_speed  clouds_all weather_description  \n",
       "0     13.43      1019        95        2.02         100       moderate rain  \n",
       "1     13.90      1018        95        2.18         100       moderate rain  \n",
       "2     14.82      1017        95        2.88         100       moderate rain  \n",
       "3     14.82      1016        95        3.63         100       moderate rain  \n",
       "4     14.82      1015        95        4.58         100       moderate rain  "
      ]
     },
     "execution_count": 23,
     "metadata": {},
     "output_type": "execute_result"
    }
   ],
   "source": [
    "meteo_2023.head()"
   ]
  },
  {
   "cell_type": "code",
   "execution_count": 24,
   "id": "e0bbf170",
   "metadata": {},
   "outputs": [],
   "source": [
    "meteo_2023.drop('dt', axis=1, inplace=True)"
   ]
  },
  {
   "cell_type": "code",
   "execution_count": 25,
   "id": "e19efdb7",
   "metadata": {
    "scrolled": false
   },
   "outputs": [
    {
     "data": {
      "text/plain": [
       "<Axes: >"
      ]
     },
     "execution_count": 25,
     "metadata": {},
     "output_type": "execute_result"
    },
    {
     "data": {
      "image/png": "[encoded data removed]",
      "text/plain": [
       "<Figure size 640x480 with 1 Axes>"
      ]
     },
     "metadata": {},
     "output_type": "display_data"
    }
   ],
   "source": [
    "meteo_2023['city_name'].hist()"
   ]
  },
  {
   "cell_type": "code",
   "execution_count": 26,
   "id": "664b0699",
   "metadata": {},
   "outputs": [],
   "source": [
    "meteo_2023.drop('city_name', axis=1, inplace=True)"
   ]
  },
  {
   "cell_type": "code",
   "execution_count": 27,
   "id": "bd3223ab",
   "metadata": {},
   "outputs": [
    {
     "name": "stdout",
     "output_type": "stream",
     "text": [
      "<class 'pandas.core.frame.DataFrame'>\n",
      "RangeIndex: 1752 entries, 0 to 1751\n",
      "Data columns (total 10 columns):\n",
      " #   Column               Non-Null Count  Dtype         \n",
      "---  ------               --------------  -----         \n",
      " 0   Data & Hora          1752 non-null   datetime64[ns]\n",
      " 1   temp                 1752 non-null   float64       \n",
      " 2   feels_like           1752 non-null   float64       \n",
      " 3   temp_min             1752 non-null   float64       \n",
      " 4   temp_max             1752 non-null   float64       \n",
      " 5   pressure             1752 non-null   int64         \n",
      " 6   humidity             1752 non-null   int64         \n",
      " 7   wind_speed           1752 non-null   float64       \n",
      " 8   clouds_all           1752 non-null   int64         \n",
      " 9   weather_description  1752 non-null   object        \n",
      "dtypes: datetime64[ns](1), float64(5), int64(3), object(1)\n",
      "memory usage: 137.0+ KB\n"
     ]
    }
   ],
   "source": [
    "meteo_2023.info()"
   ]
  },
  {
   "cell_type": "code",
   "execution_count": 28,
   "id": "4e633481",
   "metadata": {},
   "outputs": [],
   "source": [
    "meteo_2023.to_csv(\"meteo_2023.csv\", encoding='utf-8')"
   ]
  },
  {
   "cell_type": "code",
   "execution_count": null,
   "id": "c799e50a",
   "metadata": {},
   "outputs": [],
   "source": []
  },
  {
   "cell_type": "code",
   "execution_count": null,
   "id": "17491b4b",
   "metadata": {},
   "outputs": [],
   "source": []
  },
  {
   "cell_type": "code",
   "execution_count": null,
   "id": "6f5e38cc",
   "metadata": {},
   "outputs": [],
   "source": []
  }
 ],
 "metadata": {
  "kernelspec": {
   "display_name": "Python 3 (ipykernel)",
   "language": "python",
   "name": "python3"
  },
  "language_info": {
   "codemirror_mode": {
    "name": "ipython",
    "version": 3
   },
   "file_extension": ".py",
   "mimetype": "text/x-python",
   "name": "python",
   "nbconvert_exporter": "python",
   "pygments_lexer": "ipython3",
   "version": "3.11.5"
  }
 },
 "nbformat": 4,
 "nbformat_minor": 5
}
