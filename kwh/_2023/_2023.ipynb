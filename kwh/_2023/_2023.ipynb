{
 "cells": [
  {
   "cell_type": "code",
   "execution_count": 18,
   "id": "46a581d4",
   "metadata": {},
   "outputs": [],
   "source": [
    "import pandas as pd"
   ]
  },
  {
   "cell_type": "code",
   "execution_count": 19,
   "id": "b49524c4",
   "metadata": {},
   "outputs": [],
   "source": [
    "energia_2023 = pd.read_csv('energia_2023.csv', encoding='utf-8')"
   ]
  },
  {
   "cell_type": "code",
   "execution_count": 20,
   "id": "605cc127",
   "metadata": {},
   "outputs": [],
   "source": [
    "meteo_2023 = pd.read_csv('meteo_2023.csv', encoding='utf-8')"
   ]
  },
  {
   "cell_type": "code",
   "execution_count": 21,
   "id": "af6cb418",
   "metadata": {},
   "outputs": [
    {
     "name": "stdout",
     "output_type": "stream",
     "text": [
      "<class 'pandas.core.frame.DataFrame'>\n",
      "RangeIndex: 2256 entries, 0 to 2255\n",
      "Data columns (total 5 columns):\n",
      " #   Column                   Non-Null Count  Dtype  \n",
      "---  ------                   --------------  -----  \n",
      " 0   Unnamed: 0               2256 non-null   int64  \n",
      " 1   Normal (kWh)             2256 non-null   float64\n",
      " 2   Horário Económico (kWh)  2256 non-null   float64\n",
      " 3   Autoconsumo (kWh)        2256 non-null   float64\n",
      " 4   Data & Hora              2256 non-null   object \n",
      "dtypes: float64(3), int64(1), object(1)\n",
      "memory usage: 88.3+ KB\n"
     ]
    }
   ],
   "source": [
    "energia_2023.info()"
   ]
  },
  {
   "cell_type": "code",
   "execution_count": 22,
   "id": "a1771611",
   "metadata": {},
   "outputs": [
    {
     "name": "stdout",
     "output_type": "stream",
     "text": [
      "<class 'pandas.core.frame.DataFrame'>\n",
      "RangeIndex: 1752 entries, 0 to 1751\n",
      "Data columns (total 11 columns):\n",
      " #   Column               Non-Null Count  Dtype  \n",
      "---  ------               --------------  -----  \n",
      " 0   Unnamed: 0           1752 non-null   int64  \n",
      " 1   Data & Hora          1752 non-null   object \n",
      " 2   temp                 1752 non-null   float64\n",
      " 3   feels_like           1752 non-null   float64\n",
      " 4   temp_min             1752 non-null   float64\n",
      " 5   temp_max             1752 non-null   float64\n",
      " 6   pressure             1752 non-null   int64  \n",
      " 7   humidity             1752 non-null   int64  \n",
      " 8   wind_speed           1752 non-null   float64\n",
      " 9   clouds_all           1752 non-null   int64  \n",
      " 10  weather_description  1752 non-null   object \n",
      "dtypes: float64(5), int64(4), object(2)\n",
      "memory usage: 150.7+ KB\n"
     ]
    }
   ],
   "source": [
    "meteo_2023.info()"
   ]
  },
  {
   "cell_type": "code",
   "execution_count": 24,
   "id": "c34ed867",
   "metadata": {},
   "outputs": [],
   "source": [
    "df_2023 = pd.merge(energia_2023, meteo_2023, how='outer', on='Data & Hora')"
   ]
  },
  {
   "cell_type": "code",
   "execution_count": 25,
   "id": "c4da4183",
   "metadata": {
    "scrolled": true
   },
   "outputs": [
    {
     "name": "stdout",
     "output_type": "stream",
     "text": [
      "<class 'pandas.core.frame.DataFrame'>\n",
      "RangeIndex: 2256 entries, 0 to 2255\n",
      "Data columns (total 15 columns):\n",
      " #   Column                   Non-Null Count  Dtype  \n",
      "---  ------                   --------------  -----  \n",
      " 0   Unnamed: 0_x             2256 non-null   int64  \n",
      " 1   Normal (kWh)             2256 non-null   float64\n",
      " 2   Horário Económico (kWh)  2256 non-null   float64\n",
      " 3   Autoconsumo (kWh)        2256 non-null   float64\n",
      " 4   Data & Hora              2256 non-null   object \n",
      " 5   Unnamed: 0_y             1752 non-null   float64\n",
      " 6   temp                     1752 non-null   float64\n",
      " 7   feels_like               1752 non-null   float64\n",
      " 8   temp_min                 1752 non-null   float64\n",
      " 9   temp_max                 1752 non-null   float64\n",
      " 10  pressure                 1752 non-null   float64\n",
      " 11  humidity                 1752 non-null   float64\n",
      " 12  wind_speed               1752 non-null   float64\n",
      " 13  clouds_all               1752 non-null   float64\n",
      " 14  weather_description      1752 non-null   object \n",
      "dtypes: float64(12), int64(1), object(2)\n",
      "memory usage: 264.5+ KB\n"
     ]
    }
   ],
   "source": [
    "df_2023.info()"
   ]
  },
  {
   "cell_type": "code",
   "execution_count": 26,
   "id": "29733038",
   "metadata": {},
   "outputs": [
    {
     "data": {
      "text/html": [
       "<div>\n",
       "<style scoped>\n",
       "    .dataframe tbody tr th:only-of-type {\n",
       "        vertical-align: middle;\n",
       "    }\n",
       "\n",
       "    .dataframe tbody tr th {\n",
       "        vertical-align: top;\n",
       "    }\n",
       "\n",
       "    .dataframe thead th {\n",
       "        text-align: right;\n",
       "    }\n",
       "</style>\n",
       "<table border=\"1\" class=\"dataframe\">\n",
       "  <thead>\n",
       "    <tr style=\"text-align: right;\">\n",
       "      <th></th>\n",
       "      <th>Unnamed: 0_x</th>\n",
       "      <th>Normal (kWh)</th>\n",
       "      <th>Horário Económico (kWh)</th>\n",
       "      <th>Autoconsumo (kWh)</th>\n",
       "      <th>Data &amp; Hora</th>\n",
       "      <th>Unnamed: 0_y</th>\n",
       "      <th>temp</th>\n",
       "      <th>feels_like</th>\n",
       "      <th>temp_min</th>\n",
       "      <th>temp_max</th>\n",
       "      <th>pressure</th>\n",
       "      <th>humidity</th>\n",
       "      <th>wind_speed</th>\n",
       "      <th>clouds_all</th>\n",
       "      <th>weather_description</th>\n",
       "    </tr>\n",
       "  </thead>\n",
       "  <tbody>\n",
       "    <tr>\n",
       "      <th>0</th>\n",
       "      <td>0</td>\n",
       "      <td>0.0</td>\n",
       "      <td>0.467</td>\n",
       "      <td>0.0</td>\n",
       "      <td>2023-01-01 00:00:00</td>\n",
       "      <td>0.0</td>\n",
       "      <td>12.93</td>\n",
       "      <td>12.76</td>\n",
       "      <td>12.72</td>\n",
       "      <td>13.43</td>\n",
       "      <td>1019.0</td>\n",
       "      <td>95.0</td>\n",
       "      <td>2.02</td>\n",
       "      <td>100.0</td>\n",
       "      <td>moderate rain</td>\n",
       "    </tr>\n",
       "    <tr>\n",
       "      <th>1</th>\n",
       "      <td>1</td>\n",
       "      <td>0.0</td>\n",
       "      <td>0.577</td>\n",
       "      <td>0.0</td>\n",
       "      <td>2023-01-01 01:00:00</td>\n",
       "      <td>1.0</td>\n",
       "      <td>13.49</td>\n",
       "      <td>13.38</td>\n",
       "      <td>13.43</td>\n",
       "      <td>13.90</td>\n",
       "      <td>1018.0</td>\n",
       "      <td>95.0</td>\n",
       "      <td>2.18</td>\n",
       "      <td>100.0</td>\n",
       "      <td>moderate rain</td>\n",
       "    </tr>\n",
       "    <tr>\n",
       "      <th>2</th>\n",
       "      <td>2</td>\n",
       "      <td>0.0</td>\n",
       "      <td>0.346</td>\n",
       "      <td>0.0</td>\n",
       "      <td>2023-01-01 02:00:00</td>\n",
       "      <td>2.0</td>\n",
       "      <td>13.55</td>\n",
       "      <td>13.44</td>\n",
       "      <td>13.48</td>\n",
       "      <td>14.82</td>\n",
       "      <td>1017.0</td>\n",
       "      <td>95.0</td>\n",
       "      <td>2.88</td>\n",
       "      <td>100.0</td>\n",
       "      <td>moderate rain</td>\n",
       "    </tr>\n",
       "    <tr>\n",
       "      <th>3</th>\n",
       "      <td>3</td>\n",
       "      <td>0.0</td>\n",
       "      <td>0.270</td>\n",
       "      <td>0.0</td>\n",
       "      <td>2023-01-01 03:00:00</td>\n",
       "      <td>3.0</td>\n",
       "      <td>13.61</td>\n",
       "      <td>13.51</td>\n",
       "      <td>12.01</td>\n",
       "      <td>14.82</td>\n",
       "      <td>1016.0</td>\n",
       "      <td>95.0</td>\n",
       "      <td>3.63</td>\n",
       "      <td>100.0</td>\n",
       "      <td>moderate rain</td>\n",
       "    </tr>\n",
       "    <tr>\n",
       "      <th>4</th>\n",
       "      <td>4</td>\n",
       "      <td>0.0</td>\n",
       "      <td>0.252</td>\n",
       "      <td>0.0</td>\n",
       "      <td>2023-01-01 04:00:00</td>\n",
       "      <td>4.0</td>\n",
       "      <td>13.59</td>\n",
       "      <td>13.49</td>\n",
       "      <td>12.01</td>\n",
       "      <td>14.82</td>\n",
       "      <td>1015.0</td>\n",
       "      <td>95.0</td>\n",
       "      <td>4.58</td>\n",
       "      <td>100.0</td>\n",
       "      <td>moderate rain</td>\n",
       "    </tr>\n",
       "  </tbody>\n",
       "</table>\n",
       "</div>"
      ],
      "text/plain": [
       "   Unnamed: 0_x  Normal (kWh)  Horário Económico (kWh)  Autoconsumo (kWh)  \\\n",
       "0             0           0.0                    0.467                0.0   \n",
       "1             1           0.0                    0.577                0.0   \n",
       "2             2           0.0                    0.346                0.0   \n",
       "3             3           0.0                    0.270                0.0   \n",
       "4             4           0.0                    0.252                0.0   \n",
       "\n",
       "           Data & Hora  Unnamed: 0_y   temp  feels_like  temp_min  temp_max  \\\n",
       "0  2023-01-01 00:00:00           0.0  12.93       12.76     12.72     13.43   \n",
       "1  2023-01-01 01:00:00           1.0  13.49       13.38     13.43     13.90   \n",
       "2  2023-01-01 02:00:00           2.0  13.55       13.44     13.48     14.82   \n",
       "3  2023-01-01 03:00:00           3.0  13.61       13.51     12.01     14.82   \n",
       "4  2023-01-01 04:00:00           4.0  13.59       13.49     12.01     14.82   \n",
       "\n",
       "   pressure  humidity  wind_speed  clouds_all weather_description  \n",
       "0    1019.0      95.0        2.02       100.0       moderate rain  \n",
       "1    1018.0      95.0        2.18       100.0       moderate rain  \n",
       "2    1017.0      95.0        2.88       100.0       moderate rain  \n",
       "3    1016.0      95.0        3.63       100.0       moderate rain  \n",
       "4    1015.0      95.0        4.58       100.0       moderate rain  "
      ]
     },
     "execution_count": 26,
     "metadata": {},
     "output_type": "execute_result"
    }
   ],
   "source": [
    "df_2023.head()"
   ]
  },
  {
   "cell_type": "code",
   "execution_count": 27,
   "id": "1e8bd2f8",
   "metadata": {},
   "outputs": [],
   "source": [
    "df_2023.drop('Unnamed: 0_x', axis=1, inplace=True)\n",
    "df_2023.drop('Unnamed: 0_y', axis=1, inplace=True)"
   ]
  },
  {
   "cell_type": "code",
   "execution_count": 28,
   "id": "2ebb80d5",
   "metadata": {},
   "outputs": [],
   "source": [
    "df_2023.to_csv(\"_2023.csv\", encoding='utf-8')"
   ]
  },
  {
   "cell_type": "code",
   "execution_count": null,
   "id": "24b04b28",
   "metadata": {},
   "outputs": [],
   "source": []
  }
 ],
 "metadata": {
  "kernelspec": {
   "display_name": "Python 3 (ipykernel)",
   "language": "python",
   "name": "python3"
  },
  "language_info": {
   "codemirror_mode": {
    "name": "ipython",
    "version": 3
   },
   "file_extension": ".py",
   "mimetype": "text/x-python",
   "name": "python",
   "nbconvert_exporter": "python",
   "pygments_lexer": "ipython3",
   "version": "3.11.5"
  }
 },
 "nbformat": 4,
 "nbformat_minor": 5
}
