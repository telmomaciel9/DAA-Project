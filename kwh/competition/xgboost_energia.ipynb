{
 "cells": [
  {
   "cell_type": "code",
   "execution_count": 159,
   "id": "0cdb30b0",
   "metadata": {},
   "outputs": [],
   "source": [
    "import pandas as pd"
   ]
  },
  {
   "cell_type": "code",
   "execution_count": 160,
   "id": "a7687798",
   "metadata": {},
   "outputs": [],
   "source": [
    "_2021 = pd.read_csv('_2021.csv', encoding='utf-8')\n",
    "_2021['Injeção na rede (kWh)'].fillna(\"None\", inplace=True)\n",
    "\n",
    "_2022 = pd.read_csv('_2022.csv', encoding='utf-8')\n",
    "_2022['Injeção na rede (kWh)'].fillna(\"None\", inplace=True)\n",
    "\n",
    "treino = pd.concat([_2021, _2022], ignore_index=True)\n",
    "treino.drop('Unnamed: 0', axis=1, inplace=True)\n",
    "\n",
    "treino.drop('temp', axis=1, inplace=True)\n",
    "treino.drop('feels_like', axis=1, inplace=True)\n",
    "treino.drop('temp_min', axis=1, inplace=True)\n",
    "treino.drop('temp_max', axis=1, inplace=True)\n",
    "treino.drop('pressure', axis=1, inplace=True)\n",
    "treino.drop('humidity', axis=1, inplace=True)\n",
    "treino.drop('wind_speed', axis=1, inplace=True)\n",
    "treino.drop('clouds_all', axis=1, inplace=True)\n",
    "treino.drop('weather_description', axis=1, inplace=True)"
   ]
  },
  {
   "cell_type": "code",
   "execution_count": 161,
   "id": "68829658",
   "metadata": {},
   "outputs": [
    {
     "name": "stdout",
     "output_type": "stream",
     "text": [
      "<class 'pandas.core.frame.DataFrame'>\n",
      "RangeIndex: 11016 entries, 0 to 11015\n",
      "Data columns (total 5 columns):\n",
      " #   Column                   Non-Null Count  Dtype  \n",
      "---  ------                   --------------  -----  \n",
      " 0   Normal (kWh)             11016 non-null  float64\n",
      " 1   Horário Económico (kWh)  11016 non-null  float64\n",
      " 2   Autoconsumo (kWh)        11016 non-null  float64\n",
      " 3   Injeção na rede (kWh)    11016 non-null  object \n",
      " 4   Data & Hora              11016 non-null  object \n",
      "dtypes: float64(3), object(2)\n",
      "memory usage: 430.4+ KB\n"
     ]
    }
   ],
   "source": [
    "treino.info()"
   ]
  },
  {
   "cell_type": "code",
   "execution_count": 162,
   "id": "a4372d39",
   "metadata": {},
   "outputs": [
    {
     "data": {
      "text/html": [
       "<div>\n",
       "<style scoped>\n",
       "    .dataframe tbody tr th:only-of-type {\n",
       "        vertical-align: middle;\n",
       "    }\n",
       "\n",
       "    .dataframe tbody tr th {\n",
       "        vertical-align: top;\n",
       "    }\n",
       "\n",
       "    .dataframe thead th {\n",
       "        text-align: right;\n",
       "    }\n",
       "</style>\n",
       "<table border=\"1\" class=\"dataframe\">\n",
       "  <thead>\n",
       "    <tr style=\"text-align: right;\">\n",
       "      <th></th>\n",
       "      <th>Normal (kWh)</th>\n",
       "      <th>Horário Económico (kWh)</th>\n",
       "      <th>Autoconsumo (kWh)</th>\n",
       "      <th>Injeção na rede (kWh)</th>\n",
       "      <th>Data &amp; Hora</th>\n",
       "    </tr>\n",
       "  </thead>\n",
       "  <tbody>\n",
       "    <tr>\n",
       "      <th>0</th>\n",
       "      <td>0.0</td>\n",
       "      <td>0.0</td>\n",
       "      <td>0.0</td>\n",
       "      <td>None</td>\n",
       "      <td>2021-09-29 00:00:00</td>\n",
       "    </tr>\n",
       "    <tr>\n",
       "      <th>1</th>\n",
       "      <td>0.0</td>\n",
       "      <td>0.0</td>\n",
       "      <td>0.0</td>\n",
       "      <td>None</td>\n",
       "      <td>2021-09-29 01:00:00</td>\n",
       "    </tr>\n",
       "    <tr>\n",
       "      <th>2</th>\n",
       "      <td>0.0</td>\n",
       "      <td>0.0</td>\n",
       "      <td>0.0</td>\n",
       "      <td>None</td>\n",
       "      <td>2021-09-29 02:00:00</td>\n",
       "    </tr>\n",
       "    <tr>\n",
       "      <th>3</th>\n",
       "      <td>0.0</td>\n",
       "      <td>0.0</td>\n",
       "      <td>0.0</td>\n",
       "      <td>None</td>\n",
       "      <td>2021-09-29 03:00:00</td>\n",
       "    </tr>\n",
       "    <tr>\n",
       "      <th>4</th>\n",
       "      <td>0.0</td>\n",
       "      <td>0.0</td>\n",
       "      <td>0.0</td>\n",
       "      <td>None</td>\n",
       "      <td>2021-09-29 04:00:00</td>\n",
       "    </tr>\n",
       "  </tbody>\n",
       "</table>\n",
       "</div>"
      ],
      "text/plain": [
       "   Normal (kWh)  Horário Económico (kWh)  Autoconsumo (kWh)  \\\n",
       "0           0.0                      0.0                0.0   \n",
       "1           0.0                      0.0                0.0   \n",
       "2           0.0                      0.0                0.0   \n",
       "3           0.0                      0.0                0.0   \n",
       "4           0.0                      0.0                0.0   \n",
       "\n",
       "  Injeção na rede (kWh)          Data & Hora  \n",
       "0                  None  2021-09-29 00:00:00  \n",
       "1                  None  2021-09-29 01:00:00  \n",
       "2                  None  2021-09-29 02:00:00  \n",
       "3                  None  2021-09-29 03:00:00  \n",
       "4                  None  2021-09-29 04:00:00  "
      ]
     },
     "execution_count": 162,
     "metadata": {},
     "output_type": "execute_result"
    }
   ],
   "source": [
    "treino.head()"
   ]
  },
  {
   "cell_type": "code",
   "execution_count": 163,
   "id": "cf55a983",
   "metadata": {},
   "outputs": [],
   "source": [
    "teste = pd.read_csv('energia_2023.csv', encoding='utf-8')\n",
    "teste.drop('Unnamed: 0', axis=1, inplace=True)"
   ]
  },
  {
   "cell_type": "code",
   "execution_count": 164,
   "id": "a68734a0",
   "metadata": {},
   "outputs": [],
   "source": [
    "import numpy as np\n",
    "\n",
    "import ants\n",
    "\n",
    "import xgboost as xgb\n",
    "\n",
    "from sklearn.model_selection import train_test_split\n",
    "from sklearn.model_selection import GridSearchCV\n",
    "\n",
    "\n",
    "from sklearn.metrics import classification_report, ConfusionMatrixDisplay, accuracy_score\n",
    "\n",
    "from sklearn.model_selection import cross_val_score\n",
    "\n",
    "import matplotlib.pyplot as plt\n",
    "import seaborn as sns"
   ]
  },
  {
   "cell_type": "code",
   "execution_count": 165,
   "id": "c0885be4",
   "metadata": {},
   "outputs": [],
   "source": [
    "treino.drop('Data & Hora', axis=1, inplace=True)"
   ]
  },
  {
   "cell_type": "code",
   "execution_count": 166,
   "id": "5405d23f",
   "metadata": {},
   "outputs": [],
   "source": [
    "teste.drop('Data & Hora', axis=1, inplace=True)"
   ]
  },
  {
   "cell_type": "code",
   "execution_count": 167,
   "id": "aadbbad8",
   "metadata": {
    "scrolled": true
   },
   "outputs": [
    {
     "data": {
      "text/plain": [
       "\"#Hot\\nweather_description = pd.get_dummies (treino['weather_description'], drop_first=True)\\ntreino.drop('weather_description', axis=1, inplace=True)\\ntreino = pd.concat ([treino, weather_description], axis=1)\\n\\n#label\""
      ]
     },
     "execution_count": 167,
     "metadata": {},
     "output_type": "execute_result"
    }
   ],
   "source": [
    "'''#Hot\n",
    "weather_description = pd.get_dummies (treino['weather_description'], drop_first=True)\n",
    "treino.drop('weather_description', axis=1, inplace=True)\n",
    "treino = pd.concat ([treino, weather_description], axis=1)\n",
    "\n",
    "#label'''"
   ]
  },
  {
   "cell_type": "code",
   "execution_count": 168,
   "id": "8e4582da",
   "metadata": {},
   "outputs": [
    {
     "data": {
      "text/plain": [
       "\"#Hot\\nweather_description = pd.get_dummies (teste['weather_description'], drop_first=True)\\nteste.drop('weather_description', axis=1, inplace=True)\\nteste = pd.concat ([teste, weather_description], axis=1)\\n\\n#label\""
      ]
     },
     "execution_count": 168,
     "metadata": {},
     "output_type": "execute_result"
    }
   ],
   "source": [
    "'''#Hot\n",
    "weather_description = pd.get_dummies (teste['weather_description'], drop_first=True)\n",
    "teste.drop('weather_description', axis=1, inplace=True)\n",
    "teste = pd.concat ([teste, weather_description], axis=1)\n",
    "\n",
    "#label'''"
   ]
  },
  {
   "cell_type": "code",
   "execution_count": 169,
   "id": "f0ff26d8",
   "metadata": {},
   "outputs": [
    {
     "name": "stdout",
     "output_type": "stream",
     "text": [
      "Injeção na rede (kWh)\n",
      "0    7777\n",
      "3    1103\n",
      "2    1098\n",
      "4     606\n",
      "1     432\n",
      "Name: count, dtype: int64\n"
     ]
    }
   ],
   "source": [
    "# Injeção na rede (kWh) troca do tipo dos valores\n",
    "treino['Injeção na rede (kWh)'].replace({'None': 0, 'Low': 1, 'Medium': 2, 'High': 3, 'Very High': 4}, inplace=True)\n",
    "print(treino['Injeção na rede (kWh)'].value_counts())"
   ]
  },
  {
   "cell_type": "code",
   "execution_count": 170,
   "id": "ab9a1434",
   "metadata": {},
   "outputs": [
    {
     "name": "stdout",
     "output_type": "stream",
     "text": [
      "<class 'pandas.core.frame.DataFrame'>\n",
      "RangeIndex: 11016 entries, 0 to 11015\n",
      "Data columns (total 4 columns):\n",
      " #   Column                   Non-Null Count  Dtype  \n",
      "---  ------                   --------------  -----  \n",
      " 0   Normal (kWh)             11016 non-null  float64\n",
      " 1   Horário Económico (kWh)  11016 non-null  float64\n",
      " 2   Autoconsumo (kWh)        11016 non-null  float64\n",
      " 3   Injeção na rede (kWh)    11016 non-null  int64  \n",
      "dtypes: float64(3), int64(1)\n",
      "memory usage: 344.4 KB\n"
     ]
    }
   ],
   "source": [
    "treino.info()"
   ]
  },
  {
   "cell_type": "code",
   "execution_count": 171,
   "id": "2ea6f902",
   "metadata": {},
   "outputs": [],
   "source": [
    "X = treino.drop(['Injeção na rede (kWh)'], axis=1)\n",
    "y = treino['Injeção na rede (kWh)'].to_frame()\n",
    "\n",
    "X_train, X_test, y_train, y_test = train_test_split (X, y, test_size=0.30, random_state=2021)"
   ]
  },
  {
   "cell_type": "code",
   "execution_count": 172,
   "id": "5db44aa5",
   "metadata": {},
   "outputs": [],
   "source": [
    "parameters = { 'min_child_weight': [5, 6, 7]\n",
    "             , 'colsample_bytree': [0, 0.2]\n",
    "             , 'max_depth': [3, 4, 5]\n",
    "             }\n",
    "\n",
    "_xgb = xgb.XGBClassifier(objective='reg:squarederror')\n",
    "clf = GridSearchCV (estimator= _xgb, param_grid= parameters, cv= 5, refit= True, verbose= 3, error_score='raise')"
   ]
  },
  {
   "cell_type": "code",
   "execution_count": 173,
   "id": "d5bc970a",
   "metadata": {},
   "outputs": [
    {
     "name": "stdout",
     "output_type": "stream",
     "text": [
      "Fitting 5 folds for each of 18 candidates, totalling 90 fits\n",
      "[CV 1/5] END colsample_bytree=0, max_depth=3, min_child_weight=5;, score=0.833 total time=   0.1s\n",
      "[CV 2/5] END colsample_bytree=0, max_depth=3, min_child_weight=5;, score=0.846 total time=   0.2s\n",
      "[CV 3/5] END colsample_bytree=0, max_depth=3, min_child_weight=5;, score=0.851 total time=   0.1s\n",
      "[CV 4/5] END colsample_bytree=0, max_depth=3, min_child_weight=5;, score=0.834 total time=   0.1s\n",
      "[CV 5/5] END colsample_bytree=0, max_depth=3, min_child_weight=5;, score=0.835 total time=   0.0s\n",
      "[CV 1/5] END colsample_bytree=0, max_depth=3, min_child_weight=6;, score=0.835 total time=   0.2s\n",
      "[CV 2/5] END colsample_bytree=0, max_depth=3, min_child_weight=6;, score=0.846 total time=   0.1s\n",
      "[CV 3/5] END colsample_bytree=0, max_depth=3, min_child_weight=6;, score=0.848 total time=   0.1s\n",
      "[CV 4/5] END colsample_bytree=0, max_depth=3, min_child_weight=6;, score=0.833 total time=   0.1s\n",
      "[CV 5/5] END colsample_bytree=0, max_depth=3, min_child_weight=6;, score=0.834 total time=   0.1s\n",
      "[CV 1/5] END colsample_bytree=0, max_depth=3, min_child_weight=7;, score=0.835 total time=   0.1s\n",
      "[CV 2/5] END colsample_bytree=0, max_depth=3, min_child_weight=7;, score=0.844 total time=   0.1s\n",
      "[CV 3/5] END colsample_bytree=0, max_depth=3, min_child_weight=7;, score=0.850 total time=   0.0s\n",
      "[CV 4/5] END colsample_bytree=0, max_depth=3, min_child_weight=7;, score=0.831 total time=   0.1s\n",
      "[CV 5/5] END colsample_bytree=0, max_depth=3, min_child_weight=7;, score=0.835 total time=   0.0s\n",
      "[CV 1/5] END colsample_bytree=0, max_depth=4, min_child_weight=5;, score=0.832 total time=   0.1s\n",
      "[CV 2/5] END colsample_bytree=0, max_depth=4, min_child_weight=5;, score=0.843 total time=   0.1s\n",
      "[CV 3/5] END colsample_bytree=0, max_depth=4, min_child_weight=5;, score=0.844 total time=   0.1s\n",
      "[CV 4/5] END colsample_bytree=0, max_depth=4, min_child_weight=5;, score=0.833 total time=   0.1s\n",
      "[CV 5/5] END colsample_bytree=0, max_depth=4, min_child_weight=5;, score=0.832 total time=   0.1s\n",
      "[CV 1/5] END colsample_bytree=0, max_depth=4, min_child_weight=6;, score=0.832 total time=   0.1s\n",
      "[CV 2/5] END colsample_bytree=0, max_depth=4, min_child_weight=6;, score=0.842 total time=   0.1s\n",
      "[CV 3/5] END colsample_bytree=0, max_depth=4, min_child_weight=6;, score=0.842 total time=   0.1s\n",
      "[CV 4/5] END colsample_bytree=0, max_depth=4, min_child_weight=6;, score=0.832 total time=   0.1s\n",
      "[CV 5/5] END colsample_bytree=0, max_depth=4, min_child_weight=6;, score=0.831 total time=   0.1s\n",
      "[CV 1/5] END colsample_bytree=0, max_depth=4, min_child_weight=7;, score=0.833 total time=   0.1s\n",
      "[CV 2/5] END colsample_bytree=0, max_depth=4, min_child_weight=7;, score=0.844 total time=   0.1s\n",
      "[CV 3/5] END colsample_bytree=0, max_depth=4, min_child_weight=7;, score=0.844 total time=   0.1s\n",
      "[CV 4/5] END colsample_bytree=0, max_depth=4, min_child_weight=7;, score=0.831 total time=   0.1s\n",
      "[CV 5/5] END colsample_bytree=0, max_depth=4, min_child_weight=7;, score=0.831 total time=   0.1s\n",
      "[CV 1/5] END colsample_bytree=0, max_depth=5, min_child_weight=5;, score=0.828 total time=   0.1s\n",
      "[CV 2/5] END colsample_bytree=0, max_depth=5, min_child_weight=5;, score=0.841 total time=   0.1s\n",
      "[CV 3/5] END colsample_bytree=0, max_depth=5, min_child_weight=5;, score=0.842 total time=   0.1s\n",
      "[CV 4/5] END colsample_bytree=0, max_depth=5, min_child_weight=5;, score=0.827 total time=   0.1s\n",
      "[CV 5/5] END colsample_bytree=0, max_depth=5, min_child_weight=5;, score=0.830 total time=   0.1s\n",
      "[CV 1/5] END colsample_bytree=0, max_depth=5, min_child_weight=6;, score=0.829 total time=   0.1s\n",
      "[CV 2/5] END colsample_bytree=0, max_depth=5, min_child_weight=6;, score=0.844 total time=   0.1s\n",
      "[CV 3/5] END colsample_bytree=0, max_depth=5, min_child_weight=6;, score=0.845 total time=   0.1s\n",
      "[CV 4/5] END colsample_bytree=0, max_depth=5, min_child_weight=6;, score=0.828 total time=   0.1s\n",
      "[CV 5/5] END colsample_bytree=0, max_depth=5, min_child_weight=6;, score=0.829 total time=   0.1s\n",
      "[CV 1/5] END colsample_bytree=0, max_depth=5, min_child_weight=7;, score=0.830 total time=   0.1s\n",
      "[CV 2/5] END colsample_bytree=0, max_depth=5, min_child_weight=7;, score=0.847 total time=   0.1s\n",
      "[CV 3/5] END colsample_bytree=0, max_depth=5, min_child_weight=7;, score=0.844 total time=   0.1s\n",
      "[CV 4/5] END colsample_bytree=0, max_depth=5, min_child_weight=7;, score=0.827 total time=   0.1s\n",
      "[CV 5/5] END colsample_bytree=0, max_depth=5, min_child_weight=7;, score=0.831 total time=   0.1s\n",
      "[CV 1/5] END colsample_bytree=0.2, max_depth=3, min_child_weight=5;, score=0.833 total time=   0.1s\n",
      "[CV 2/5] END colsample_bytree=0.2, max_depth=3, min_child_weight=5;, score=0.846 total time=   0.1s\n",
      "[CV 3/5] END colsample_bytree=0.2, max_depth=3, min_child_weight=5;, score=0.851 total time=   0.1s\n",
      "[CV 4/5] END colsample_bytree=0.2, max_depth=3, min_child_weight=5;, score=0.834 total time=   0.1s\n",
      "[CV 5/5] END colsample_bytree=0.2, max_depth=3, min_child_weight=5;, score=0.835 total time=   0.1s\n",
      "[CV 1/5] END colsample_bytree=0.2, max_depth=3, min_child_weight=6;, score=0.835 total time=   0.2s\n",
      "[CV 2/5] END colsample_bytree=0.2, max_depth=3, min_child_weight=6;, score=0.846 total time=   0.0s\n",
      "[CV 3/5] END colsample_bytree=0.2, max_depth=3, min_child_weight=6;, score=0.848 total time=   0.1s\n",
      "[CV 4/5] END colsample_bytree=0.2, max_depth=3, min_child_weight=6;, score=0.833 total time=   0.1s\n",
      "[CV 5/5] END colsample_bytree=0.2, max_depth=3, min_child_weight=6;, score=0.834 total time=   0.1s\n",
      "[CV 1/5] END colsample_bytree=0.2, max_depth=3, min_child_weight=7;, score=0.835 total time=   0.0s\n",
      "[CV 2/5] END colsample_bytree=0.2, max_depth=3, min_child_weight=7;, score=0.844 total time=   0.1s\n",
      "[CV 3/5] END colsample_bytree=0.2, max_depth=3, min_child_weight=7;, score=0.850 total time=   0.1s\n",
      "[CV 4/5] END colsample_bytree=0.2, max_depth=3, min_child_weight=7;, score=0.831 total time=   0.1s\n",
      "[CV 5/5] END colsample_bytree=0.2, max_depth=3, min_child_weight=7;, score=0.835 total time=   0.1s\n",
      "[CV 1/5] END colsample_bytree=0.2, max_depth=4, min_child_weight=5;, score=0.832 total time=   0.1s\n",
      "[CV 2/5] END colsample_bytree=0.2, max_depth=4, min_child_weight=5;, score=0.843 total time=   0.1s\n",
      "[CV 3/5] END colsample_bytree=0.2, max_depth=4, min_child_weight=5;, score=0.844 total time=   0.1s\n",
      "[CV 4/5] END colsample_bytree=0.2, max_depth=4, min_child_weight=5;, score=0.833 total time=   0.1s\n",
      "[CV 5/5] END colsample_bytree=0.2, max_depth=4, min_child_weight=5;, score=0.832 total time=   0.1s\n",
      "[CV 1/5] END colsample_bytree=0.2, max_depth=4, min_child_weight=6;, score=0.832 total time=   0.1s\n",
      "[CV 2/5] END colsample_bytree=0.2, max_depth=4, min_child_weight=6;, score=0.842 total time=   0.1s\n",
      "[CV 3/5] END colsample_bytree=0.2, max_depth=4, min_child_weight=6;, score=0.842 total time=   0.1s\n",
      "[CV 4/5] END colsample_bytree=0.2, max_depth=4, min_child_weight=6;, score=0.832 total time=   0.1s\n",
      "[CV 5/5] END colsample_bytree=0.2, max_depth=4, min_child_weight=6;, score=0.831 total time=   0.1s\n",
      "[CV 1/5] END colsample_bytree=0.2, max_depth=4, min_child_weight=7;, score=0.833 total time=   0.1s\n",
      "[CV 2/5] END colsample_bytree=0.2, max_depth=4, min_child_weight=7;, score=0.844 total time=   0.1s\n",
      "[CV 3/5] END colsample_bytree=0.2, max_depth=4, min_child_weight=7;, score=0.844 total time=   0.2s\n",
      "[CV 4/5] END colsample_bytree=0.2, max_depth=4, min_child_weight=7;, score=0.831 total time=   0.1s\n",
      "[CV 5/5] END colsample_bytree=0.2, max_depth=4, min_child_weight=7;, score=0.831 total time=   0.1s\n",
      "[CV 1/5] END colsample_bytree=0.2, max_depth=5, min_child_weight=5;, score=0.828 total time=   0.1s\n",
      "[CV 2/5] END colsample_bytree=0.2, max_depth=5, min_child_weight=5;, score=0.841 total time=   0.1s\n",
      "[CV 3/5] END colsample_bytree=0.2, max_depth=5, min_child_weight=5;, score=0.842 total time=   0.2s\n",
      "[CV 4/5] END colsample_bytree=0.2, max_depth=5, min_child_weight=5;, score=0.827 total time=   0.1s\n",
      "[CV 5/5] END colsample_bytree=0.2, max_depth=5, min_child_weight=5;, score=0.830 total time=   0.1s\n",
      "[CV 1/5] END colsample_bytree=0.2, max_depth=5, min_child_weight=6;, score=0.829 total time=   0.2s\n",
      "[CV 2/5] END colsample_bytree=0.2, max_depth=5, min_child_weight=6;, score=0.844 total time=   0.2s\n",
      "[CV 3/5] END colsample_bytree=0.2, max_depth=5, min_child_weight=6;, score=0.845 total time=   0.2s\n",
      "[CV 4/5] END colsample_bytree=0.2, max_depth=5, min_child_weight=6;, score=0.828 total time=   0.1s\n",
      "[CV 5/5] END colsample_bytree=0.2, max_depth=5, min_child_weight=6;, score=0.829 total time=   0.2s\n",
      "[CV 1/5] END colsample_bytree=0.2, max_depth=5, min_child_weight=7;, score=0.830 total time=   0.1s\n",
      "[CV 2/5] END colsample_bytree=0.2, max_depth=5, min_child_weight=7;, score=0.847 total time=   0.1s\n",
      "[CV 3/5] END colsample_bytree=0.2, max_depth=5, min_child_weight=7;, score=0.844 total time=   0.1s\n",
      "[CV 4/5] END colsample_bytree=0.2, max_depth=5, min_child_weight=7;, score=0.827 total time=   0.1s\n",
      "[CV 5/5] END colsample_bytree=0.2, max_depth=5, min_child_weight=7;, score=0.831 total time=   0.1s\n"
     ]
    },
    {
     "data": {
      "text/html": [
       "<style>#sk-container-id-7 {color: black;}#sk-container-id-7 pre{padding: 0;}#sk-container-id-7 div.sk-toggleable {background-color: white;}#sk-container-id-7 label.sk-toggleable__label {cursor: pointer;display: block;width: 100%;margin-bottom: 0;padding: 0.3em;box-sizing: border-box;text-align: center;}#sk-container-id-7 label.sk-toggleable__label-arrow:before {content: \"▸\";float: left;margin-right: 0.25em;color: #696969;}#sk-container-id-7 label.sk-toggleable__label-arrow:hover:before {color: black;}#sk-container-id-7 div.sk-estimator:hover label.sk-toggleable__label-arrow:before {color: black;}#sk-container-id-7 div.sk-toggleable__content {max-height: 0;max-width: 0;overflow: hidden;text-align: left;background-color: #f0f8ff;}#sk-container-id-7 div.sk-toggleable__content pre {margin: 0.2em;color: black;border-radius: 0.25em;background-color: #f0f8ff;}#sk-container-id-7 input.sk-toggleable__control:checked~div.sk-toggleable__content {max-height: 200px;max-width: 100%;overflow: auto;}#sk-container-id-7 input.sk-toggleable__control:checked~label.sk-toggleable__label-arrow:before {content: \"▾\";}#sk-container-id-7 div.sk-estimator input.sk-toggleable__control:checked~label.sk-toggleable__label {background-color: #d4ebff;}#sk-container-id-7 div.sk-label input.sk-toggleable__control:checked~label.sk-toggleable__label {background-color: #d4ebff;}#sk-container-id-7 input.sk-hidden--visually {border: 0;clip: rect(1px 1px 1px 1px);clip: rect(1px, 1px, 1px, 1px);height: 1px;margin: -1px;overflow: hidden;padding: 0;position: absolute;width: 1px;}#sk-container-id-7 div.sk-estimator {font-family: monospace;background-color: #f0f8ff;border: 1px dotted black;border-radius: 0.25em;box-sizing: border-box;margin-bottom: 0.5em;}#sk-container-id-7 div.sk-estimator:hover {background-color: #d4ebff;}#sk-container-id-7 div.sk-parallel-item::after {content: \"\";width: 100%;border-bottom: 1px solid gray;flex-grow: 1;}#sk-container-id-7 div.sk-label:hover label.sk-toggleable__label {background-color: #d4ebff;}#sk-container-id-7 div.sk-serial::before {content: \"\";position: absolute;border-left: 1px solid gray;box-sizing: border-box;top: 0;bottom: 0;left: 50%;z-index: 0;}#sk-container-id-7 div.sk-serial {display: flex;flex-direction: column;align-items: center;background-color: white;padding-right: 0.2em;padding-left: 0.2em;position: relative;}#sk-container-id-7 div.sk-item {position: relative;z-index: 1;}#sk-container-id-7 div.sk-parallel {display: flex;align-items: stretch;justify-content: center;background-color: white;position: relative;}#sk-container-id-7 div.sk-item::before, #sk-container-id-7 div.sk-parallel-item::before {content: \"\";position: absolute;border-left: 1px solid gray;box-sizing: border-box;top: 0;bottom: 0;left: 50%;z-index: -1;}#sk-container-id-7 div.sk-parallel-item {display: flex;flex-direction: column;z-index: 1;position: relative;background-color: white;}#sk-container-id-7 div.sk-parallel-item:first-child::after {align-self: flex-end;width: 50%;}#sk-container-id-7 div.sk-parallel-item:last-child::after {align-self: flex-start;width: 50%;}#sk-container-id-7 div.sk-parallel-item:only-child::after {width: 0;}#sk-container-id-7 div.sk-dashed-wrapped {border: 1px dashed gray;margin: 0 0.4em 0.5em 0.4em;box-sizing: border-box;padding-bottom: 0.4em;background-color: white;}#sk-container-id-7 div.sk-label label {font-family: monospace;font-weight: bold;display: inline-block;line-height: 1.2em;}#sk-container-id-7 div.sk-label-container {text-align: center;}#sk-container-id-7 div.sk-container {/* jupyter's `normalize.less` sets `[hidden] { display: none; }` but bootstrap.min.css set `[hidden] { display: none !important; }` so we also need the `!important` here to be able to override the default hidden behavior on the sphinx rendered scikit-learn.org. See: https://github.com/scikit-learn/scikit-learn/issues/21755 */display: inline-block !important;position: relative;}#sk-container-id-7 div.sk-text-repr-fallback {display: none;}</style><div id=\"sk-container-id-7\" class=\"sk-top-container\"><div class=\"sk-text-repr-fallback\"><pre>XGBClassifier(base_score=None, booster=None, callbacks=None,\n",
       "              colsample_bylevel=None, colsample_bynode=None,\n",
       "              colsample_bytree=None, device=None, early_stopping_rounds=None,\n",
       "              enable_categorical=False, eval_metric=None, feature_types=None,\n",
       "              gamma=None, grow_policy=None, importance_type=None,\n",
       "              interaction_constraints=None, learning_rate=None, max_bin=None,\n",
       "              max_cat_threshold=None, max_cat_to_onehot=None,\n",
       "              max_delta_step=None, max_depth=None, max_leaves=None,\n",
       "              min_child_weight=None, missing=nan, monotone_constraints=None,\n",
       "              multi_strategy=None, n_estimators=None, n_jobs=None,\n",
       "              num_parallel_tree=None, objective=&#x27;multi:softprob&#x27;, ...)</pre><b>In a Jupyter environment, please rerun this cell to show the HTML representation or trust the notebook. <br />On GitHub, the HTML representation is unable to render, please try loading this page with nbviewer.org.</b></div><div class=\"sk-container\" hidden><div class=\"sk-item\"><div class=\"sk-estimator sk-toggleable\"><input class=\"sk-toggleable__control sk-hidden--visually\" id=\"sk-estimator-id-7\" type=\"checkbox\" checked><label for=\"sk-estimator-id-7\" class=\"sk-toggleable__label sk-toggleable__label-arrow\">XGBClassifier</label><div class=\"sk-toggleable__content\"><pre>XGBClassifier(base_score=None, booster=None, callbacks=None,\n",
       "              colsample_bylevel=None, colsample_bynode=None,\n",
       "              colsample_bytree=None, device=None, early_stopping_rounds=None,\n",
       "              enable_categorical=False, eval_metric=None, feature_types=None,\n",
       "              gamma=None, grow_policy=None, importance_type=None,\n",
       "              interaction_constraints=None, learning_rate=None, max_bin=None,\n",
       "              max_cat_threshold=None, max_cat_to_onehot=None,\n",
       "              max_delta_step=None, max_depth=None, max_leaves=None,\n",
       "              min_child_weight=None, missing=nan, monotone_constraints=None,\n",
       "              multi_strategy=None, n_estimators=None, n_jobs=None,\n",
       "              num_parallel_tree=None, objective=&#x27;multi:softprob&#x27;, ...)</pre></div></div></div></div></div>"
      ],
      "text/plain": [
       "XGBClassifier(base_score=None, booster=None, callbacks=None,\n",
       "              colsample_bylevel=None, colsample_bynode=None,\n",
       "              colsample_bytree=None, device=None, early_stopping_rounds=None,\n",
       "              enable_categorical=False, eval_metric=None, feature_types=None,\n",
       "              gamma=None, grow_policy=None, importance_type=None,\n",
       "              interaction_constraints=None, learning_rate=None, max_bin=None,\n",
       "              max_cat_threshold=None, max_cat_to_onehot=None,\n",
       "              max_delta_step=None, max_depth=None, max_leaves=None,\n",
       "              min_child_weight=None, missing=nan, monotone_constraints=None,\n",
       "              multi_strategy=None, n_estimators=None, n_jobs=None,\n",
       "              num_parallel_tree=None, objective='multi:softprob', ...)"
      ]
     },
     "execution_count": 173,
     "metadata": {},
     "output_type": "execute_result"
    }
   ],
   "source": [
    "best_clf = clf.fit(X_train, y_train.values.ravel())\n",
    "_xgb.fit (X_train, y_train.values.ravel())"
   ]
  },
  {
   "cell_type": "code",
   "execution_count": 174,
   "id": "e42550a9",
   "metadata": {},
   "outputs": [],
   "source": [
    "def replace_int_with_string(value):\n",
    "    mapping = {0: \"None\"\n",
    "          , 1: \"Low\"\n",
    "          , 2: \"Medium\"\n",
    "          , 3: \"High\"\n",
    "          , 4: \"Very High\"\n",
    "    }\n",
    "    return mapping[value]"
   ]
  },
  {
   "cell_type": "code",
   "execution_count": 175,
   "id": "ef112876",
   "metadata": {},
   "outputs": [],
   "source": [
    "xgb_predictions = _xgb.predict(teste)\n",
    "xgb_predictions = map(lambda x: replace_int_with_string(x), xgb_predictions)"
   ]
  },
  {
   "cell_type": "code",
   "execution_count": 176,
   "id": "cc5fe740",
   "metadata": {},
   "outputs": [],
   "source": [
    "best_predictions = best_clf.predict(teste)\n",
    "best_predictions = map(lambda x: replace_int_with_string(x), best_predictions)"
   ]
  },
  {
   "cell_type": "code",
   "execution_count": 177,
   "id": "c9cbec53",
   "metadata": {},
   "outputs": [],
   "source": [
    "import csv\n",
    "\n",
    "with open('xgboost-energia_2021_[5, 6, 7]_[0, 0.2]_raise.csv', 'w', newline='') as file:\n",
    "    writer = csv.writer( file )\n",
    "    writer.writerow([\"RowId\", \"Result\"])\n",
    "    \n",
    "        \n",
    "    _id = 1\n",
    "    for prediction in xgb_predictions:\n",
    "        writer.writerow([_id, prediction])\n",
    "        _id +=1\n",
    "\n",
    "with open('xgboost-energia-best_2021_[5, 6, 7]_[0, 0.2]_raise.csv', 'w', newline='') as file:\n",
    "    writer = csv.writer( file )\n",
    "    writer.writerow([\"RowId\", \"Result\"])\n",
    "    \n",
    "        \n",
    "    _id = 1\n",
    "    for prediction in best_predictions:\n",
    "        writer.writerow([_id, prediction])\n",
    "        _id +=1"
   ]
  }
 ],
 "metadata": {
  "kernelspec": {
   "display_name": "Python 3 (ipykernel)",
   "language": "python",
   "name": "python3"
  },
  "language_info": {
   "codemirror_mode": {
    "name": "ipython",
    "version": 3
   },
   "file_extension": ".py",
   "mimetype": "text/x-python",
   "name": "python",
   "nbconvert_exporter": "python",
   "pygments_lexer": "ipython3",
   "version": "3.12.1"
  }
 },
 "nbformat": 4,
 "nbformat_minor": 5
}
