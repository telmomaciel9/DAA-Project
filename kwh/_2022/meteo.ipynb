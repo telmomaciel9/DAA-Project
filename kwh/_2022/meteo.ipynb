{
 "cells": [
  {
   "cell_type": "code",
   "execution_count": 1,
   "id": "ea993b73",
   "metadata": {},
   "outputs": [],
   "source": [
    "import pandas as pd\n",
    "import seaborn as sns"
   ]
  },
  {
   "cell_type": "code",
   "execution_count": 2,
   "id": "5da554b5",
   "metadata": {},
   "outputs": [],
   "source": [
    "meteo_2022 = pd.read_csv('meteo_202201-202212.csv', encoding='IBM860')"
   ]
  },
  {
   "cell_type": "code",
   "execution_count": 3,
   "id": "618b8ff6",
   "metadata": {},
   "outputs": [
    {
     "name": "stdout",
     "output_type": "stream",
     "text": [
      "<class 'pandas.core.frame.DataFrame'>\n",
      "RangeIndex: 8760 entries, 0 to 8759\n",
      "Data columns (total 15 columns):\n",
      " #   Column               Non-Null Count  Dtype  \n",
      "---  ------               --------------  -----  \n",
      " 0   dt                   8760 non-null   int64  \n",
      " 1   dt_iso               8760 non-null   object \n",
      " 2   city_name            8760 non-null   object \n",
      " 3   temp                 8760 non-null   float64\n",
      " 4   feels_like           8760 non-null   float64\n",
      " 5   temp_min             8760 non-null   float64\n",
      " 6   temp_max             8760 non-null   float64\n",
      " 7   pressure             8760 non-null   int64  \n",
      " 8   sea_level            0 non-null      float64\n",
      " 9   grnd_level           0 non-null      float64\n",
      " 10  humidity             8760 non-null   int64  \n",
      " 11  wind_speed           8760 non-null   float64\n",
      " 12  rain_1h              1898 non-null   float64\n",
      " 13  clouds_all           8760 non-null   int64  \n",
      " 14  weather_description  8760 non-null   object \n",
      "dtypes: float64(8), int64(4), object(3)\n",
      "memory usage: 1.0+ MB\n"
     ]
    }
   ],
   "source": [
    "meteo_2022.info()"
   ]
  },
  {
   "cell_type": "code",
   "execution_count": 4,
   "id": "cb93f1e3",
   "metadata": {
    "scrolled": false
   },
   "outputs": [
    {
     "data": {
      "text/plain": [
       "<Axes: >"
      ]
     },
     "execution_count": 4,
     "metadata": {},
     "output_type": "execute_result"
    },
    {
     "data": {
      "image/png": "[encoded data removed]",
      "text/plain": [
       "<Figure size 640x480 with 1 Axes>"
      ]
     },
     "metadata": {},
     "output_type": "display_data"
    }
   ],
   "source": [
    "sns.heatmap(meteo_2022.isnull(), yticklabels=False, cbar=False, cmap='viridis')"
   ]
  },
  {
   "cell_type": "code",
   "execution_count": 5,
   "id": "bd5a87e3",
   "metadata": {},
   "outputs": [],
   "source": [
    "meteo_2022.drop('sea_level', axis=1, inplace=True)\n",
    "meteo_2022.drop('grnd_level', axis=1, inplace=True)\n",
    "\n",
    "#or missing values => 0...\n",
    "meteo_2022.drop('rain_1h', axis=1, inplace=True)\n",
    "#meteo_2022['rain_1h'].fillna(0, inplace=True)"
   ]
  },
  {
   "cell_type": "code",
   "execution_count": 6,
   "id": "630b1d87",
   "metadata": {
    "scrolled": true
   },
   "outputs": [
    {
     "name": "stdout",
     "output_type": "stream",
     "text": [
      "<class 'pandas.core.frame.DataFrame'>\n",
      "RangeIndex: 8760 entries, 0 to 8759\n",
      "Data columns (total 12 columns):\n",
      " #   Column               Non-Null Count  Dtype  \n",
      "---  ------               --------------  -----  \n",
      " 0   dt                   8760 non-null   int64  \n",
      " 1   dt_iso               8760 non-null   object \n",
      " 2   city_name            8760 non-null   object \n",
      " 3   temp                 8760 non-null   float64\n",
      " 4   feels_like           8760 non-null   float64\n",
      " 5   temp_min             8760 non-null   float64\n",
      " 6   temp_max             8760 non-null   float64\n",
      " 7   pressure             8760 non-null   int64  \n",
      " 8   humidity             8760 non-null   int64  \n",
      " 9   wind_speed           8760 non-null   float64\n",
      " 10  clouds_all           8760 non-null   int64  \n",
      " 11  weather_description  8760 non-null   object \n",
      "dtypes: float64(5), int64(4), object(3)\n",
      "memory usage: 821.4+ KB\n"
     ]
    }
   ],
   "source": [
    "meteo_2022.info()"
   ]
  },
  {
   "cell_type": "code",
   "execution_count": 7,
   "id": "a95c7987",
   "metadata": {},
   "outputs": [
    {
     "data": {
      "text/plain": [
       "0"
      ]
     },
     "execution_count": 7,
     "metadata": {},
     "output_type": "execute_result"
    }
   ],
   "source": [
    "meteo_2022.duplicated().sum()"
   ]
  },
  {
   "cell_type": "code",
   "execution_count": 8,
   "id": "cc9517da",
   "metadata": {},
   "outputs": [
    {
     "data": {
      "text/html": [
       "<div>\n",
       "<style scoped>\n",
       "    .dataframe tbody tr th:only-of-type {\n",
       "        vertical-align: middle;\n",
       "    }\n",
       "\n",
       "    .dataframe tbody tr th {\n",
       "        vertical-align: top;\n",
       "    }\n",
       "\n",
       "    .dataframe thead th {\n",
       "        text-align: right;\n",
       "    }\n",
       "</style>\n",
       "<table border=\"1\" class=\"dataframe\">\n",
       "  <thead>\n",
       "    <tr style=\"text-align: right;\">\n",
       "      <th></th>\n",
       "      <th>dt</th>\n",
       "      <th>dt_iso</th>\n",
       "      <th>city_name</th>\n",
       "      <th>temp</th>\n",
       "      <th>feels_like</th>\n",
       "      <th>temp_min</th>\n",
       "      <th>temp_max</th>\n",
       "      <th>pressure</th>\n",
       "      <th>humidity</th>\n",
       "      <th>wind_speed</th>\n",
       "      <th>clouds_all</th>\n",
       "      <th>weather_description</th>\n",
       "    </tr>\n",
       "  </thead>\n",
       "  <tbody>\n",
       "    <tr>\n",
       "      <th>0</th>\n",
       "      <td>1640995200</td>\n",
       "      <td>2022-01-01 00:00:00 +0000 UTC</td>\n",
       "      <td>local</td>\n",
       "      <td>16.59</td>\n",
       "      <td>16.00</td>\n",
       "      <td>16.21</td>\n",
       "      <td>16.72</td>\n",
       "      <td>1024</td>\n",
       "      <td>65</td>\n",
       "      <td>3.15</td>\n",
       "      <td>97</td>\n",
       "      <td>overcast clouds</td>\n",
       "    </tr>\n",
       "    <tr>\n",
       "      <th>1</th>\n",
       "      <td>1640998800</td>\n",
       "      <td>2022-01-01 01:00:00 +0000 UTC</td>\n",
       "      <td>local</td>\n",
       "      <td>16.59</td>\n",
       "      <td>16.00</td>\n",
       "      <td>16.21</td>\n",
       "      <td>16.72</td>\n",
       "      <td>1024</td>\n",
       "      <td>65</td>\n",
       "      <td>3.14</td>\n",
       "      <td>58</td>\n",
       "      <td>broken clouds</td>\n",
       "    </tr>\n",
       "    <tr>\n",
       "      <th>2</th>\n",
       "      <td>1641002400</td>\n",
       "      <td>2022-01-01 02:00:00 +0000 UTC</td>\n",
       "      <td>local</td>\n",
       "      <td>16.59</td>\n",
       "      <td>16.03</td>\n",
       "      <td>15.67</td>\n",
       "      <td>16.72</td>\n",
       "      <td>1024</td>\n",
       "      <td>66</td>\n",
       "      <td>3.12</td>\n",
       "      <td>23</td>\n",
       "      <td>few clouds</td>\n",
       "    </tr>\n",
       "    <tr>\n",
       "      <th>3</th>\n",
       "      <td>1641006000</td>\n",
       "      <td>2022-01-01 03:00:00 +0000 UTC</td>\n",
       "      <td>local</td>\n",
       "      <td>13.59</td>\n",
       "      <td>12.75</td>\n",
       "      <td>11.61</td>\n",
       "      <td>16.16</td>\n",
       "      <td>1023</td>\n",
       "      <td>67</td>\n",
       "      <td>3.08</td>\n",
       "      <td>22</td>\n",
       "      <td>few clouds</td>\n",
       "    </tr>\n",
       "    <tr>\n",
       "      <th>4</th>\n",
       "      <td>1641009600</td>\n",
       "      <td>2022-01-01 04:00:00 +0000 UTC</td>\n",
       "      <td>local</td>\n",
       "      <td>14.97</td>\n",
       "      <td>14.27</td>\n",
       "      <td>14.72</td>\n",
       "      <td>15.66</td>\n",
       "      <td>1023</td>\n",
       "      <td>67</td>\n",
       "      <td>3.12</td>\n",
       "      <td>15</td>\n",
       "      <td>few clouds</td>\n",
       "    </tr>\n",
       "  </tbody>\n",
       "</table>\n",
       "</div>"
      ],
      "text/plain": [
       "           dt                         dt_iso city_name   temp  feels_like  \\\n",
       "0  1640995200  2022-01-01 00:00:00 +0000 UTC     local  16.59       16.00   \n",
       "1  1640998800  2022-01-01 01:00:00 +0000 UTC     local  16.59       16.00   \n",
       "2  1641002400  2022-01-01 02:00:00 +0000 UTC     local  16.59       16.03   \n",
       "3  1641006000  2022-01-01 03:00:00 +0000 UTC     local  13.59       12.75   \n",
       "4  1641009600  2022-01-01 04:00:00 +0000 UTC     local  14.97       14.27   \n",
       "\n",
       "   temp_min  temp_max  pressure  humidity  wind_speed  clouds_all  \\\n",
       "0     16.21     16.72      1024        65        3.15          97   \n",
       "1     16.21     16.72      1024        65        3.14          58   \n",
       "2     15.67     16.72      1024        66        3.12          23   \n",
       "3     11.61     16.16      1023        67        3.08          22   \n",
       "4     14.72     15.66      1023        67        3.12          15   \n",
       "\n",
       "  weather_description  \n",
       "0     overcast clouds  \n",
       "1       broken clouds  \n",
       "2          few clouds  \n",
       "3          few clouds  \n",
       "4          few clouds  "
      ]
     },
     "execution_count": 8,
     "metadata": {},
     "output_type": "execute_result"
    }
   ],
   "source": [
    "meteo_2022.head()"
   ]
  },
  {
   "cell_type": "code",
   "execution_count": 9,
   "id": "32c1a791",
   "metadata": {},
   "outputs": [],
   "source": [
    "lista = []\n",
    "for i in range (meteo_2022['dt_iso'].size):\n",
    "    s = meteo_2022['dt_iso'][i]\n",
    "    lista.append (s[0:19])\n",
    "    \n",
    "meteo_2022['dt_iso'] = lista\n",
    "meteo_2022['dt_iso'] = pd.to_datetime (meteo_2022['dt_iso'], format = '%Y-%m-%d %H:%M:%S')"
   ]
  },
  {
   "cell_type": "code",
   "execution_count": 10,
   "id": "7d53815c",
   "metadata": {
    "scrolled": true
   },
   "outputs": [
    {
     "data": {
      "text/html": [
       "<div>\n",
       "<style scoped>\n",
       "    .dataframe tbody tr th:only-of-type {\n",
       "        vertical-align: middle;\n",
       "    }\n",
       "\n",
       "    .dataframe tbody tr th {\n",
       "        vertical-align: top;\n",
       "    }\n",
       "\n",
       "    .dataframe thead th {\n",
       "        text-align: right;\n",
       "    }\n",
       "</style>\n",
       "<table border=\"1\" class=\"dataframe\">\n",
       "  <thead>\n",
       "    <tr style=\"text-align: right;\">\n",
       "      <th></th>\n",
       "      <th>dt</th>\n",
       "      <th>dt_iso</th>\n",
       "      <th>city_name</th>\n",
       "      <th>temp</th>\n",
       "      <th>feels_like</th>\n",
       "      <th>temp_min</th>\n",
       "      <th>temp_max</th>\n",
       "      <th>pressure</th>\n",
       "      <th>humidity</th>\n",
       "      <th>wind_speed</th>\n",
       "      <th>clouds_all</th>\n",
       "      <th>weather_description</th>\n",
       "    </tr>\n",
       "  </thead>\n",
       "  <tbody>\n",
       "    <tr>\n",
       "      <th>0</th>\n",
       "      <td>1640995200</td>\n",
       "      <td>2022-01-01 00:00:00</td>\n",
       "      <td>local</td>\n",
       "      <td>16.59</td>\n",
       "      <td>16.00</td>\n",
       "      <td>16.21</td>\n",
       "      <td>16.72</td>\n",
       "      <td>1024</td>\n",
       "      <td>65</td>\n",
       "      <td>3.15</td>\n",
       "      <td>97</td>\n",
       "      <td>overcast clouds</td>\n",
       "    </tr>\n",
       "    <tr>\n",
       "      <th>1</th>\n",
       "      <td>1640998800</td>\n",
       "      <td>2022-01-01 01:00:00</td>\n",
       "      <td>local</td>\n",
       "      <td>16.59</td>\n",
       "      <td>16.00</td>\n",
       "      <td>16.21</td>\n",
       "      <td>16.72</td>\n",
       "      <td>1024</td>\n",
       "      <td>65</td>\n",
       "      <td>3.14</td>\n",
       "      <td>58</td>\n",
       "      <td>broken clouds</td>\n",
       "    </tr>\n",
       "    <tr>\n",
       "      <th>2</th>\n",
       "      <td>1641002400</td>\n",
       "      <td>2022-01-01 02:00:00</td>\n",
       "      <td>local</td>\n",
       "      <td>16.59</td>\n",
       "      <td>16.03</td>\n",
       "      <td>15.67</td>\n",
       "      <td>16.72</td>\n",
       "      <td>1024</td>\n",
       "      <td>66</td>\n",
       "      <td>3.12</td>\n",
       "      <td>23</td>\n",
       "      <td>few clouds</td>\n",
       "    </tr>\n",
       "    <tr>\n",
       "      <th>3</th>\n",
       "      <td>1641006000</td>\n",
       "      <td>2022-01-01 03:00:00</td>\n",
       "      <td>local</td>\n",
       "      <td>13.59</td>\n",
       "      <td>12.75</td>\n",
       "      <td>11.61</td>\n",
       "      <td>16.16</td>\n",
       "      <td>1023</td>\n",
       "      <td>67</td>\n",
       "      <td>3.08</td>\n",
       "      <td>22</td>\n",
       "      <td>few clouds</td>\n",
       "    </tr>\n",
       "    <tr>\n",
       "      <th>4</th>\n",
       "      <td>1641009600</td>\n",
       "      <td>2022-01-01 04:00:00</td>\n",
       "      <td>local</td>\n",
       "      <td>14.97</td>\n",
       "      <td>14.27</td>\n",
       "      <td>14.72</td>\n",
       "      <td>15.66</td>\n",
       "      <td>1023</td>\n",
       "      <td>67</td>\n",
       "      <td>3.12</td>\n",
       "      <td>15</td>\n",
       "      <td>few clouds</td>\n",
       "    </tr>\n",
       "  </tbody>\n",
       "</table>\n",
       "</div>"
      ],
      "text/plain": [
       "           dt              dt_iso city_name   temp  feels_like  temp_min  \\\n",
       "0  1640995200 2022-01-01 00:00:00     local  16.59       16.00     16.21   \n",
       "1  1640998800 2022-01-01 01:00:00     local  16.59       16.00     16.21   \n",
       "2  1641002400 2022-01-01 02:00:00     local  16.59       16.03     15.67   \n",
       "3  1641006000 2022-01-01 03:00:00     local  13.59       12.75     11.61   \n",
       "4  1641009600 2022-01-01 04:00:00     local  14.97       14.27     14.72   \n",
       "\n",
       "   temp_max  pressure  humidity  wind_speed  clouds_all weather_description  \n",
       "0     16.72      1024        65        3.15          97     overcast clouds  \n",
       "1     16.72      1024        65        3.14          58       broken clouds  \n",
       "2     16.72      1024        66        3.12          23          few clouds  \n",
       "3     16.16      1023        67        3.08          22          few clouds  \n",
       "4     15.66      1023        67        3.12          15          few clouds  "
      ]
     },
     "execution_count": 10,
     "metadata": {},
     "output_type": "execute_result"
    }
   ],
   "source": [
    "meteo_2022.head()"
   ]
  },
  {
   "cell_type": "code",
   "execution_count": 11,
   "id": "e0bbf170",
   "metadata": {},
   "outputs": [],
   "source": [
    "meteo_2022.drop('dt', axis=1, inplace=True)"
   ]
  },
  {
   "cell_type": "code",
   "execution_count": 12,
   "id": "e19efdb7",
   "metadata": {
    "scrolled": false
   },
   "outputs": [
    {
     "data": {
      "text/plain": [
       "<Axes: >"
      ]
     },
     "execution_count": 12,
     "metadata": {},
     "output_type": "execute_result"
    },
    {
     "data": {
      "image/png": "[encoded data removed]",
      "text/plain": [
       "<Figure size 640x480 with 1 Axes>"
      ]
     },
     "metadata": {},
     "output_type": "display_data"
    }
   ],
   "source": [
    "meteo_2022['city_name'].hist()"
   ]
  },
  {
   "cell_type": "code",
   "execution_count": 13,
   "id": "664b0699",
   "metadata": {},
   "outputs": [],
   "source": [
    "meteo_2022.drop('city_name', axis=1, inplace=True)"
   ]
  },
  {
   "cell_type": "code",
   "execution_count": 14,
   "id": "4e633481",
   "metadata": {},
   "outputs": [],
   "source": [
    "meteo_2022.to_csv(\"meteo_2022.csv\", encoding='utf-8')"
   ]
  }
 ],
 "metadata": {
  "kernelspec": {
   "display_name": "Python 3 (ipykernel)",
   "language": "python",
   "name": "python3"
  },
  "language_info": {
   "codemirror_mode": {
    "name": "ipython",
    "version": 3
   },
   "file_extension": ".py",
   "mimetype": "text/x-python",
   "name": "python",
   "nbconvert_exporter": "python",
   "pygments_lexer": "ipython3",
   "version": "3.11.5"
  }
 },
 "nbformat": 4,
 "nbformat_minor": 5
}
