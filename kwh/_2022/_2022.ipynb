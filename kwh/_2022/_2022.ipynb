{
 "cells": [
  {
   "cell_type": "code",
   "execution_count": 1,
   "id": "46a581d4",
   "metadata": {},
   "outputs": [],
   "source": [
    "import pandas as pd"
   ]
  },
  {
   "cell_type": "code",
   "execution_count": 2,
   "id": "b49524c4",
   "metadata": {},
   "outputs": [],
   "source": [
    "energia_2022 = pd.read_csv('energia_2022.csv', encoding='utf-8')\n",
    "energia_2022['Injeção na rede (kWh)'].fillna(\"None\", inplace=True)"
   ]
  },
  {
   "cell_type": "code",
   "execution_count": 3,
   "id": "605cc127",
   "metadata": {},
   "outputs": [],
   "source": [
    "meteo_2022 = pd.read_csv('meteo_2022.csv', encoding='utf-8')\n",
    "meteo_2022.rename(columns={'dt_iso': 'Data & Hora'}, inplace=True)"
   ]
  },
  {
   "cell_type": "code",
   "execution_count": 4,
   "id": "af6cb418",
   "metadata": {},
   "outputs": [
    {
     "name": "stdout",
     "output_type": "stream",
     "text": [
      "<class 'pandas.core.frame.DataFrame'>\n",
      "RangeIndex: 8760 entries, 0 to 8759\n",
      "Data columns (total 6 columns):\n",
      " #   Column                   Non-Null Count  Dtype  \n",
      "---  ------                   --------------  -----  \n",
      " 0   Unnamed: 0               8760 non-null   int64  \n",
      " 1   Normal (kWh)             8760 non-null   float64\n",
      " 2   Horário Económico (kWh)  8760 non-null   float64\n",
      " 3   Autoconsumo (kWh)        8760 non-null   float64\n",
      " 4   Injeção na rede (kWh)    8760 non-null   object \n",
      " 5   Data & Hora              8760 non-null   object \n",
      "dtypes: float64(3), int64(1), object(2)\n",
      "memory usage: 410.8+ KB\n"
     ]
    }
   ],
   "source": [
    "energia_2022.info()"
   ]
  },
  {
   "cell_type": "code",
   "execution_count": 5,
   "id": "a1771611",
   "metadata": {},
   "outputs": [
    {
     "name": "stdout",
     "output_type": "stream",
     "text": [
      "<class 'pandas.core.frame.DataFrame'>\n",
      "RangeIndex: 8760 entries, 0 to 8759\n",
      "Data columns (total 11 columns):\n",
      " #   Column               Non-Null Count  Dtype  \n",
      "---  ------               --------------  -----  \n",
      " 0   Unnamed: 0           8760 non-null   int64  \n",
      " 1   Data & Hora          8760 non-null   object \n",
      " 2   temp                 8760 non-null   float64\n",
      " 3   feels_like           8760 non-null   float64\n",
      " 4   temp_min             8760 non-null   float64\n",
      " 5   temp_max             8760 non-null   float64\n",
      " 6   pressure             8760 non-null   int64  \n",
      " 7   humidity             8760 non-null   int64  \n",
      " 8   wind_speed           8760 non-null   float64\n",
      " 9   clouds_all           8760 non-null   int64  \n",
      " 10  weather_description  8760 non-null   object \n",
      "dtypes: float64(5), int64(4), object(2)\n",
      "memory usage: 752.9+ KB\n"
     ]
    }
   ],
   "source": [
    "meteo_2022.info()"
   ]
  },
  {
   "cell_type": "code",
   "execution_count": 6,
   "id": "c34ed867",
   "metadata": {},
   "outputs": [],
   "source": [
    "df_2022 = pd.merge(energia_2022, meteo_2022, on='Data & Hora')"
   ]
  },
  {
   "cell_type": "code",
   "execution_count": 7,
   "id": "c4da4183",
   "metadata": {},
   "outputs": [
    {
     "name": "stdout",
     "output_type": "stream",
     "text": [
      "<class 'pandas.core.frame.DataFrame'>\n",
      "RangeIndex: 8760 entries, 0 to 8759\n",
      "Data columns (total 16 columns):\n",
      " #   Column                   Non-Null Count  Dtype  \n",
      "---  ------                   --------------  -----  \n",
      " 0   Unnamed: 0_x             8760 non-null   int64  \n",
      " 1   Normal (kWh)             8760 non-null   float64\n",
      " 2   Horário Económico (kWh)  8760 non-null   float64\n",
      " 3   Autoconsumo (kWh)        8760 non-null   float64\n",
      " 4   Injeção na rede (kWh)    8760 non-null   object \n",
      " 5   Data & Hora              8760 non-null   object \n",
      " 6   Unnamed: 0_y             8760 non-null   int64  \n",
      " 7   temp                     8760 non-null   float64\n",
      " 8   feels_like               8760 non-null   float64\n",
      " 9   temp_min                 8760 non-null   float64\n",
      " 10  temp_max                 8760 non-null   float64\n",
      " 11  pressure                 8760 non-null   int64  \n",
      " 12  humidity                 8760 non-null   int64  \n",
      " 13  wind_speed               8760 non-null   float64\n",
      " 14  clouds_all               8760 non-null   int64  \n",
      " 15  weather_description      8760 non-null   object \n",
      "dtypes: float64(8), int64(5), object(3)\n",
      "memory usage: 1.1+ MB\n"
     ]
    }
   ],
   "source": [
    "df_2022.info()"
   ]
  },
  {
   "cell_type": "code",
   "execution_count": 8,
   "id": "1e8bd2f8",
   "metadata": {},
   "outputs": [],
   "source": [
    "df_2022.drop('Unnamed: 0_x', axis=1, inplace=True)\n",
    "df_2022.drop('Unnamed: 0_y', axis=1, inplace=True)"
   ]
  },
  {
   "cell_type": "code",
   "execution_count": 9,
   "id": "2ebb80d5",
   "metadata": {},
   "outputs": [],
   "source": [
    "df_2022.to_csv(\"_2022.csv\", encoding='utf-8')"
   ]
  }
 ],
 "metadata": {
  "kernelspec": {
   "display_name": "Python 3 (ipykernel)",
   "language": "python",
   "name": "python3"
  },
  "language_info": {
   "codemirror_mode": {
    "name": "ipython",
    "version": 3
   },
   "file_extension": ".py",
   "mimetype": "text/x-python",
   "name": "python",
   "nbconvert_exporter": "python",
   "pygments_lexer": "ipython3",
   "version": "3.11.5"
  }
 },
 "nbformat": 4,
 "nbformat_minor": 5
}
